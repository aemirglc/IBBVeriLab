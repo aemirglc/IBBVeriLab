{
 "cells": [
  {
   "cell_type": "markdown",
   "id": "b1d0b1ff-bdf5-438a-abf2-ab94f60342b7",
   "metadata": {},
   "source": [
    "# Matplotlib\n",
    "\n",
    "### pip install matplotlib\n",
    "ile matplotlib kütüphanemizi indirebiliriz"
   ]
  },
  {
   "cell_type": "code",
   "execution_count": null,
   "id": "19b1bf9b-75ef-4ff1-a13f-984667e0fa94",
   "metadata": {},
   "outputs": [],
   "source": [
    "#Matplotlib kütüphanesi için plt kısaltması kalıplaşmış bir ifadedir.\n",
    "import numpy as np\n",
    "import pandas as pd\n",
    "import matplotlib.pyplot as plt"
   ]
  },
  {
   "cell_type": "code",
   "execution_count": null,
   "id": "b416c2d1-b711-4bbd-a87a-126377a7b477",
   "metadata": {},
   "outputs": [],
   "source": [
    "#Jupyter Notebook'da interaktif işlemler yapmak için kullanılır // şu an kullanmayacağız\n",
    "# %matplotlib notebook"
   ]
  },
  {
   "cell_type": "code",
   "execution_count": null,
   "id": "95221aea-491c-424c-8214-a97251b7591e",
   "metadata": {},
   "outputs": [],
   "source": [
    "array1 = np.array([1,2,3,4,5,6,7,8,9,10])\n",
    "array2 = array1**2"
   ]
  },
  {
   "cell_type": "code",
   "execution_count": null,
   "id": "9d77d91d",
   "metadata": {},
   "outputs": [],
   "source": [
    "array1"
   ]
  },
  {
   "cell_type": "code",
   "execution_count": null,
   "id": "c6d91c61",
   "metadata": {},
   "outputs": [],
   "source": [
    "array2"
   ]
  },
  {
   "cell_type": "code",
   "execution_count": null,
   "id": "551f1b09",
   "metadata": {},
   "outputs": [],
   "source": [
    "#array1 ve array2 ile grafiğimizi çiziyoruz\n",
    "plt.plot(array1,array2)"
   ]
  },
  {
   "cell_type": "code",
   "execution_count": null,
   "id": "1c1dbbad",
   "metadata": {},
   "outputs": [],
   "source": [
    "# plt.plot(x ekseni, y ekseni, özellikler)\n",
    "plt.plot(array1,array2,\"r\")"
   ]
  },
  {
   "cell_type": "code",
   "execution_count": null,
   "id": "0251e4b5",
   "metadata": {},
   "outputs": [],
   "source": [
    "plt.plot(array2,array1,\"r\")"
   ]
  },
  {
   "cell_type": "code",
   "execution_count": null,
   "id": "2922024c",
   "metadata": {},
   "outputs": [],
   "source": [
    "plt.plot(array1,array2,\"r\")\n",
    "plt.xlabel(\"array1\") #x ekseninin ismi\n",
    "plt.ylabel(\"array1'in karesi\") #y ekseninin ismi"
   ]
  },
  {
   "cell_type": "code",
   "execution_count": null,
   "id": "3ae0f010",
   "metadata": {
    "scrolled": true
   },
   "outputs": [],
   "source": [
    "plt.plot(array1,array2,\"r\")\n",
    "plt.xlabel(\"array1\")\n",
    "plt.ylabel(\"array1'in karesi\")\n",
    "plt.title(\"İBB Veri Lab\") #Grafiğin başlığı"
   ]
  },
  {
   "cell_type": "code",
   "execution_count": null,
   "id": "8890d7be",
   "metadata": {},
   "outputs": [],
   "source": [
    "plt.plot(array1,array2,\"r-.\") #Çizgi biçimini değiştirebiliyoruz\n",
    "plt.xlabel(\"array1\")\n",
    "plt.ylabel(\"array1'in karesi\")\n",
    "plt.title(\"Başlık\")"
   ]
  },
  {
   "cell_type": "code",
   "execution_count": null,
   "id": "c2e373f0",
   "metadata": {},
   "outputs": [],
   "source": [
    "plt.plot(array1,array2,\"r.\")\n",
    "plt.xlabel(\"array1\")\n",
    "plt.ylabel(\"array1'in karesi\")\n",
    "plt.title(\"Başlık\")"
   ]
  },
  {
   "cell_type": "code",
   "execution_count": null,
   "id": "4a1c688c",
   "metadata": {},
   "outputs": [],
   "source": [
    "#plt.subplot(Satır, Sütun, Grafik sırası)\n",
    "#plt.subplot ile birden fazla grafik oluşturabiliyoruz\n",
    "plt.subplot(1,2,1)\n",
    "plt.plot(array1,array2,\"r--\")\n",
    "\n",
    "plt.subplot(1,2,2)\n",
    "plt.plot(array2,array1, \"g-.\")"
   ]
  },
  {
   "cell_type": "code",
   "execution_count": null,
   "id": "ae941960",
   "metadata": {},
   "outputs": [],
   "source": [
    "#yeni bir figür oluşturuyoruz\n",
    "fig = plt.figure()"
   ]
  },
  {
   "cell_type": "code",
   "execution_count": null,
   "id": "4dbb125f",
   "metadata": {},
   "outputs": [],
   "source": [
    "#add_axes([soldan başlangıç konumu,aşağıdan yüksekliği,grafiğin genişliği,grafiğin yüksekliği])\n",
    "fig = plt.figure()\n",
    "fig_ax = fig.add_axes([0.0,0.0,2.0,2.0])\n",
    "fig_ax.plot(array1,array2)"
   ]
  },
  {
   "cell_type": "code",
   "execution_count": null,
   "id": "afe3dea1",
   "metadata": {},
   "outputs": [],
   "source": [
    "fig = plt.figure()\n",
    "fig_ax = fig.add_axes([0.0,0.0,1.0,1.0])\n",
    "fig_ax.plot(array1,array2)"
   ]
  },
  {
   "cell_type": "code",
   "execution_count": null,
   "id": "eaf5a8e2",
   "metadata": {},
   "outputs": [],
   "source": [
    "fig = plt.figure()\n",
    "\n",
    "fig_ax = fig.add_axes([0.0,0.0,1.0,1.0])\n",
    "fig_ax.plot(array1,array2)\n",
    "\n",
    "fig_ax2 = fig.add_axes([0.0,0.7,0.5,0.3])\n",
    "fig_ax2.plot(array2,array1)"
   ]
  },
  {
   "cell_type": "code",
   "execution_count": null,
   "id": "2e7dad2a",
   "metadata": {},
   "outputs": [],
   "source": [
    "fig = plt.figure()\n",
    "\n",
    "fig_ax = fig.add_axes([0.0,0.0,1.0,1.0])\n",
    "fig_ax.plot(array1,array2)\n",
    "\n",
    "fig_ax2 = fig.add_axes([0.05,0.5,0.5,0.5])\n",
    "fig_ax2.plot(array2,array1)"
   ]
  },
  {
   "cell_type": "code",
   "execution_count": null,
   "id": "35a8dede",
   "metadata": {},
   "outputs": [],
   "source": [
    "(x,y) = plt.subplots(nrows=1,ncols=4)\n",
    "\n",
    "\n",
    "for i in y:\n",
    "    i.plot(array1,array2)"
   ]
  },
  {
   "cell_type": "code",
   "execution_count": null,
   "id": "d2b0abb6",
   "metadata": {},
   "outputs": [],
   "source": [
    "(x,y) = plt.subplots(nrows=1,ncols=4)\n",
    "\n",
    "\n",
    "for i in y:\n",
    "    i.plot(array1,array2)\n",
    "plt.tight_layout()"
   ]
  },
  {
   "cell_type": "code",
   "execution_count": null,
   "id": "d0aff8fe",
   "metadata": {},
   "outputs": [],
   "source": [
    "fig = plt.figure()\n",
    "\n",
    "ax = fig.add_axes([0.0,0.0,2.0,1.0])\n",
    "\n",
    "ax.plot(array1, array1** 2,label = \"array1'in karesi\") #label ile çizgilerimizin neyi ifade ettiğini\n",
    "ax.plot(array1, array1** 3, label= \"array1'in küpü\")\n",
    "ax.legend() #legend labellarımızın grafikte görünmesini sağlar"
   ]
  },
  {
   "cell_type": "code",
   "execution_count": null,
   "id": "6ca8b8da",
   "metadata": {},
   "outputs": [],
   "source": [
    "fig = plt.figure()\n",
    "\n",
    "ax = fig.add_axes([0.0,0.0,2.0,1.0])\n",
    "\n",
    "ax.plot(array1, array1** 2,label = \"array1**2\")\n",
    "ax.plot(array1, array1** 3, label= \"array1**3 \")\n",
    "ax.legend(loc=6) #loc ile lokasyon belirtebiliriz"
   ]
  },
  {
   "cell_type": "code",
   "execution_count": null,
   "id": "b63aa9f4",
   "metadata": {},
   "outputs": [],
   "source": [
    "fig = plt.figure(figsize=(15,5)) #figsize ile figür boyutumuzu belirtebiliriz\n",
    "\n",
    "ax = fig.add_axes([0.0,0.0,2.0,1.0])\n",
    "\n",
    "ax.plot(array1, array1** 2,label = \"array1**2\")\n",
    "ax.plot(array1, array1** 3, label= \"array1**3 \")\n",
    "ax.legend(loc=1)"
   ]
  },
  {
   "cell_type": "code",
   "execution_count": null,
   "id": "09f23182",
   "metadata": {},
   "outputs": [],
   "source": [
    "fig = plt.figure()\n",
    "\n",
    "ax = fig.add_axes([0.0,0.0,2.0,1.0])\n",
    "\n",
    "ax.plot(array1, array1** 2,label = \"array1**2\")\n",
    "ax.plot(array1, array1** 3, label= \"array1**3 \")\n",
    "ax.legend(loc=2)"
   ]
  },
  {
   "cell_type": "code",
   "execution_count": null,
   "id": "820c213c",
   "metadata": {},
   "outputs": [],
   "source": [
    "fig = plt.figure(dpi=50) #Çözünürlüğü 50 olarak ayarladık\n",
    "\n",
    "ax = fig.add_axes([0.0,0.0,2.0,1.0])\n",
    "\n",
    "ax.plot(array1, array1** 2,label = \"array1**2\")\n",
    "ax.plot(array1, array1** 3, label= \"array1**3 \")\n",
    "ax.legend(loc=2)"
   ]
  },
  {
   "cell_type": "code",
   "execution_count": null,
   "id": "23243758",
   "metadata": {},
   "outputs": [],
   "source": [
    "#dpi = çözünürlük\n",
    "fig = plt.figure(dpi=500)\n",
    "\n",
    "ax = fig.add_axes([0.0,0.0,2.0,1.0])\n",
    "\n",
    "ax.plot(array1, array1** 2,label = \"array1**2\")\n",
    "ax.plot(array1, array1** 3, label= \"array1**3 \")\n",
    "ax.legend(loc=1)"
   ]
  },
  {
   "cell_type": "code",
   "execution_count": null,
   "id": "ec60ff07-f469-4097-a65f-7cfaa447af1f",
   "metadata": {},
   "outputs": [],
   "source": [
    "data = np.random.randn(50)\n",
    "data"
   ]
  },
  {
   "cell_type": "code",
   "execution_count": null,
   "id": "7a0106c4",
   "metadata": {},
   "outputs": [],
   "source": [
    "plt.plot(data,\"r\")\n",
    "plt.title(\"Grafik\")\n",
    "plt.xlabel(\"X Label\")\n",
    "plt.ylabel(\"Y Label\")"
   ]
  },
  {
   "cell_type": "code",
   "execution_count": null,
   "id": "d8b09817",
   "metadata": {},
   "outputs": [],
   "source": [
    "plt.plot(data,\"r.\")\n",
    "plt.title(\"Grafik\")\n",
    "plt.xlabel(\"X Label\")\n",
    "plt.ylabel(\"Y Label\")"
   ]
  },
  {
   "cell_type": "code",
   "execution_count": null,
   "id": "d80b35d5",
   "metadata": {},
   "outputs": [],
   "source": [
    "plt.plot(data,\"r.-\")\n",
    "plt.title(\"Grafik\")\n",
    "plt.xlabel(\"X Label\")\n",
    "plt.ylabel(\"Y Label\")"
   ]
  },
  {
   "cell_type": "code",
   "execution_count": null,
   "id": "ec60b5da-3663-4714-92c2-295663d21403",
   "metadata": {},
   "outputs": [],
   "source": [
    "(x,y) = plt.subplots()\n",
    "y.plot(array1,array1+2, color=\"#333\") #color içinde hex değerler verebiliriz\n",
    "y.plot(array1,array1+4, linewidth=15.0) #linewidth çizgimizin kalınlığını ifade eder\n",
    "y.plot(array1,array1+6, linestyle=\":\") #linestyle çizgimizin stilini ifade eder\n",
    "y.plot(array1,array1+8, linestyle=\":\", marker=\"x\") #marker ile grafik üzerinde işaretlemeler yapabiliriz\n",
    "y.plot(array1,array1+10, linestyle=\":\", marker=\"o\", markerfacecolor=\"black\") #markerfacecolor ile markerlarımızın içini boyayabiliriz\n",
    "y.plot(array1,array1+12, color=\"red\", alpha=0.1) #alpha ile şeffaflık ayarlayabiliriz"
   ]
  },
  {
   "cell_type": "code",
   "execution_count": null,
   "id": "ec5e8a01-7aff-47b4-b210-1528dc1c5fa7",
   "metadata": {},
   "outputs": [],
   "source": [
    "df = pd.read_csv(\"USD_RUB.csv\")"
   ]
  },
  {
   "cell_type": "code",
   "execution_count": null,
   "id": "fad2c48f-a705-45ed-8bfc-9fe42465814d",
   "metadata": {},
   "outputs": [],
   "source": [
    "df"
   ]
  },
  {
   "cell_type": "code",
   "execution_count": null,
   "id": "d5ae4c2a-b63e-4719-b943-eb0452da4ab4",
   "metadata": {},
   "outputs": [],
   "source": [
    "df = df[:30]"
   ]
  },
  {
   "cell_type": "code",
   "execution_count": null,
   "id": "6be5bc75-2634-46ec-a26d-42c6685a113f",
   "metadata": {},
   "outputs": [],
   "source": [
    "df"
   ]
  },
  {
   "cell_type": "code",
   "execution_count": null,
   "id": "326ae47d-11a4-46f5-a6a7-44c641e1a3fc",
   "metadata": {},
   "outputs": [],
   "source": [
    "plt.plot(df.Price)"
   ]
  },
  {
   "cell_type": "code",
   "execution_count": null,
   "id": "ded8a490-0349-4f3b-ab9e-d7dc996cfb39",
   "metadata": {},
   "outputs": [],
   "source": [
    "plt.figure(figsize=(15,3))\n",
    "plt.plot(df.Price)"
   ]
  },
  {
   "cell_type": "code",
   "execution_count": null,
   "id": "fc3f8dd7-cf1e-4c3e-99d5-cf85341d6307",
   "metadata": {},
   "outputs": [],
   "source": [
    "plt.figure(figsize=(15,3))\n",
    "plt.plot(df.Price)\n",
    "plt.title(\"Usd/Ruble\")"
   ]
  },
  {
   "cell_type": "code",
   "execution_count": null,
   "id": "02a06b57-57d2-4089-9b50-3d395570531b",
   "metadata": {},
   "outputs": [],
   "source": [
    "plt.figure(figsize=(15,3))\n",
    "plt.plot(df.Low)\n",
    "plt.title(\"Usd/Ruble\")"
   ]
  },
  {
   "cell_type": "code",
   "execution_count": null,
   "id": "c1fd29fe-5671-400b-894e-8327636cb439",
   "metadata": {},
   "outputs": [],
   "source": [
    "plt.figure(figsize=(10,3))\n",
    "\n",
    "#Low ve High değerleri aynı grafik içinde görmemizi sağlar\n",
    "plt.plot(df.Date,df.Low,\"r\") \n",
    "plt.plot(df.Date,df.High,\"b\")\n",
    "\n",
    "plt.xlabel(\"Tarih\")\n",
    "plt.ylabel(\"Fiyat\")\n",
    "plt.title(\"Usd/Ruble\")"
   ]
  },
  {
   "cell_type": "code",
   "execution_count": null,
   "id": "5d11f103",
   "metadata": {},
   "outputs": [],
   "source": [
    "df = df[:10]"
   ]
  },
  {
   "cell_type": "code",
   "execution_count": null,
   "id": "8957e6d1-effb-43e8-9c93-dc81dd07e70d",
   "metadata": {},
   "outputs": [],
   "source": [
    "plt.figure(figsize=(15,10))\n",
    "\n",
    "plt.subplot(2,1,1)   \n",
    "plt.plot(df.Date,df.Price,\"r\") \n",
    "plt.xlabel(\"Tarih\")\n",
    "plt.ylabel(\"Fiyat\")\n",
    "plt.title(\"USD/Ruble Price\")\n",
    "\n",
    "plt.subplot(2,1,2)\n",
    "plt.plot(df.Date,df[\"Change %\"],\"b\") #Change % float veya int bir değer sahip olmadığın için değişimi doğru bir biçimde göremeyiz\n",
    "plt.xlabel(\"Tarih\")\n",
    "plt.ylabel(\"Değişim Oranı\")\n",
    "plt.title(\"USD/Ruble Değişim Oranı\")"
   ]
  },
  {
   "cell_type": "code",
   "execution_count": null,
   "id": "bf210489-7b76-4bad-9fcf-46cc01f8fb05",
   "metadata": {},
   "outputs": [],
   "source": [
    "df[\"Change\"] = df[\"Price\"] - df[\"Open\"]"
   ]
  },
  {
   "cell_type": "code",
   "execution_count": null,
   "id": "d11822c4-df90-4941-a325-97d27fc83b6b",
   "metadata": {},
   "outputs": [],
   "source": [
    "plt.figure(figsize=(15,5))\n",
    "\n",
    "plt.subplot(2,1,1)   \n",
    "plt.plot(df.Date,df.Price,color=\"red\") \n",
    "plt.ylabel(\"Fiyat\")\n",
    "\n",
    "plt.subplot(2,1,2)\n",
    "plt.plot(df.Date,df.Change,color=\"black\")\n",
    "plt.ylabel(\"Değişim Miktarı\")"
   ]
  },
  {
   "cell_type": "code",
   "execution_count": null,
   "id": "5aef10dc",
   "metadata": {
    "scrolled": true
   },
   "outputs": [],
   "source": [
    "x = plt.figure(figsize=(15,3))\n",
    "\n",
    "plt.plot(df.Date,df.High,\"b\", label=\"high\")\n",
    "plt.plot(df.Date,df.Low,\"r\", label=\"low\") \n",
    "plt.legend()\n",
    "\n",
    "plt.xlabel(\"Tarih\")\n",
    "plt.ylabel(\"Fiyat\")\n",
    "plt.title(\"Usd/Ruble\")"
   ]
  },
  {
   "cell_type": "code",
   "execution_count": null,
   "id": "049ab5b2-0e00-4649-be1c-183f9b9e20b6",
   "metadata": {},
   "outputs": [],
   "source": [
    "#Görselleri kaydetmek için savefig kullanırız \n",
    "x.savefig(\"Usd-Ruble2.jpg\",dpi=50)"
   ]
  },
  {
   "cell_type": "code",
   "execution_count": null,
   "id": "0f442789-3bea-4961-8b9e-f6406cb1e5c8",
   "metadata": {},
   "outputs": [],
   "source": [
    "df"
   ]
  },
  {
   "cell_type": "code",
   "execution_count": null,
   "id": "e728dbe3-275f-46a6-9bd1-19b26a5c4fed",
   "metadata": {},
   "outputs": [],
   "source": [
    "#Kullanıcının aradığı değeri döndüren bir fonksiyon oluşturuyoruz\n",
    "def date():\n",
    "    date = input(\"Aramak istediğiniz ayı giriniz: \")\n",
    "    usd_ruble_date = df[\"Date\"].str.contains(f\"{date}\")\n",
    "    return df[usd_ruble_date]"
   ]
  },
  {
   "cell_type": "code",
   "execution_count": null,
   "id": "3eba012b-ca5e-4a70-8f19-cdc551af913d",
   "metadata": {},
   "outputs": [],
   "source": [
    "#Kullanıcının girdiği değerlerin grafiğini döndürüyoruz\n",
    "x = date()\n",
    "\n",
    "plt.figure(figsize=(15,5))\n",
    "\n",
    "plt.plot(x.Date,x.High,\"r\", label=\"High\") \n",
    "plt.plot(x.Date,x.Low,\"b\", label=\"Low\")\n",
    "plt.legend(loc=1)"
   ]
  },
  {
   "cell_type": "code",
   "execution_count": null,
   "id": "05ad5110-d289-4244-a070-f5f4a705eab4",
   "metadata": {},
   "outputs": [],
   "source": [
    "#Scatter\n",
    "plt.scatter(array1,array2)"
   ]
  },
  {
   "cell_type": "code",
   "execution_count": null,
   "id": "c13c868c-b0fd-4772-929e-93c48fcba84a",
   "metadata": {},
   "outputs": [],
   "source": [
    "array3 = np.random.randint(0,100,50)\n",
    "array3"
   ]
  },
  {
   "cell_type": "code",
   "execution_count": null,
   "id": "4468abfd-7534-4c26-8512-6563d2b845dd",
   "metadata": {},
   "outputs": [],
   "source": [
    "#Histogram\n",
    "plt.hist(array3)"
   ]
  },
  {
   "cell_type": "code",
   "execution_count": null,
   "id": "f278c719",
   "metadata": {},
   "outputs": [],
   "source": [
    "#Bins 20 parça olarak göster\n",
    "plt.hist(array3,bins=20)"
   ]
  },
  {
   "cell_type": "code",
   "execution_count": null,
   "id": "cd6c17f7",
   "metadata": {},
   "outputs": [],
   "source": [
    "#edgecolor kenar renkleri\n",
    "plt.hist(array3,edgecolor=\"yellow\",bins=20)"
   ]
  },
  {
   "cell_type": "code",
   "execution_count": null,
   "id": "c7f12a6d",
   "metadata": {},
   "outputs": [],
   "source": [
    "plt.hist(array3,edgecolor=\"yellow\",bins=20)\n",
    "plt.title(\"Başlık\")"
   ]
  },
  {
   "cell_type": "code",
   "execution_count": null,
   "id": "bbc89c74",
   "metadata": {},
   "outputs": [],
   "source": [
    "#Farklı stilleri görebiliriz\n",
    "print(plt.style.available)"
   ]
  },
  {
   "cell_type": "code",
   "execution_count": null,
   "id": "4c7d0475",
   "metadata": {},
   "outputs": [],
   "source": [
    "#Farklı tema uygulamak için aşağıdaki gibi bir yapı kurabiliriz\n",
    "plt.style.use(\"dark_background\")"
   ]
  },
  {
   "cell_type": "code",
   "execution_count": null,
   "id": "f8abf901",
   "metadata": {},
   "outputs": [],
   "source": [
    "plt.hist(array3,edgecolor=\"yellow\",bins=20)\n",
    "plt.title(\"Başlık\")"
   ]
  },
  {
   "cell_type": "code",
   "execution_count": null,
   "id": "1d0a2711",
   "metadata": {},
   "outputs": [],
   "source": [
    "plt.style.use(\"bmh\")"
   ]
  },
  {
   "cell_type": "code",
   "execution_count": null,
   "id": "c916791e",
   "metadata": {},
   "outputs": [],
   "source": [
    "plt.hist(array3,edgecolor=\"yellow\",bins=20)\n",
    "plt.title(\"Başlık\")"
   ]
  },
  {
   "cell_type": "code",
   "execution_count": null,
   "id": "9d7c832a-3951-488d-8a59-12327d1f959c",
   "metadata": {},
   "outputs": [],
   "source": [
    "array1"
   ]
  },
  {
   "cell_type": "code",
   "execution_count": null,
   "id": "5d4b5e34-b1f9-47a6-a622-1f569c8e7f3e",
   "metadata": {},
   "outputs": [],
   "source": [
    "array2"
   ]
  },
  {
   "cell_type": "code",
   "execution_count": null,
   "id": "684c2f50-5342-4053-b58b-9a9f53e99069",
   "metadata": {},
   "outputs": [],
   "source": [
    "plt.style.use(\"classic\")\n",
    "plt.bar(array1, array2)\n",
    "plt.title(\"Başlık\")"
   ]
  },
  {
   "cell_type": "code",
   "execution_count": null,
   "id": "c97d7780-fa62-4b10-a114-9bc5b938c809",
   "metadata": {},
   "outputs": [],
   "source": []
  }
 ],
 "metadata": {
  "kernelspec": {
   "display_name": "Python 3 (ipykernel)",
   "language": "python",
   "name": "python3"
  },
  "language_info": {
   "codemirror_mode": {
    "name": "ipython",
    "version": 3
   },
   "file_extension": ".py",
   "mimetype": "text/x-python",
   "name": "python",
   "nbconvert_exporter": "python",
   "pygments_lexer": "ipython3",
   "version": "3.9.7"
  }
 },
 "nbformat": 4,
 "nbformat_minor": 5
}
