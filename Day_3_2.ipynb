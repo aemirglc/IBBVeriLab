{
 "cells": [
  {
   "cell_type": "code",
   "execution_count": null,
   "id": "c1bf71ae-a495-4727-8d3b-ceb5822752ad",
   "metadata": {},
   "outputs": [],
   "source": [
    "#https://pandas.pydata.org/docs/reference/api/pandas.date_range.html\n",
    "#https://docs.python.org/3/library/datetime.html"
   ]
  },
  {
   "cell_type": "code",
   "execution_count": 1,
   "id": "1579745d-48d4-4a37-b866-f0f2dcf31e8c",
   "metadata": {},
   "outputs": [
    {
     "name": "stderr",
     "output_type": "stream",
     "text": [
      "/Users/ahmetemirhangulec/opt/anaconda3/lib/python3.9/site-packages/scipy/__init__.py:146: UserWarning: A NumPy version >=1.16.5 and <1.23.0 is required for this version of SciPy (detected version 1.23.1\n",
      "  warnings.warn(f\"A NumPy version >={np_minversion} and <{np_maxversion}\"\n"
     ]
    }
   ],
   "source": [
    "import pandas as pd\n",
    "import numpy as np\n",
    "import matplotlib.pyplot as plt\n",
    "from datetime import datetime\n",
    "import seaborn as sns"
   ]
  },
  {
   "cell_type": "code",
   "execution_count": 2,
   "id": "68b4329a-8565-49b9-91ed-3635a922cff2",
   "metadata": {},
   "outputs": [],
   "source": [
    "#Zaman serisi oluşturuyoruz\n",
    "date=[datetime(2022,8,5),datetime(2022,8,10),datetime(2022,8,15),datetime(2022,8,20),datetime(2022,8,25)] "
   ]
  },
  {
   "cell_type": "code",
   "execution_count": 3,
   "id": "976296c7-31ef-4c01-88b1-1cf6b34a630f",
   "metadata": {},
   "outputs": [
    {
     "data": {
      "text/plain": [
       "[datetime.datetime(2022, 8, 5, 0, 0),\n",
       " datetime.datetime(2022, 8, 10, 0, 0),\n",
       " datetime.datetime(2022, 8, 15, 0, 0),\n",
       " datetime.datetime(2022, 8, 20, 0, 0),\n",
       " datetime.datetime(2022, 8, 25, 0, 0)]"
      ]
     },
     "execution_count": 3,
     "metadata": {},
     "output_type": "execute_result"
    }
   ],
   "source": [
    "date"
   ]
  },
  {
   "cell_type": "code",
   "execution_count": 4,
   "id": "c7c659d7-c0b8-4a98-899d-7b63b98dffac",
   "metadata": {},
   "outputs": [
    {
     "data": {
      "text/plain": [
       "2022-08-05   -1.384629\n",
       "2022-08-10    0.463034\n",
       "2022-08-15   -1.036429\n",
       "2022-08-20   -1.356181\n",
       "2022-08-25    0.081621\n",
       "dtype: float64"
      ]
     },
     "execution_count": 4,
     "metadata": {},
     "output_type": "execute_result"
    }
   ],
   "source": [
    "#Rastgele zaman serilerimizi oluşturuyoruz\n",
    "timeseries=pd.Series(np.random.randn(5),index=date)\n",
    "timeseries"
   ]
  },
  {
   "cell_type": "code",
   "execution_count": 5,
   "id": "0bd80e39-0692-4f7c-97df-a7753a0f15ab",
   "metadata": {},
   "outputs": [
    {
     "data": {
      "text/plain": [
       "DatetimeIndex(['2022-08-05', '2022-08-10', '2022-08-15', '2022-08-20',\n",
       "               '2022-08-25'],\n",
       "              dtype='datetime64[ns]', freq=None)"
      ]
     },
     "execution_count": 5,
     "metadata": {},
     "output_type": "execute_result"
    }
   ],
   "source": [
    "#Zaman serilerimizin indexi\n",
    "timeseries.index"
   ]
  },
  {
   "cell_type": "code",
   "execution_count": 6,
   "id": "453f8164-df74-40be-a559-12d9b2dd7407",
   "metadata": {},
   "outputs": [
    {
     "data": {
      "text/plain": [
       "Timestamp('1900-09-24 00:00:00')"
      ]
     },
     "execution_count": 6,
     "metadata": {},
     "output_type": "execute_result"
    }
   ],
   "source": [
    "#Değerimizi zaman serisine çeviriyoruz\n",
    "pd.to_datetime(\"24 sep 1900\")"
   ]
  },
  {
   "cell_type": "code",
   "execution_count": 7,
   "id": "2ad3a639-ae36-4427-84ee-00e504bde972",
   "metadata": {},
   "outputs": [
    {
     "data": {
      "text/plain": [
       "Timestamp('1900-09-24 00:00:00')"
      ]
     },
     "execution_count": 7,
     "metadata": {},
     "output_type": "execute_result"
    }
   ],
   "source": [
    "pd.to_datetime(\"sep 24 1900\")"
   ]
  },
  {
   "cell_type": "code",
   "execution_count": 8,
   "id": "aa838b5a-5557-4367-9d83-7532931ad86f",
   "metadata": {},
   "outputs": [
    {
     "data": {
      "text/plain": [
       "Timestamp('1900-09-24 00:00:00')"
      ]
     },
     "execution_count": 8,
     "metadata": {},
     "output_type": "execute_result"
    }
   ],
   "source": [
    "pd.to_datetime(\"24.09.1900\")"
   ]
  },
  {
   "cell_type": "code",
   "execution_count": 9,
   "id": "8873a0c2-f742-417d-ac11-876f23e550be",
   "metadata": {},
   "outputs": [
    {
     "data": {
      "text/plain": [
       "Timestamp('1900-09-24 00:00:00')"
      ]
     },
     "execution_count": 9,
     "metadata": {},
     "output_type": "execute_result"
    }
   ],
   "source": [
    "pd.to_datetime(\"24 september 1900\")"
   ]
  },
  {
   "cell_type": "code",
   "execution_count": 10,
   "id": "5689474e-85e4-4f89-99f6-1476757b5c8b",
   "metadata": {},
   "outputs": [],
   "source": [
    "x = pd.to_datetime(\"24 sep 1900\")\n",
    "y = pd.to_datetime(\"sep 24 1900\")\n",
    "z = pd.to_datetime(\"24.09.1900\")"
   ]
  },
  {
   "cell_type": "code",
   "execution_count": 16,
   "id": "a3e3d7a5-c4a5-475a-9b7a-6abbe26805dc",
   "metadata": {},
   "outputs": [
    {
     "data": {
      "text/plain": [
       "True"
      ]
     },
     "execution_count": 16,
     "metadata": {},
     "output_type": "execute_result"
    }
   ],
   "source": [
    "x == y and y ==z"
   ]
  },
  {
   "cell_type": "code",
   "execution_count": 17,
   "id": "9886e0a4-241d-48e7-bcf2-f7852c0f26ff",
   "metadata": {},
   "outputs": [
    {
     "data": {
      "text/plain": [
       "Period('1900-09-24', 'D')"
      ]
     },
     "execution_count": 17,
     "metadata": {},
     "output_type": "execute_result"
    }
   ],
   "source": [
    "#Periyodunu gün olarak belirliyoruz\n",
    "x.to_period(\"D\")"
   ]
  },
  {
   "cell_type": "code",
   "execution_count": 18,
   "id": "e34d3de0-808d-4df8-bc44-89c8e6a9d875",
   "metadata": {},
   "outputs": [
    {
     "data": {
      "text/plain": [
       "Period('1900-09', 'M')"
      ]
     },
     "execution_count": 18,
     "metadata": {},
     "output_type": "execute_result"
    }
   ],
   "source": [
    "#Periyodunun ay olarak belirliyoruz\n",
    "y.to_period(\"M\")"
   ]
  },
  {
   "cell_type": "code",
   "execution_count": 19,
   "id": "9ba64673-c7d0-42e6-a609-92b1307708b6",
   "metadata": {},
   "outputs": [
    {
     "data": {
      "text/plain": [
       "2022-08-05   -1.384629\n",
       "2022-08-10    0.463034\n",
       "2022-08-15   -1.036429\n",
       "2022-08-20   -1.356181\n",
       "2022-08-25    0.081621\n",
       "dtype: float64"
      ]
     },
     "execution_count": 19,
     "metadata": {},
     "output_type": "execute_result"
    }
   ],
   "source": [
    "timeseries"
   ]
  },
  {
   "cell_type": "code",
   "execution_count": 20,
   "id": "70764bce-1e63-4793-aaa0-1991edc4d57e",
   "metadata": {},
   "outputs": [
    {
     "data": {
      "text/plain": [
       "2022-08-05   -0.348199\n",
       "2022-08-10    1.499463\n",
       "2022-08-15    0.000000\n",
       "2022-08-20   -0.319751\n",
       "2022-08-25    1.118051\n",
       "dtype: float64"
      ]
     },
     "execution_count": 20,
     "metadata": {},
     "output_type": "execute_result"
    }
   ],
   "source": [
    "#Zaman serileri üzerinde işlemler yapabiliyoruz\n",
    "timeseries - timeseries[2]"
   ]
  },
  {
   "cell_type": "code",
   "execution_count": 21,
   "id": "36b7145e-a9d7-4992-861f-57f25949620c",
   "metadata": {},
   "outputs": [
    {
     "data": {
      "text/plain": [
       "2022-08-05    0.0\n",
       "2022-08-10    0.0\n",
       "2022-08-15    0.0\n",
       "2022-08-20    0.0\n",
       "2022-08-25    0.0\n",
       "dtype: float64"
      ]
     },
     "execution_count": 21,
     "metadata": {},
     "output_type": "execute_result"
    }
   ],
   "source": [
    "timeseries - timeseries"
   ]
  },
  {
   "cell_type": "code",
   "execution_count": 22,
   "id": "277d115e-4393-4dde-9675-32e1c56f8685",
   "metadata": {},
   "outputs": [
    {
     "data": {
      "text/plain": [
       "DatetimeIndex(['2021-09-24', '2021-09-25', '2021-09-26', '2021-09-27',\n",
       "               '2021-09-28', '2021-09-29', '2021-09-30', '2021-10-01',\n",
       "               '2021-10-02', '2021-10-03', '2021-10-04', '2021-10-05',\n",
       "               '2021-10-06', '2021-10-07', '2021-10-08', '2021-10-09',\n",
       "               '2021-10-10', '2021-10-11', '2021-10-12', '2021-10-13',\n",
       "               '2021-10-14', '2021-10-15', '2021-10-16', '2021-10-17',\n",
       "               '2021-10-18', '2021-10-19', '2021-10-20', '2021-10-21',\n",
       "               '2021-10-22', '2021-10-23', '2021-10-24', '2021-10-25',\n",
       "               '2021-10-26', '2021-10-27', '2021-10-28', '2021-10-29',\n",
       "               '2021-10-30', '2021-10-31', '2021-11-01', '2021-11-02',\n",
       "               '2021-11-03', '2021-11-04', '2021-11-05', '2021-11-06',\n",
       "               '2021-11-07', '2021-11-08', '2021-11-09', '2021-11-10',\n",
       "               '2021-11-11', '2021-11-12', '2021-11-13', '2021-11-14',\n",
       "               '2021-11-15', '2021-11-16', '2021-11-17', '2021-11-18',\n",
       "               '2021-11-19', '2021-11-20', '2021-11-21', '2021-11-22',\n",
       "               '2021-11-23', '2021-11-24', '2021-11-25', '2021-11-26',\n",
       "               '2021-11-27', '2021-11-28', '2021-11-29', '2021-11-30',\n",
       "               '2021-12-01', '2021-12-02', '2021-12-03', '2021-12-04',\n",
       "               '2021-12-05', '2021-12-06', '2021-12-07', '2021-12-08',\n",
       "               '2021-12-09', '2021-12-10', '2021-12-11', '2021-12-12',\n",
       "               '2021-12-13', '2021-12-14', '2021-12-15', '2021-12-16',\n",
       "               '2021-12-17', '2021-12-18', '2021-12-19', '2021-12-20',\n",
       "               '2021-12-21', '2021-12-22', '2021-12-23', '2021-12-24',\n",
       "               '2021-12-25', '2021-12-26', '2021-12-27', '2021-12-28',\n",
       "               '2021-12-29', '2021-12-30', '2021-12-31', '2022-01-01'],\n",
       "              dtype='datetime64[ns]', freq='D')"
      ]
     },
     "execution_count": 22,
     "metadata": {},
     "output_type": "execute_result"
    }
   ],
   "source": [
    "#date_range yardımıyla tarihlerimizi oluşturuyoruz\n",
    "pd.date_range(\"24.9.2021\",\"1.1.2022\")"
   ]
  },
  {
   "cell_type": "code",
   "execution_count": 25,
   "id": "0a5573a5-36e6-49d4-a39f-778941dfc6ae",
   "metadata": {},
   "outputs": [
    {
     "data": {
      "text/plain": [
       "DatetimeIndex(['2021-09-24', '2021-10-05', '2021-10-16', '2021-10-27',\n",
       "               '2021-11-07', '2021-11-18', '2021-11-29', '2021-12-10',\n",
       "               '2021-12-21', '2022-01-01'],\n",
       "              dtype='datetime64[ns]', freq=None)"
      ]
     },
     "execution_count": 25,
     "metadata": {},
     "output_type": "execute_result"
    }
   ],
   "source": [
    "#10ar gün atlayarak tarihlerimizi oluşturuyoruz\n",
    "pd.date_range(\"24.9.2021\",\"1.1.2022\", periods=10)"
   ]
  },
  {
   "cell_type": "code",
   "execution_count": 24,
   "id": "ddafd5c7-f53f-476e-b687-cf71442a56f8",
   "metadata": {},
   "outputs": [
    {
     "data": {
      "text/plain": [
       "DatetimeIndex(['2021-09-24 00:00:00', '2021-09-24 01:00:00',\n",
       "               '2021-09-24 02:00:00'],\n",
       "              dtype='datetime64[ns]', freq='H')"
      ]
     },
     "execution_count": 24,
     "metadata": {},
     "output_type": "execute_result"
    }
   ],
   "source": [
    "pd.date_range(\"24.9.2021\", periods=3, freq=\"H\") #Saat"
   ]
  },
  {
   "cell_type": "code",
   "execution_count": 26,
   "id": "7791d843-74dd-4c95-a012-72e35c3cc459",
   "metadata": {},
   "outputs": [
    {
     "data": {
      "text/plain": [
       "DatetimeIndex(['2021-09-24', '2021-09-25', '2021-09-26'], dtype='datetime64[ns]', freq='D')"
      ]
     },
     "execution_count": 26,
     "metadata": {},
     "output_type": "execute_result"
    }
   ],
   "source": [
    "pd.date_range(\"24.9.2021\", periods=3, freq=\"D\") #Gün"
   ]
  },
  {
   "cell_type": "code",
   "execution_count": 27,
   "id": "68dba3c7-3ffe-4ac5-8b46-6f9b1eaa2faf",
   "metadata": {},
   "outputs": [
    {
     "data": {
      "text/plain": [
       "DatetimeIndex(['2021-09-30', '2021-10-31', '2021-11-30'], dtype='datetime64[ns]', freq='M')"
      ]
     },
     "execution_count": 27,
     "metadata": {},
     "output_type": "execute_result"
    }
   ],
   "source": [
    "pd.date_range(\"24.9.2021\", periods=3, freq=\"M\") #Ay"
   ]
  },
  {
   "cell_type": "code",
   "execution_count": 28,
   "id": "9c8e8d92-637f-4566-ae3d-4413545681f1",
   "metadata": {},
   "outputs": [
    {
     "data": {
      "text/plain": [
       "DatetimeIndex(['2021-12-31', '2022-12-31', '2023-12-31'], dtype='datetime64[ns]', freq='A-DEC')"
      ]
     },
     "execution_count": 28,
     "metadata": {},
     "output_type": "execute_result"
    }
   ],
   "source": [
    "pd.date_range(\"24.9.2021\", periods=3, freq=\"A-DEC\") #Yıl"
   ]
  },
  {
   "cell_type": "code",
   "execution_count": 29,
   "id": "07a72d1d-a4f1-4272-8e3b-39959e2b7fc7",
   "metadata": {},
   "outputs": [
    {
     "data": {
      "text/plain": [
       "DatetimeIndex(['2021-09-24', '2021-09-27', '2021-09-28', '2021-09-29',\n",
       "               '2021-09-30', '2021-10-01', '2021-10-04'],\n",
       "              dtype='datetime64[ns]', freq='B')"
      ]
     },
     "execution_count": 29,
     "metadata": {},
     "output_type": "execute_result"
    }
   ],
   "source": [
    "pd.date_range(\"24.9.2021\", periods=7, freq=\"B\") #İş günleri"
   ]
  },
  {
   "cell_type": "code",
   "execution_count": 30,
   "id": "a2267da0-e005-4f88-808c-1cd2b4c83155",
   "metadata": {},
   "outputs": [
    {
     "data": {
      "text/plain": [
       "PeriodIndex(['2021-09-24 00:00', '2021-09-24 01:00', '2021-09-24 02:00'], dtype='period[H]')"
      ]
     },
     "execution_count": 30,
     "metadata": {},
     "output_type": "execute_result"
    }
   ],
   "source": [
    "pd.period_range(\"24.9.2021\", periods=3, freq=\"H\")"
   ]
  },
  {
   "cell_type": "code",
   "execution_count": 31,
   "id": "544e546a-8c6a-48d5-a432-86ec66237e20",
   "metadata": {},
   "outputs": [
    {
     "data": {
      "text/plain": [
       "PeriodIndex(['2021-09-24', '2021-09-25', '2021-09-26'], dtype='period[D]')"
      ]
     },
     "execution_count": 31,
     "metadata": {},
     "output_type": "execute_result"
    }
   ],
   "source": [
    "pd.period_range(\"24.9.2021\", periods=3, freq=\"D\")"
   ]
  },
  {
   "cell_type": "code",
   "execution_count": 32,
   "id": "7f454660-b173-4699-b849-b471eb7ecd18",
   "metadata": {},
   "outputs": [
    {
     "data": {
      "text/plain": [
       "PeriodIndex(['2021-09', '2021-10', '2021-11'], dtype='period[M]')"
      ]
     },
     "execution_count": 32,
     "metadata": {},
     "output_type": "execute_result"
    }
   ],
   "source": [
    "pd.period_range(\"24.9.2021\", periods=3, freq=\"M\")"
   ]
  },
  {
   "cell_type": "code",
   "execution_count": 33,
   "id": "46c77191-8b95-411a-b518-5bb29d235b6f",
   "metadata": {},
   "outputs": [
    {
     "data": {
      "text/plain": [
       "PeriodIndex(['2021', '2022', '2023'], dtype='period[A-DEC]')"
      ]
     },
     "execution_count": 33,
     "metadata": {},
     "output_type": "execute_result"
    }
   ],
   "source": [
    "pd.period_range(\"24.9.2021\", periods=3, freq=\"Y\")"
   ]
  },
  {
   "cell_type": "code",
   "execution_count": 34,
   "id": "1572dd7d-8b90-4e1e-89b9-97e14e4aa8bb",
   "metadata": {},
   "outputs": [
    {
     "data": {
      "text/plain": [
       "TimedeltaIndex(['0 days 00:00:00', '0 days 01:00:00', '0 days 02:00:00'], dtype='timedelta64[ns]', freq='H')"
      ]
     },
     "execution_count": 34,
     "metadata": {},
     "output_type": "execute_result"
    }
   ],
   "source": [
    "pd.timedelta_range(0,periods=3, freq=\"H\")"
   ]
  },
  {
   "cell_type": "code",
   "execution_count": 35,
   "id": "a3f8988f-d662-4574-9418-5678fbcb2c85",
   "metadata": {},
   "outputs": [
    {
     "data": {
      "text/plain": [
       "TimedeltaIndex(['0 days', '1 days', '2 days'], dtype='timedelta64[ns]', freq='D')"
      ]
     },
     "execution_count": 35,
     "metadata": {},
     "output_type": "execute_result"
    }
   ],
   "source": [
    "pd.timedelta_range(0,periods=3, freq=\"D\")"
   ]
  },
  {
   "cell_type": "code",
   "execution_count": 36,
   "id": "46636e99-bb9f-4b4a-8e18-52425ee87900",
   "metadata": {},
   "outputs": [
    {
     "ename": "ValueError",
     "evalue": "<MonthEnd> is a non-fixed frequency",
     "output_type": "error",
     "traceback": [
      "\u001b[0;31m---------------------------------------------------------------------------\u001b[0m",
      "\u001b[0;31mValueError\u001b[0m                                Traceback (most recent call last)",
      "\u001b[0;32m/var/folders/9z/tjzz8zxs1pb6xhf18tm4kbtm0000gn/T/ipykernel_46911/1732603347.py\u001b[0m in \u001b[0;36m<module>\u001b[0;34m\u001b[0m\n\u001b[0;32m----> 1\u001b[0;31m \u001b[0mpd\u001b[0m\u001b[0;34m.\u001b[0m\u001b[0mtimedelta_range\u001b[0m\u001b[0;34m(\u001b[0m\u001b[0;36m0\u001b[0m\u001b[0;34m,\u001b[0m\u001b[0mperiods\u001b[0m\u001b[0;34m=\u001b[0m\u001b[0;36m3\u001b[0m\u001b[0;34m,\u001b[0m \u001b[0mfreq\u001b[0m\u001b[0;34m=\u001b[0m\u001b[0;34m\"M\"\u001b[0m\u001b[0;34m)\u001b[0m \u001b[0;31m#Aylar sabit değildir hata alırız\u001b[0m\u001b[0;34m\u001b[0m\u001b[0;34m\u001b[0m\u001b[0m\n\u001b[0m",
      "\u001b[0;32m~/opt/anaconda3/lib/python3.9/site-packages/pandas/core/indexes/timedeltas.py\u001b[0m in \u001b[0;36mtimedelta_range\u001b[0;34m(start, end, periods, freq, name, closed)\u001b[0m\n\u001b[1;32m    297\u001b[0m \u001b[0;34m\u001b[0m\u001b[0m\n\u001b[1;32m    298\u001b[0m     \u001b[0mfreq\u001b[0m\u001b[0;34m,\u001b[0m \u001b[0m_\u001b[0m \u001b[0;34m=\u001b[0m \u001b[0mdtl\u001b[0m\u001b[0;34m.\u001b[0m\u001b[0mmaybe_infer_freq\u001b[0m\u001b[0;34m(\u001b[0m\u001b[0mfreq\u001b[0m\u001b[0;34m)\u001b[0m\u001b[0;34m\u001b[0m\u001b[0;34m\u001b[0m\u001b[0m\n\u001b[0;32m--> 299\u001b[0;31m     \u001b[0mtdarr\u001b[0m \u001b[0;34m=\u001b[0m \u001b[0mTimedeltaArray\u001b[0m\u001b[0;34m.\u001b[0m\u001b[0m_generate_range\u001b[0m\u001b[0;34m(\u001b[0m\u001b[0mstart\u001b[0m\u001b[0;34m,\u001b[0m \u001b[0mend\u001b[0m\u001b[0;34m,\u001b[0m \u001b[0mperiods\u001b[0m\u001b[0;34m,\u001b[0m \u001b[0mfreq\u001b[0m\u001b[0;34m,\u001b[0m \u001b[0mclosed\u001b[0m\u001b[0;34m=\u001b[0m\u001b[0mclosed\u001b[0m\u001b[0;34m)\u001b[0m\u001b[0;34m\u001b[0m\u001b[0;34m\u001b[0m\u001b[0m\n\u001b[0m\u001b[1;32m    300\u001b[0m     \u001b[0;32mreturn\u001b[0m \u001b[0mTimedeltaIndex\u001b[0m\u001b[0;34m.\u001b[0m\u001b[0m_simple_new\u001b[0m\u001b[0;34m(\u001b[0m\u001b[0mtdarr\u001b[0m\u001b[0;34m,\u001b[0m \u001b[0mname\u001b[0m\u001b[0;34m=\u001b[0m\u001b[0mname\u001b[0m\u001b[0;34m)\u001b[0m\u001b[0;34m\u001b[0m\u001b[0;34m\u001b[0m\u001b[0m\n",
      "\u001b[0;32m~/opt/anaconda3/lib/python3.9/site-packages/pandas/core/arrays/timedeltas.py\u001b[0m in \u001b[0;36m_generate_range\u001b[0;34m(cls, start, end, periods, freq, closed)\u001b[0m\n\u001b[1;32m    316\u001b[0m \u001b[0;34m\u001b[0m\u001b[0m\n\u001b[1;32m    317\u001b[0m         \u001b[0;32mif\u001b[0m \u001b[0mfreq\u001b[0m \u001b[0;32mis\u001b[0m \u001b[0;32mnot\u001b[0m \u001b[0;32mNone\u001b[0m\u001b[0;34m:\u001b[0m\u001b[0;34m\u001b[0m\u001b[0;34m\u001b[0m\u001b[0m\n\u001b[0;32m--> 318\u001b[0;31m             \u001b[0mindex\u001b[0m \u001b[0;34m=\u001b[0m \u001b[0mgenerate_regular_range\u001b[0m\u001b[0;34m(\u001b[0m\u001b[0mstart\u001b[0m\u001b[0;34m,\u001b[0m \u001b[0mend\u001b[0m\u001b[0;34m,\u001b[0m \u001b[0mperiods\u001b[0m\u001b[0;34m,\u001b[0m \u001b[0mfreq\u001b[0m\u001b[0;34m)\u001b[0m\u001b[0;34m\u001b[0m\u001b[0;34m\u001b[0m\u001b[0m\n\u001b[0m\u001b[1;32m    319\u001b[0m         \u001b[0;32melse\u001b[0m\u001b[0;34m:\u001b[0m\u001b[0;34m\u001b[0m\u001b[0;34m\u001b[0m\u001b[0m\n\u001b[1;32m    320\u001b[0m             \u001b[0mindex\u001b[0m \u001b[0;34m=\u001b[0m \u001b[0mnp\u001b[0m\u001b[0;34m.\u001b[0m\u001b[0mlinspace\u001b[0m\u001b[0;34m(\u001b[0m\u001b[0mstart\u001b[0m\u001b[0;34m.\u001b[0m\u001b[0mvalue\u001b[0m\u001b[0;34m,\u001b[0m \u001b[0mend\u001b[0m\u001b[0;34m.\u001b[0m\u001b[0mvalue\u001b[0m\u001b[0;34m,\u001b[0m \u001b[0mperiods\u001b[0m\u001b[0;34m)\u001b[0m\u001b[0;34m.\u001b[0m\u001b[0mastype\u001b[0m\u001b[0;34m(\u001b[0m\u001b[0;34m\"i8\"\u001b[0m\u001b[0;34m)\u001b[0m\u001b[0;34m\u001b[0m\u001b[0;34m\u001b[0m\u001b[0m\n",
      "\u001b[0;32m~/opt/anaconda3/lib/python3.9/site-packages/pandas/core/arrays/_ranges.py\u001b[0m in \u001b[0;36mgenerate_regular_range\u001b[0;34m(start, end, periods, freq)\u001b[0m\n\u001b[1;32m     44\u001b[0m     \u001b[0mistart\u001b[0m \u001b[0;34m=\u001b[0m \u001b[0mstart\u001b[0m\u001b[0;34m.\u001b[0m\u001b[0mvalue\u001b[0m \u001b[0;32mif\u001b[0m \u001b[0mstart\u001b[0m \u001b[0;32mis\u001b[0m \u001b[0;32mnot\u001b[0m \u001b[0;32mNone\u001b[0m \u001b[0;32melse\u001b[0m \u001b[0;32mNone\u001b[0m\u001b[0;34m\u001b[0m\u001b[0;34m\u001b[0m\u001b[0m\n\u001b[1;32m     45\u001b[0m     \u001b[0miend\u001b[0m \u001b[0;34m=\u001b[0m \u001b[0mend\u001b[0m\u001b[0;34m.\u001b[0m\u001b[0mvalue\u001b[0m \u001b[0;32mif\u001b[0m \u001b[0mend\u001b[0m \u001b[0;32mis\u001b[0m \u001b[0;32mnot\u001b[0m \u001b[0;32mNone\u001b[0m \u001b[0;32melse\u001b[0m \u001b[0;32mNone\u001b[0m\u001b[0;34m\u001b[0m\u001b[0;34m\u001b[0m\u001b[0m\n\u001b[0;32m---> 46\u001b[0;31m     \u001b[0mstride\u001b[0m \u001b[0;34m=\u001b[0m \u001b[0mfreq\u001b[0m\u001b[0;34m.\u001b[0m\u001b[0mnanos\u001b[0m\u001b[0;34m\u001b[0m\u001b[0;34m\u001b[0m\u001b[0m\n\u001b[0m\u001b[1;32m     47\u001b[0m \u001b[0;34m\u001b[0m\u001b[0m\n\u001b[1;32m     48\u001b[0m     \u001b[0;32mif\u001b[0m \u001b[0mperiods\u001b[0m \u001b[0;32mis\u001b[0m \u001b[0;32mNone\u001b[0m\u001b[0;34m:\u001b[0m\u001b[0;34m\u001b[0m\u001b[0;34m\u001b[0m\u001b[0m\n",
      "\u001b[0;32m~/opt/anaconda3/lib/python3.9/site-packages/pandas/_libs/tslibs/offsets.pyx\u001b[0m in \u001b[0;36mpandas._libs.tslibs.offsets.BaseOffset.nanos.__get__\u001b[0;34m()\u001b[0m\n",
      "\u001b[0;31mValueError\u001b[0m: <MonthEnd> is a non-fixed frequency"
     ]
    }
   ],
   "source": [
    "pd.timedelta_range(0,periods=3, freq=\"M\") #Aylar sabit değildir hata alırız"
   ]
  },
  {
   "cell_type": "code",
   "execution_count": 37,
   "id": "b4fb4130-19d8-47d9-8fea-f1b607ab669f",
   "metadata": {},
   "outputs": [
    {
     "ename": "ValueError",
     "evalue": "<YearEnd: month=12> is a non-fixed frequency",
     "output_type": "error",
     "traceback": [
      "\u001b[0;31m---------------------------------------------------------------------------\u001b[0m",
      "\u001b[0;31mValueError\u001b[0m                                Traceback (most recent call last)",
      "\u001b[0;32m/var/folders/9z/tjzz8zxs1pb6xhf18tm4kbtm0000gn/T/ipykernel_46911/654038445.py\u001b[0m in \u001b[0;36m<module>\u001b[0;34m\u001b[0m\n\u001b[0;32m----> 1\u001b[0;31m \u001b[0mpd\u001b[0m\u001b[0;34m.\u001b[0m\u001b[0mtimedelta_range\u001b[0m\u001b[0;34m(\u001b[0m\u001b[0;36m0\u001b[0m\u001b[0;34m,\u001b[0m\u001b[0mperiods\u001b[0m\u001b[0;34m=\u001b[0m\u001b[0;36m3\u001b[0m\u001b[0;34m,\u001b[0m \u001b[0mfreq\u001b[0m\u001b[0;34m=\u001b[0m\u001b[0;34m\"Y\"\u001b[0m\u001b[0;34m)\u001b[0m \u001b[0;31m#Yıllar sabit değildir hata alırız\u001b[0m\u001b[0;34m\u001b[0m\u001b[0;34m\u001b[0m\u001b[0m\n\u001b[0m",
      "\u001b[0;32m~/opt/anaconda3/lib/python3.9/site-packages/pandas/core/indexes/timedeltas.py\u001b[0m in \u001b[0;36mtimedelta_range\u001b[0;34m(start, end, periods, freq, name, closed)\u001b[0m\n\u001b[1;32m    297\u001b[0m \u001b[0;34m\u001b[0m\u001b[0m\n\u001b[1;32m    298\u001b[0m     \u001b[0mfreq\u001b[0m\u001b[0;34m,\u001b[0m \u001b[0m_\u001b[0m \u001b[0;34m=\u001b[0m \u001b[0mdtl\u001b[0m\u001b[0;34m.\u001b[0m\u001b[0mmaybe_infer_freq\u001b[0m\u001b[0;34m(\u001b[0m\u001b[0mfreq\u001b[0m\u001b[0;34m)\u001b[0m\u001b[0;34m\u001b[0m\u001b[0;34m\u001b[0m\u001b[0m\n\u001b[0;32m--> 299\u001b[0;31m     \u001b[0mtdarr\u001b[0m \u001b[0;34m=\u001b[0m \u001b[0mTimedeltaArray\u001b[0m\u001b[0;34m.\u001b[0m\u001b[0m_generate_range\u001b[0m\u001b[0;34m(\u001b[0m\u001b[0mstart\u001b[0m\u001b[0;34m,\u001b[0m \u001b[0mend\u001b[0m\u001b[0;34m,\u001b[0m \u001b[0mperiods\u001b[0m\u001b[0;34m,\u001b[0m \u001b[0mfreq\u001b[0m\u001b[0;34m,\u001b[0m \u001b[0mclosed\u001b[0m\u001b[0;34m=\u001b[0m\u001b[0mclosed\u001b[0m\u001b[0;34m)\u001b[0m\u001b[0;34m\u001b[0m\u001b[0;34m\u001b[0m\u001b[0m\n\u001b[0m\u001b[1;32m    300\u001b[0m     \u001b[0;32mreturn\u001b[0m \u001b[0mTimedeltaIndex\u001b[0m\u001b[0;34m.\u001b[0m\u001b[0m_simple_new\u001b[0m\u001b[0;34m(\u001b[0m\u001b[0mtdarr\u001b[0m\u001b[0;34m,\u001b[0m \u001b[0mname\u001b[0m\u001b[0;34m=\u001b[0m\u001b[0mname\u001b[0m\u001b[0;34m)\u001b[0m\u001b[0;34m\u001b[0m\u001b[0;34m\u001b[0m\u001b[0m\n",
      "\u001b[0;32m~/opt/anaconda3/lib/python3.9/site-packages/pandas/core/arrays/timedeltas.py\u001b[0m in \u001b[0;36m_generate_range\u001b[0;34m(cls, start, end, periods, freq, closed)\u001b[0m\n\u001b[1;32m    316\u001b[0m \u001b[0;34m\u001b[0m\u001b[0m\n\u001b[1;32m    317\u001b[0m         \u001b[0;32mif\u001b[0m \u001b[0mfreq\u001b[0m \u001b[0;32mis\u001b[0m \u001b[0;32mnot\u001b[0m \u001b[0;32mNone\u001b[0m\u001b[0;34m:\u001b[0m\u001b[0;34m\u001b[0m\u001b[0;34m\u001b[0m\u001b[0m\n\u001b[0;32m--> 318\u001b[0;31m             \u001b[0mindex\u001b[0m \u001b[0;34m=\u001b[0m \u001b[0mgenerate_regular_range\u001b[0m\u001b[0;34m(\u001b[0m\u001b[0mstart\u001b[0m\u001b[0;34m,\u001b[0m \u001b[0mend\u001b[0m\u001b[0;34m,\u001b[0m \u001b[0mperiods\u001b[0m\u001b[0;34m,\u001b[0m \u001b[0mfreq\u001b[0m\u001b[0;34m)\u001b[0m\u001b[0;34m\u001b[0m\u001b[0;34m\u001b[0m\u001b[0m\n\u001b[0m\u001b[1;32m    319\u001b[0m         \u001b[0;32melse\u001b[0m\u001b[0;34m:\u001b[0m\u001b[0;34m\u001b[0m\u001b[0;34m\u001b[0m\u001b[0m\n\u001b[1;32m    320\u001b[0m             \u001b[0mindex\u001b[0m \u001b[0;34m=\u001b[0m \u001b[0mnp\u001b[0m\u001b[0;34m.\u001b[0m\u001b[0mlinspace\u001b[0m\u001b[0;34m(\u001b[0m\u001b[0mstart\u001b[0m\u001b[0;34m.\u001b[0m\u001b[0mvalue\u001b[0m\u001b[0;34m,\u001b[0m \u001b[0mend\u001b[0m\u001b[0;34m.\u001b[0m\u001b[0mvalue\u001b[0m\u001b[0;34m,\u001b[0m \u001b[0mperiods\u001b[0m\u001b[0;34m)\u001b[0m\u001b[0;34m.\u001b[0m\u001b[0mastype\u001b[0m\u001b[0;34m(\u001b[0m\u001b[0;34m\"i8\"\u001b[0m\u001b[0;34m)\u001b[0m\u001b[0;34m\u001b[0m\u001b[0;34m\u001b[0m\u001b[0m\n",
      "\u001b[0;32m~/opt/anaconda3/lib/python3.9/site-packages/pandas/core/arrays/_ranges.py\u001b[0m in \u001b[0;36mgenerate_regular_range\u001b[0;34m(start, end, periods, freq)\u001b[0m\n\u001b[1;32m     44\u001b[0m     \u001b[0mistart\u001b[0m \u001b[0;34m=\u001b[0m \u001b[0mstart\u001b[0m\u001b[0;34m.\u001b[0m\u001b[0mvalue\u001b[0m \u001b[0;32mif\u001b[0m \u001b[0mstart\u001b[0m \u001b[0;32mis\u001b[0m \u001b[0;32mnot\u001b[0m \u001b[0;32mNone\u001b[0m \u001b[0;32melse\u001b[0m \u001b[0;32mNone\u001b[0m\u001b[0;34m\u001b[0m\u001b[0;34m\u001b[0m\u001b[0m\n\u001b[1;32m     45\u001b[0m     \u001b[0miend\u001b[0m \u001b[0;34m=\u001b[0m \u001b[0mend\u001b[0m\u001b[0;34m.\u001b[0m\u001b[0mvalue\u001b[0m \u001b[0;32mif\u001b[0m \u001b[0mend\u001b[0m \u001b[0;32mis\u001b[0m \u001b[0;32mnot\u001b[0m \u001b[0;32mNone\u001b[0m \u001b[0;32melse\u001b[0m \u001b[0;32mNone\u001b[0m\u001b[0;34m\u001b[0m\u001b[0;34m\u001b[0m\u001b[0m\n\u001b[0;32m---> 46\u001b[0;31m     \u001b[0mstride\u001b[0m \u001b[0;34m=\u001b[0m \u001b[0mfreq\u001b[0m\u001b[0;34m.\u001b[0m\u001b[0mnanos\u001b[0m\u001b[0;34m\u001b[0m\u001b[0;34m\u001b[0m\u001b[0m\n\u001b[0m\u001b[1;32m     47\u001b[0m \u001b[0;34m\u001b[0m\u001b[0m\n\u001b[1;32m     48\u001b[0m     \u001b[0;32mif\u001b[0m \u001b[0mperiods\u001b[0m \u001b[0;32mis\u001b[0m \u001b[0;32mNone\u001b[0m\u001b[0;34m:\u001b[0m\u001b[0;34m\u001b[0m\u001b[0;34m\u001b[0m\u001b[0m\n",
      "\u001b[0;32m~/opt/anaconda3/lib/python3.9/site-packages/pandas/_libs/tslibs/offsets.pyx\u001b[0m in \u001b[0;36mpandas._libs.tslibs.offsets.BaseOffset.nanos.__get__\u001b[0;34m()\u001b[0m\n",
      "\u001b[0;31mValueError\u001b[0m: <YearEnd: month=12> is a non-fixed frequency"
     ]
    }
   ],
   "source": [
    "pd.timedelta_range(0,periods=3, freq=\"Y\") #Yıllar sabit değildir hata alırız"
   ]
  },
  {
   "cell_type": "code",
   "execution_count": 38,
   "id": "a674b9f9-ab22-4754-b92d-224913dd1194",
   "metadata": {},
   "outputs": [
    {
     "data": {
      "text/plain": [
       "2022-08-05   -1.384629\n",
       "2022-08-10    0.463034\n",
       "2022-08-15   -1.036429\n",
       "2022-08-20   -1.356181\n",
       "2022-08-25    0.081621\n",
       "dtype: float64"
      ]
     },
     "execution_count": 38,
     "metadata": {},
     "output_type": "execute_result"
    }
   ],
   "source": [
    "timeseries"
   ]
  },
  {
   "cell_type": "code",
   "execution_count": 39,
   "id": "6cd8ebde-7575-40aa-949e-eef48e7b3866",
   "metadata": {},
   "outputs": [],
   "source": [
    "x = timeseries.index[0]"
   ]
  },
  {
   "cell_type": "code",
   "execution_count": 40,
   "id": "48f2a848-b1e4-4f2b-a1ee-e81e32bead10",
   "metadata": {},
   "outputs": [
    {
     "data": {
      "text/plain": [
       "Timestamp('2022-08-05 00:00:00')"
      ]
     },
     "execution_count": 40,
     "metadata": {},
     "output_type": "execute_result"
    }
   ],
   "source": [
    "x"
   ]
  },
  {
   "cell_type": "code",
   "execution_count": 41,
   "id": "8384f834-5c14-40f2-b809-12e332c3ad6e",
   "metadata": {},
   "outputs": [
    {
     "data": {
      "text/plain": [
       "-1.3846288156722941"
      ]
     },
     "execution_count": 41,
     "metadata": {},
     "output_type": "execute_result"
    }
   ],
   "source": [
    "timeseries[x]"
   ]
  },
  {
   "cell_type": "code",
   "execution_count": 43,
   "id": "8da8bef3-8f84-41a0-9417-75f87f8092e2",
   "metadata": {},
   "outputs": [
    {
     "data": {
      "text/plain": [
       "-1.3846288156722941"
      ]
     },
     "execution_count": 43,
     "metadata": {},
     "output_type": "execute_result"
    }
   ],
   "source": [
    "timeseries[\"2022-08-05\"]"
   ]
  },
  {
   "cell_type": "code",
   "execution_count": 44,
   "id": "7f0261f5-8863-4b7c-9f0b-2b8213978f63",
   "metadata": {},
   "outputs": [],
   "source": [
    "new_ts=pd.Series(np.random.randn(1000),index=pd.date_range(\"24/9/1900\",periods=1000))"
   ]
  },
  {
   "cell_type": "code",
   "execution_count": 45,
   "id": "9646c843-1893-4a1a-b11a-0c7877db560a",
   "metadata": {},
   "outputs": [
    {
     "data": {
      "text/plain": [
       "1900-09-24   -1.265760\n",
       "1900-09-25   -0.952408\n",
       "1900-09-26   -0.421246\n",
       "1900-09-27   -3.236172\n",
       "1900-09-28   -2.136842\n",
       "                ...   \n",
       "1903-06-16    1.627981\n",
       "1903-06-17   -0.557362\n",
       "1903-06-18    0.199001\n",
       "1903-06-19   -2.753432\n",
       "1903-06-20   -0.949909\n",
       "Freq: D, Length: 1000, dtype: float64"
      ]
     },
     "execution_count": 45,
     "metadata": {},
     "output_type": "execute_result"
    }
   ],
   "source": [
    "new_ts"
   ]
  },
  {
   "cell_type": "code",
   "execution_count": 46,
   "id": "96c50bec-90f8-4673-8f80-a0b96c37642a",
   "metadata": {},
   "outputs": [
    {
     "data": {
      "text/plain": [
       "1901-01-01    0.638822\n",
       "1901-01-02   -0.737165\n",
       "1901-01-03    0.626443\n",
       "1901-01-04   -0.032722\n",
       "1901-01-05    2.357228\n",
       "                ...   \n",
       "1901-12-27   -0.426276\n",
       "1901-12-28    1.604504\n",
       "1901-12-29    0.980666\n",
       "1901-12-30   -0.108551\n",
       "1901-12-31    1.343039\n",
       "Freq: D, Length: 365, dtype: float64"
      ]
     },
     "execution_count": 46,
     "metadata": {},
     "output_type": "execute_result"
    }
   ],
   "source": [
    "new_ts[\"1901\"]"
   ]
  },
  {
   "cell_type": "code",
   "execution_count": 47,
   "id": "5175280f-1cbb-4c69-ba9a-99802e521fd3",
   "metadata": {},
   "outputs": [
    {
     "data": {
      "text/plain": [
       "1901-09-01   -1.618865\n",
       "1901-09-02    0.388443\n",
       "1901-09-03    0.112787\n",
       "1901-09-04    0.003418\n",
       "1901-09-05    0.350381\n",
       "1901-09-06   -0.452721\n",
       "1901-09-07   -0.752188\n",
       "1901-09-08    0.628457\n",
       "1901-09-09    0.380225\n",
       "1901-09-10   -1.565019\n",
       "1901-09-11    0.147817\n",
       "1901-09-12    0.094094\n",
       "1901-09-13    0.563397\n",
       "1901-09-14   -0.335578\n",
       "1901-09-15    0.170269\n",
       "1901-09-16    0.831387\n",
       "1901-09-17    2.305671\n",
       "1901-09-18    0.736670\n",
       "1901-09-19    1.495428\n",
       "1901-09-20   -0.089929\n",
       "1901-09-21   -1.963783\n",
       "1901-09-22   -0.016529\n",
       "1901-09-23   -0.917889\n",
       "1901-09-24   -1.456304\n",
       "1901-09-25    0.116022\n",
       "1901-09-26    1.019815\n",
       "1901-09-27    1.105686\n",
       "1901-09-28    0.007784\n",
       "1901-09-29   -0.628108\n",
       "1901-09-30    0.015735\n",
       "Freq: D, dtype: float64"
      ]
     },
     "execution_count": 47,
     "metadata": {},
     "output_type": "execute_result"
    }
   ],
   "source": [
    "new_ts[\"1901-09\"]"
   ]
  },
  {
   "cell_type": "code",
   "execution_count": 48,
   "id": "df8c9752-67fa-45f4-a9a0-ee6ef1790fc4",
   "metadata": {},
   "outputs": [
    {
     "data": {
      "text/plain": [
       "1902-09-30   -2.258107\n",
       "1902-10-01    0.630385\n",
       "1902-10-02    1.405148\n",
       "1902-10-03   -0.738175\n",
       "1902-10-04   -0.919536\n",
       "                ...   \n",
       "1903-06-16    1.627981\n",
       "1903-06-17   -0.557362\n",
       "1903-06-18    0.199001\n",
       "1903-06-19   -2.753432\n",
       "1903-06-20   -0.949909\n",
       "Freq: D, Length: 264, dtype: float64"
      ]
     },
     "execution_count": 48,
     "metadata": {},
     "output_type": "execute_result"
    }
   ],
   "source": [
    "new_ts[datetime(1902,9,30):]"
   ]
  },
  {
   "cell_type": "code",
   "execution_count": 49,
   "id": "b74eedd4-a706-4787-a1da-ce507fb6cc30",
   "metadata": {},
   "outputs": [
    {
     "data": {
      "text/plain": [
       "1902-09-30   -2.258107\n",
       "1902-10-01    0.630385\n",
       "1902-10-02    1.405148\n",
       "1902-10-03   -0.738175\n",
       "1902-10-04   -0.919536\n",
       "                ...   \n",
       "1903-01-26   -0.871596\n",
       "1903-01-27   -1.591001\n",
       "1903-01-28    0.420202\n",
       "1903-01-29   -0.908201\n",
       "1903-01-30    0.193315\n",
       "Freq: D, Length: 123, dtype: float64"
      ]
     },
     "execution_count": 49,
     "metadata": {},
     "output_type": "execute_result"
    }
   ],
   "source": [
    "new_ts[datetime(1902,9,30):datetime(1903,1,30)]"
   ]
  },
  {
   "cell_type": "code",
   "execution_count": 50,
   "id": "a21647f2-99a7-487a-8acc-7a7db369bbc3",
   "metadata": {},
   "outputs": [
    {
     "data": {
      "text/plain": [
       "1900-09-24   -1.265760\n",
       "1900-09-25   -0.952408\n",
       "1900-09-26   -0.421246\n",
       "1900-09-27   -3.236172\n",
       "1900-09-28   -2.136842\n",
       "                ...   \n",
       "1902-09-26   -0.959754\n",
       "1902-09-27   -1.698851\n",
       "1902-09-28   -1.543520\n",
       "1902-09-29    0.444459\n",
       "1902-09-30   -2.258107\n",
       "Freq: D, Length: 737, dtype: float64"
      ]
     },
     "execution_count": 50,
     "metadata": {},
     "output_type": "execute_result"
    }
   ],
   "source": [
    "#Öncesini ve sonrasını filtrelemek için kullanabiliriz\n",
    "new_ts.truncate(after=\"1902-09-30\")"
   ]
  },
  {
   "cell_type": "code",
   "execution_count": 51,
   "id": "e09a14c5-0e20-4939-b311-03715a6797ff",
   "metadata": {},
   "outputs": [],
   "source": [
    "date=pd.date_range(\"1/1/2020\",periods=100,freq=\"W-MON\") #Pazartesi günlerini alır"
   ]
  },
  {
   "cell_type": "code",
   "execution_count": 52,
   "id": "4cf635c8-604c-4109-8117-ae25608c9558",
   "metadata": {},
   "outputs": [
    {
     "data": {
      "text/plain": [
       "DatetimeIndex(['2020-01-06', '2020-01-13', '2020-01-20', '2020-01-27',\n",
       "               '2020-02-03', '2020-02-10', '2020-02-17', '2020-02-24',\n",
       "               '2020-03-02', '2020-03-09', '2020-03-16', '2020-03-23',\n",
       "               '2020-03-30', '2020-04-06', '2020-04-13', '2020-04-20',\n",
       "               '2020-04-27', '2020-05-04', '2020-05-11', '2020-05-18',\n",
       "               '2020-05-25', '2020-06-01', '2020-06-08', '2020-06-15',\n",
       "               '2020-06-22', '2020-06-29', '2020-07-06', '2020-07-13',\n",
       "               '2020-07-20', '2020-07-27', '2020-08-03', '2020-08-10',\n",
       "               '2020-08-17', '2020-08-24', '2020-08-31', '2020-09-07',\n",
       "               '2020-09-14', '2020-09-21', '2020-09-28', '2020-10-05',\n",
       "               '2020-10-12', '2020-10-19', '2020-10-26', '2020-11-02',\n",
       "               '2020-11-09', '2020-11-16', '2020-11-23', '2020-11-30',\n",
       "               '2020-12-07', '2020-12-14', '2020-12-21', '2020-12-28',\n",
       "               '2021-01-04', '2021-01-11', '2021-01-18', '2021-01-25',\n",
       "               '2021-02-01', '2021-02-08', '2021-02-15', '2021-02-22',\n",
       "               '2021-03-01', '2021-03-08', '2021-03-15', '2021-03-22',\n",
       "               '2021-03-29', '2021-04-05', '2021-04-12', '2021-04-19',\n",
       "               '2021-04-26', '2021-05-03', '2021-05-10', '2021-05-17',\n",
       "               '2021-05-24', '2021-05-31', '2021-06-07', '2021-06-14',\n",
       "               '2021-06-21', '2021-06-28', '2021-07-05', '2021-07-12',\n",
       "               '2021-07-19', '2021-07-26', '2021-08-02', '2021-08-09',\n",
       "               '2021-08-16', '2021-08-23', '2021-08-30', '2021-09-06',\n",
       "               '2021-09-13', '2021-09-20', '2021-09-27', '2021-10-04',\n",
       "               '2021-10-11', '2021-10-18', '2021-10-25', '2021-11-01',\n",
       "               '2021-11-08', '2021-11-15', '2021-11-22', '2021-11-29'],\n",
       "              dtype='datetime64[ns]', freq='W-MON')"
      ]
     },
     "execution_count": 52,
     "metadata": {},
     "output_type": "execute_result"
    }
   ],
   "source": [
    "date"
   ]
  },
  {
   "cell_type": "code",
   "execution_count": 53,
   "id": "d7552db3-d843-41a4-92d1-ab43581e9805",
   "metadata": {},
   "outputs": [],
   "source": [
    "date=pd.date_range(start=\"2018\",end=\"2019\", freq=\"BM\") #ayın son günlerini alır"
   ]
  },
  {
   "cell_type": "code",
   "execution_count": 54,
   "id": "9420452b-3ce7-4619-8fd3-6ad60e416419",
   "metadata": {},
   "outputs": [
    {
     "data": {
      "text/plain": [
       "DatetimeIndex(['2018-01-31', '2018-02-28', '2018-03-30', '2018-04-30',\n",
       "               '2018-05-31', '2018-06-29', '2018-07-31', '2018-08-31',\n",
       "               '2018-09-28', '2018-10-31', '2018-11-30', '2018-12-31'],\n",
       "              dtype='datetime64[ns]', freq='BM')"
      ]
     },
     "execution_count": 54,
     "metadata": {},
     "output_type": "execute_result"
    }
   ],
   "source": [
    "date"
   ]
  },
  {
   "cell_type": "code",
   "execution_count": 55,
   "id": "6ead69db-eeda-4e3e-b18a-1da7678966e6",
   "metadata": {},
   "outputs": [],
   "source": [
    "#https://www.kaggle.com/datasets/vaibhavsxn/google-stock-prices-training-and-test-data\n",
    "google = pd.read_csv(\"Google_Stock_Price_Train.csv\")"
   ]
  },
  {
   "cell_type": "code",
   "execution_count": 56,
   "id": "22265509-cd1f-458f-927b-acc2b20c7af5",
   "metadata": {},
   "outputs": [
    {
     "data": {
      "text/html": [
       "<div>\n",
       "<style scoped>\n",
       "    .dataframe tbody tr th:only-of-type {\n",
       "        vertical-align: middle;\n",
       "    }\n",
       "\n",
       "    .dataframe tbody tr th {\n",
       "        vertical-align: top;\n",
       "    }\n",
       "\n",
       "    .dataframe thead th {\n",
       "        text-align: right;\n",
       "    }\n",
       "</style>\n",
       "<table border=\"1\" class=\"dataframe\">\n",
       "  <thead>\n",
       "    <tr style=\"text-align: right;\">\n",
       "      <th></th>\n",
       "      <th>Date</th>\n",
       "      <th>Open</th>\n",
       "      <th>High</th>\n",
       "      <th>Low</th>\n",
       "      <th>Close</th>\n",
       "      <th>Volume</th>\n",
       "    </tr>\n",
       "  </thead>\n",
       "  <tbody>\n",
       "    <tr>\n",
       "      <th>0</th>\n",
       "      <td>1/3/2012</td>\n",
       "      <td>325.25</td>\n",
       "      <td>332.83</td>\n",
       "      <td>324.97</td>\n",
       "      <td>663.59</td>\n",
       "      <td>7,380,500</td>\n",
       "    </tr>\n",
       "    <tr>\n",
       "      <th>1</th>\n",
       "      <td>1/4/2012</td>\n",
       "      <td>331.27</td>\n",
       "      <td>333.87</td>\n",
       "      <td>329.08</td>\n",
       "      <td>666.45</td>\n",
       "      <td>5,749,400</td>\n",
       "    </tr>\n",
       "    <tr>\n",
       "      <th>2</th>\n",
       "      <td>1/5/2012</td>\n",
       "      <td>329.83</td>\n",
       "      <td>330.75</td>\n",
       "      <td>326.89</td>\n",
       "      <td>657.21</td>\n",
       "      <td>6,590,300</td>\n",
       "    </tr>\n",
       "    <tr>\n",
       "      <th>3</th>\n",
       "      <td>1/6/2012</td>\n",
       "      <td>328.34</td>\n",
       "      <td>328.77</td>\n",
       "      <td>323.68</td>\n",
       "      <td>648.24</td>\n",
       "      <td>5,405,900</td>\n",
       "    </tr>\n",
       "    <tr>\n",
       "      <th>4</th>\n",
       "      <td>1/9/2012</td>\n",
       "      <td>322.04</td>\n",
       "      <td>322.29</td>\n",
       "      <td>309.46</td>\n",
       "      <td>620.76</td>\n",
       "      <td>11,688,800</td>\n",
       "    </tr>\n",
       "    <tr>\n",
       "      <th>...</th>\n",
       "      <td>...</td>\n",
       "      <td>...</td>\n",
       "      <td>...</td>\n",
       "      <td>...</td>\n",
       "      <td>...</td>\n",
       "      <td>...</td>\n",
       "    </tr>\n",
       "    <tr>\n",
       "      <th>1253</th>\n",
       "      <td>12/23/2016</td>\n",
       "      <td>790.90</td>\n",
       "      <td>792.74</td>\n",
       "      <td>787.28</td>\n",
       "      <td>789.91</td>\n",
       "      <td>623,400</td>\n",
       "    </tr>\n",
       "    <tr>\n",
       "      <th>1254</th>\n",
       "      <td>12/27/2016</td>\n",
       "      <td>790.68</td>\n",
       "      <td>797.86</td>\n",
       "      <td>787.66</td>\n",
       "      <td>791.55</td>\n",
       "      <td>789,100</td>\n",
       "    </tr>\n",
       "    <tr>\n",
       "      <th>1255</th>\n",
       "      <td>12/28/2016</td>\n",
       "      <td>793.70</td>\n",
       "      <td>794.23</td>\n",
       "      <td>783.20</td>\n",
       "      <td>785.05</td>\n",
       "      <td>1,153,800</td>\n",
       "    </tr>\n",
       "    <tr>\n",
       "      <th>1256</th>\n",
       "      <td>12/29/2016</td>\n",
       "      <td>783.33</td>\n",
       "      <td>785.93</td>\n",
       "      <td>778.92</td>\n",
       "      <td>782.79</td>\n",
       "      <td>744,300</td>\n",
       "    </tr>\n",
       "    <tr>\n",
       "      <th>1257</th>\n",
       "      <td>12/30/2016</td>\n",
       "      <td>782.75</td>\n",
       "      <td>782.78</td>\n",
       "      <td>770.41</td>\n",
       "      <td>771.82</td>\n",
       "      <td>1,770,000</td>\n",
       "    </tr>\n",
       "  </tbody>\n",
       "</table>\n",
       "<p>1258 rows × 6 columns</p>\n",
       "</div>"
      ],
      "text/plain": [
       "            Date    Open    High     Low   Close      Volume\n",
       "0       1/3/2012  325.25  332.83  324.97  663.59   7,380,500\n",
       "1       1/4/2012  331.27  333.87  329.08  666.45   5,749,400\n",
       "2       1/5/2012  329.83  330.75  326.89  657.21   6,590,300\n",
       "3       1/6/2012  328.34  328.77  323.68  648.24   5,405,900\n",
       "4       1/9/2012  322.04  322.29  309.46  620.76  11,688,800\n",
       "...          ...     ...     ...     ...     ...         ...\n",
       "1253  12/23/2016  790.90  792.74  787.28  789.91     623,400\n",
       "1254  12/27/2016  790.68  797.86  787.66  791.55     789,100\n",
       "1255  12/28/2016  793.70  794.23  783.20  785.05   1,153,800\n",
       "1256  12/29/2016  783.33  785.93  778.92  782.79     744,300\n",
       "1257  12/30/2016  782.75  782.78  770.41  771.82   1,770,000\n",
       "\n",
       "[1258 rows x 6 columns]"
      ]
     },
     "execution_count": 56,
     "metadata": {},
     "output_type": "execute_result"
    }
   ],
   "source": [
    "google"
   ]
  },
  {
   "cell_type": "code",
   "execution_count": 57,
   "id": "a5be6481-fe50-45e8-b04a-9f37ecfd3e8c",
   "metadata": {},
   "outputs": [
    {
     "data": {
      "text/plain": [
       "Date       object\n",
       "Open      float64\n",
       "High      float64\n",
       "Low       float64\n",
       "Close      object\n",
       "Volume     object\n",
       "dtype: object"
      ]
     },
     "execution_count": 57,
     "metadata": {},
     "output_type": "execute_result"
    }
   ],
   "source": [
    "google.dtypes"
   ]
  },
  {
   "cell_type": "code",
   "execution_count": 58,
   "id": "015511fc-c360-43d7-8bf1-14dbcb391cc1",
   "metadata": {},
   "outputs": [],
   "source": [
    "google = pd.read_csv(\"Google_Stock_Price_Train.csv\",parse_dates = [\"Date\"], index_col = [\"Date\"])"
   ]
  },
  {
   "cell_type": "code",
   "execution_count": 59,
   "id": "ab16fbfe-2c66-4acd-9dc9-3ae9312788f3",
   "metadata": {},
   "outputs": [
    {
     "data": {
      "text/html": [
       "<div>\n",
       "<style scoped>\n",
       "    .dataframe tbody tr th:only-of-type {\n",
       "        vertical-align: middle;\n",
       "    }\n",
       "\n",
       "    .dataframe tbody tr th {\n",
       "        vertical-align: top;\n",
       "    }\n",
       "\n",
       "    .dataframe thead th {\n",
       "        text-align: right;\n",
       "    }\n",
       "</style>\n",
       "<table border=\"1\" class=\"dataframe\">\n",
       "  <thead>\n",
       "    <tr style=\"text-align: right;\">\n",
       "      <th></th>\n",
       "      <th>Open</th>\n",
       "      <th>High</th>\n",
       "      <th>Low</th>\n",
       "      <th>Close</th>\n",
       "      <th>Volume</th>\n",
       "    </tr>\n",
       "    <tr>\n",
       "      <th>Date</th>\n",
       "      <th></th>\n",
       "      <th></th>\n",
       "      <th></th>\n",
       "      <th></th>\n",
       "      <th></th>\n",
       "    </tr>\n",
       "  </thead>\n",
       "  <tbody>\n",
       "    <tr>\n",
       "      <th>2012-01-03</th>\n",
       "      <td>325.25</td>\n",
       "      <td>332.83</td>\n",
       "      <td>324.97</td>\n",
       "      <td>663.59</td>\n",
       "      <td>7,380,500</td>\n",
       "    </tr>\n",
       "    <tr>\n",
       "      <th>2012-01-04</th>\n",
       "      <td>331.27</td>\n",
       "      <td>333.87</td>\n",
       "      <td>329.08</td>\n",
       "      <td>666.45</td>\n",
       "      <td>5,749,400</td>\n",
       "    </tr>\n",
       "    <tr>\n",
       "      <th>2012-01-05</th>\n",
       "      <td>329.83</td>\n",
       "      <td>330.75</td>\n",
       "      <td>326.89</td>\n",
       "      <td>657.21</td>\n",
       "      <td>6,590,300</td>\n",
       "    </tr>\n",
       "    <tr>\n",
       "      <th>2012-01-06</th>\n",
       "      <td>328.34</td>\n",
       "      <td>328.77</td>\n",
       "      <td>323.68</td>\n",
       "      <td>648.24</td>\n",
       "      <td>5,405,900</td>\n",
       "    </tr>\n",
       "    <tr>\n",
       "      <th>2012-01-09</th>\n",
       "      <td>322.04</td>\n",
       "      <td>322.29</td>\n",
       "      <td>309.46</td>\n",
       "      <td>620.76</td>\n",
       "      <td>11,688,800</td>\n",
       "    </tr>\n",
       "    <tr>\n",
       "      <th>...</th>\n",
       "      <td>...</td>\n",
       "      <td>...</td>\n",
       "      <td>...</td>\n",
       "      <td>...</td>\n",
       "      <td>...</td>\n",
       "    </tr>\n",
       "    <tr>\n",
       "      <th>2016-12-23</th>\n",
       "      <td>790.90</td>\n",
       "      <td>792.74</td>\n",
       "      <td>787.28</td>\n",
       "      <td>789.91</td>\n",
       "      <td>623,400</td>\n",
       "    </tr>\n",
       "    <tr>\n",
       "      <th>2016-12-27</th>\n",
       "      <td>790.68</td>\n",
       "      <td>797.86</td>\n",
       "      <td>787.66</td>\n",
       "      <td>791.55</td>\n",
       "      <td>789,100</td>\n",
       "    </tr>\n",
       "    <tr>\n",
       "      <th>2016-12-28</th>\n",
       "      <td>793.70</td>\n",
       "      <td>794.23</td>\n",
       "      <td>783.20</td>\n",
       "      <td>785.05</td>\n",
       "      <td>1,153,800</td>\n",
       "    </tr>\n",
       "    <tr>\n",
       "      <th>2016-12-29</th>\n",
       "      <td>783.33</td>\n",
       "      <td>785.93</td>\n",
       "      <td>778.92</td>\n",
       "      <td>782.79</td>\n",
       "      <td>744,300</td>\n",
       "    </tr>\n",
       "    <tr>\n",
       "      <th>2016-12-30</th>\n",
       "      <td>782.75</td>\n",
       "      <td>782.78</td>\n",
       "      <td>770.41</td>\n",
       "      <td>771.82</td>\n",
       "      <td>1,770,000</td>\n",
       "    </tr>\n",
       "  </tbody>\n",
       "</table>\n",
       "<p>1258 rows × 5 columns</p>\n",
       "</div>"
      ],
      "text/plain": [
       "              Open    High     Low   Close      Volume\n",
       "Date                                                  \n",
       "2012-01-03  325.25  332.83  324.97  663.59   7,380,500\n",
       "2012-01-04  331.27  333.87  329.08  666.45   5,749,400\n",
       "2012-01-05  329.83  330.75  326.89  657.21   6,590,300\n",
       "2012-01-06  328.34  328.77  323.68  648.24   5,405,900\n",
       "2012-01-09  322.04  322.29  309.46  620.76  11,688,800\n",
       "...            ...     ...     ...     ...         ...\n",
       "2016-12-23  790.90  792.74  787.28  789.91     623,400\n",
       "2016-12-27  790.68  797.86  787.66  791.55     789,100\n",
       "2016-12-28  793.70  794.23  783.20  785.05   1,153,800\n",
       "2016-12-29  783.33  785.93  778.92  782.79     744,300\n",
       "2016-12-30  782.75  782.78  770.41  771.82   1,770,000\n",
       "\n",
       "[1258 rows x 5 columns]"
      ]
     },
     "execution_count": 59,
     "metadata": {},
     "output_type": "execute_result"
    }
   ],
   "source": [
    "google"
   ]
  },
  {
   "cell_type": "code",
   "execution_count": 60,
   "id": "5f3a88f2-7400-49d7-8791-201fa88f35a4",
   "metadata": {},
   "outputs": [
    {
     "data": {
      "text/plain": [
       "Open      float64\n",
       "High      float64\n",
       "Low       float64\n",
       "Close      object\n",
       "Volume     object\n",
       "dtype: object"
      ]
     },
     "execution_count": 60,
     "metadata": {},
     "output_type": "execute_result"
    }
   ],
   "source": [
    "google.dtypes"
   ]
  },
  {
   "cell_type": "code",
   "execution_count": 61,
   "id": "3c09a413-2bbb-4ddc-92c6-ce1c56a42016",
   "metadata": {},
   "outputs": [
    {
     "data": {
      "text/html": [
       "<div>\n",
       "<style scoped>\n",
       "    .dataframe tbody tr th:only-of-type {\n",
       "        vertical-align: middle;\n",
       "    }\n",
       "\n",
       "    .dataframe tbody tr th {\n",
       "        vertical-align: top;\n",
       "    }\n",
       "\n",
       "    .dataframe thead th {\n",
       "        text-align: right;\n",
       "    }\n",
       "</style>\n",
       "<table border=\"1\" class=\"dataframe\">\n",
       "  <thead>\n",
       "    <tr style=\"text-align: right;\">\n",
       "      <th></th>\n",
       "      <th>Open</th>\n",
       "      <th>High</th>\n",
       "      <th>Low</th>\n",
       "      <th>Close</th>\n",
       "      <th>Volume</th>\n",
       "    </tr>\n",
       "    <tr>\n",
       "      <th>Date</th>\n",
       "      <th></th>\n",
       "      <th></th>\n",
       "      <th></th>\n",
       "      <th></th>\n",
       "      <th></th>\n",
       "    </tr>\n",
       "  </thead>\n",
       "  <tbody>\n",
       "    <tr>\n",
       "      <th>2016-01-04</th>\n",
       "      <td>743.00</td>\n",
       "      <td>744.06</td>\n",
       "      <td>731.26</td>\n",
       "      <td>741.84</td>\n",
       "      <td>3,272,800</td>\n",
       "    </tr>\n",
       "    <tr>\n",
       "      <th>2016-01-05</th>\n",
       "      <td>746.45</td>\n",
       "      <td>752.00</td>\n",
       "      <td>738.64</td>\n",
       "      <td>742.58</td>\n",
       "      <td>1,950,700</td>\n",
       "    </tr>\n",
       "    <tr>\n",
       "      <th>2016-01-06</th>\n",
       "      <td>730.00</td>\n",
       "      <td>747.18</td>\n",
       "      <td>728.92</td>\n",
       "      <td>743.62</td>\n",
       "      <td>1,947,000</td>\n",
       "    </tr>\n",
       "    <tr>\n",
       "      <th>2016-01-07</th>\n",
       "      <td>730.31</td>\n",
       "      <td>738.50</td>\n",
       "      <td>719.06</td>\n",
       "      <td>726.39</td>\n",
       "      <td>2,963,700</td>\n",
       "    </tr>\n",
       "    <tr>\n",
       "      <th>2016-01-08</th>\n",
       "      <td>731.45</td>\n",
       "      <td>733.23</td>\n",
       "      <td>713.00</td>\n",
       "      <td>714.47</td>\n",
       "      <td>2,450,900</td>\n",
       "    </tr>\n",
       "    <tr>\n",
       "      <th>...</th>\n",
       "      <td>...</td>\n",
       "      <td>...</td>\n",
       "      <td>...</td>\n",
       "      <td>...</td>\n",
       "      <td>...</td>\n",
       "    </tr>\n",
       "    <tr>\n",
       "      <th>2016-12-23</th>\n",
       "      <td>790.90</td>\n",
       "      <td>792.74</td>\n",
       "      <td>787.28</td>\n",
       "      <td>789.91</td>\n",
       "      <td>623,400</td>\n",
       "    </tr>\n",
       "    <tr>\n",
       "      <th>2016-12-27</th>\n",
       "      <td>790.68</td>\n",
       "      <td>797.86</td>\n",
       "      <td>787.66</td>\n",
       "      <td>791.55</td>\n",
       "      <td>789,100</td>\n",
       "    </tr>\n",
       "    <tr>\n",
       "      <th>2016-12-28</th>\n",
       "      <td>793.70</td>\n",
       "      <td>794.23</td>\n",
       "      <td>783.20</td>\n",
       "      <td>785.05</td>\n",
       "      <td>1,153,800</td>\n",
       "    </tr>\n",
       "    <tr>\n",
       "      <th>2016-12-29</th>\n",
       "      <td>783.33</td>\n",
       "      <td>785.93</td>\n",
       "      <td>778.92</td>\n",
       "      <td>782.79</td>\n",
       "      <td>744,300</td>\n",
       "    </tr>\n",
       "    <tr>\n",
       "      <th>2016-12-30</th>\n",
       "      <td>782.75</td>\n",
       "      <td>782.78</td>\n",
       "      <td>770.41</td>\n",
       "      <td>771.82</td>\n",
       "      <td>1,770,000</td>\n",
       "    </tr>\n",
       "  </tbody>\n",
       "</table>\n",
       "<p>252 rows × 5 columns</p>\n",
       "</div>"
      ],
      "text/plain": [
       "              Open    High     Low   Close     Volume\n",
       "Date                                                 \n",
       "2016-01-04  743.00  744.06  731.26  741.84  3,272,800\n",
       "2016-01-05  746.45  752.00  738.64  742.58  1,950,700\n",
       "2016-01-06  730.00  747.18  728.92  743.62  1,947,000\n",
       "2016-01-07  730.31  738.50  719.06  726.39  2,963,700\n",
       "2016-01-08  731.45  733.23  713.00  714.47  2,450,900\n",
       "...            ...     ...     ...     ...        ...\n",
       "2016-12-23  790.90  792.74  787.28  789.91    623,400\n",
       "2016-12-27  790.68  797.86  787.66  791.55    789,100\n",
       "2016-12-28  793.70  794.23  783.20  785.05  1,153,800\n",
       "2016-12-29  783.33  785.93  778.92  782.79    744,300\n",
       "2016-12-30  782.75  782.78  770.41  771.82  1,770,000\n",
       "\n",
       "[252 rows x 5 columns]"
      ]
     },
     "execution_count": 61,
     "metadata": {},
     "output_type": "execute_result"
    }
   ],
   "source": [
    "google.loc[\"2016\"]"
   ]
  },
  {
   "cell_type": "code",
   "execution_count": 62,
   "id": "dce5abaf-0d13-4617-83aa-7a4242bca5d3",
   "metadata": {},
   "outputs": [
    {
     "data": {
      "text/html": [
       "<div>\n",
       "<style scoped>\n",
       "    .dataframe tbody tr th:only-of-type {\n",
       "        vertical-align: middle;\n",
       "    }\n",
       "\n",
       "    .dataframe tbody tr th {\n",
       "        vertical-align: top;\n",
       "    }\n",
       "\n",
       "    .dataframe thead th {\n",
       "        text-align: right;\n",
       "    }\n",
       "</style>\n",
       "<table border=\"1\" class=\"dataframe\">\n",
       "  <thead>\n",
       "    <tr style=\"text-align: right;\">\n",
       "      <th></th>\n",
       "      <th>Open</th>\n",
       "      <th>High</th>\n",
       "      <th>Low</th>\n",
       "      <th>Close</th>\n",
       "      <th>Volume</th>\n",
       "    </tr>\n",
       "    <tr>\n",
       "      <th>Date</th>\n",
       "      <th></th>\n",
       "      <th></th>\n",
       "      <th></th>\n",
       "      <th></th>\n",
       "      <th></th>\n",
       "    </tr>\n",
       "  </thead>\n",
       "  <tbody>\n",
       "    <tr>\n",
       "      <th>2016-12-01</th>\n",
       "      <td>757.44</td>\n",
       "      <td>759.85</td>\n",
       "      <td>737.03</td>\n",
       "      <td>747.92</td>\n",
       "      <td>3,017,900</td>\n",
       "    </tr>\n",
       "    <tr>\n",
       "      <th>2016-12-02</th>\n",
       "      <td>744.59</td>\n",
       "      <td>754.00</td>\n",
       "      <td>743.10</td>\n",
       "      <td>750.5</td>\n",
       "      <td>1,452,500</td>\n",
       "    </tr>\n",
       "    <tr>\n",
       "      <th>2016-12-05</th>\n",
       "      <td>757.71</td>\n",
       "      <td>763.90</td>\n",
       "      <td>752.90</td>\n",
       "      <td>762.52</td>\n",
       "      <td>1,394,200</td>\n",
       "    </tr>\n",
       "    <tr>\n",
       "      <th>2016-12-06</th>\n",
       "      <td>764.73</td>\n",
       "      <td>768.83</td>\n",
       "      <td>757.34</td>\n",
       "      <td>759.11</td>\n",
       "      <td>1,690,700</td>\n",
       "    </tr>\n",
       "    <tr>\n",
       "      <th>2016-12-07</th>\n",
       "      <td>761.00</td>\n",
       "      <td>771.36</td>\n",
       "      <td>755.80</td>\n",
       "      <td>771.19</td>\n",
       "      <td>1,761,000</td>\n",
       "    </tr>\n",
       "    <tr>\n",
       "      <th>2016-12-08</th>\n",
       "      <td>772.48</td>\n",
       "      <td>778.18</td>\n",
       "      <td>767.23</td>\n",
       "      <td>776.42</td>\n",
       "      <td>1,488,100</td>\n",
       "    </tr>\n",
       "    <tr>\n",
       "      <th>2016-12-09</th>\n",
       "      <td>780.00</td>\n",
       "      <td>789.43</td>\n",
       "      <td>779.02</td>\n",
       "      <td>789.29</td>\n",
       "      <td>1,821,900</td>\n",
       "    </tr>\n",
       "    <tr>\n",
       "      <th>2016-12-12</th>\n",
       "      <td>785.04</td>\n",
       "      <td>791.25</td>\n",
       "      <td>784.35</td>\n",
       "      <td>789.27</td>\n",
       "      <td>2,104,100</td>\n",
       "    </tr>\n",
       "    <tr>\n",
       "      <th>2016-12-13</th>\n",
       "      <td>793.90</td>\n",
       "      <td>804.38</td>\n",
       "      <td>793.34</td>\n",
       "      <td>796.1</td>\n",
       "      <td>2,145,200</td>\n",
       "    </tr>\n",
       "    <tr>\n",
       "      <th>2016-12-14</th>\n",
       "      <td>797.40</td>\n",
       "      <td>804.00</td>\n",
       "      <td>794.01</td>\n",
       "      <td>797.07</td>\n",
       "      <td>1,704,200</td>\n",
       "    </tr>\n",
       "    <tr>\n",
       "      <th>2016-12-15</th>\n",
       "      <td>797.34</td>\n",
       "      <td>803.00</td>\n",
       "      <td>792.92</td>\n",
       "      <td>797.85</td>\n",
       "      <td>1,626,500</td>\n",
       "    </tr>\n",
       "    <tr>\n",
       "      <th>2016-12-16</th>\n",
       "      <td>800.40</td>\n",
       "      <td>800.86</td>\n",
       "      <td>790.29</td>\n",
       "      <td>790.8</td>\n",
       "      <td>2,443,800</td>\n",
       "    </tr>\n",
       "    <tr>\n",
       "      <th>2016-12-19</th>\n",
       "      <td>790.22</td>\n",
       "      <td>797.66</td>\n",
       "      <td>786.27</td>\n",
       "      <td>794.2</td>\n",
       "      <td>1,232,100</td>\n",
       "    </tr>\n",
       "    <tr>\n",
       "      <th>2016-12-20</th>\n",
       "      <td>796.76</td>\n",
       "      <td>798.65</td>\n",
       "      <td>793.27</td>\n",
       "      <td>796.42</td>\n",
       "      <td>951,000</td>\n",
       "    </tr>\n",
       "    <tr>\n",
       "      <th>2016-12-21</th>\n",
       "      <td>795.84</td>\n",
       "      <td>796.68</td>\n",
       "      <td>787.10</td>\n",
       "      <td>794.56</td>\n",
       "      <td>1,211,300</td>\n",
       "    </tr>\n",
       "    <tr>\n",
       "      <th>2016-12-22</th>\n",
       "      <td>792.36</td>\n",
       "      <td>793.32</td>\n",
       "      <td>788.58</td>\n",
       "      <td>791.26</td>\n",
       "      <td>972,200</td>\n",
       "    </tr>\n",
       "    <tr>\n",
       "      <th>2016-12-23</th>\n",
       "      <td>790.90</td>\n",
       "      <td>792.74</td>\n",
       "      <td>787.28</td>\n",
       "      <td>789.91</td>\n",
       "      <td>623,400</td>\n",
       "    </tr>\n",
       "    <tr>\n",
       "      <th>2016-12-27</th>\n",
       "      <td>790.68</td>\n",
       "      <td>797.86</td>\n",
       "      <td>787.66</td>\n",
       "      <td>791.55</td>\n",
       "      <td>789,100</td>\n",
       "    </tr>\n",
       "    <tr>\n",
       "      <th>2016-12-28</th>\n",
       "      <td>793.70</td>\n",
       "      <td>794.23</td>\n",
       "      <td>783.20</td>\n",
       "      <td>785.05</td>\n",
       "      <td>1,153,800</td>\n",
       "    </tr>\n",
       "    <tr>\n",
       "      <th>2016-12-29</th>\n",
       "      <td>783.33</td>\n",
       "      <td>785.93</td>\n",
       "      <td>778.92</td>\n",
       "      <td>782.79</td>\n",
       "      <td>744,300</td>\n",
       "    </tr>\n",
       "    <tr>\n",
       "      <th>2016-12-30</th>\n",
       "      <td>782.75</td>\n",
       "      <td>782.78</td>\n",
       "      <td>770.41</td>\n",
       "      <td>771.82</td>\n",
       "      <td>1,770,000</td>\n",
       "    </tr>\n",
       "  </tbody>\n",
       "</table>\n",
       "</div>"
      ],
      "text/plain": [
       "              Open    High     Low   Close     Volume\n",
       "Date                                                 \n",
       "2016-12-01  757.44  759.85  737.03  747.92  3,017,900\n",
       "2016-12-02  744.59  754.00  743.10   750.5  1,452,500\n",
       "2016-12-05  757.71  763.90  752.90  762.52  1,394,200\n",
       "2016-12-06  764.73  768.83  757.34  759.11  1,690,700\n",
       "2016-12-07  761.00  771.36  755.80  771.19  1,761,000\n",
       "2016-12-08  772.48  778.18  767.23  776.42  1,488,100\n",
       "2016-12-09  780.00  789.43  779.02  789.29  1,821,900\n",
       "2016-12-12  785.04  791.25  784.35  789.27  2,104,100\n",
       "2016-12-13  793.90  804.38  793.34   796.1  2,145,200\n",
       "2016-12-14  797.40  804.00  794.01  797.07  1,704,200\n",
       "2016-12-15  797.34  803.00  792.92  797.85  1,626,500\n",
       "2016-12-16  800.40  800.86  790.29   790.8  2,443,800\n",
       "2016-12-19  790.22  797.66  786.27   794.2  1,232,100\n",
       "2016-12-20  796.76  798.65  793.27  796.42    951,000\n",
       "2016-12-21  795.84  796.68  787.10  794.56  1,211,300\n",
       "2016-12-22  792.36  793.32  788.58  791.26    972,200\n",
       "2016-12-23  790.90  792.74  787.28  789.91    623,400\n",
       "2016-12-27  790.68  797.86  787.66  791.55    789,100\n",
       "2016-12-28  793.70  794.23  783.20  785.05  1,153,800\n",
       "2016-12-29  783.33  785.93  778.92  782.79    744,300\n",
       "2016-12-30  782.75  782.78  770.41  771.82  1,770,000"
      ]
     },
     "execution_count": 62,
     "metadata": {},
     "output_type": "execute_result"
    }
   ],
   "source": [
    "google.loc[\"2016-12\"]"
   ]
  },
  {
   "cell_type": "code",
   "execution_count": 63,
   "id": "3eb7817a-3860-48ca-b1e4-4a4795472c7d",
   "metadata": {},
   "outputs": [
    {
     "data": {
      "text/plain": [
       "782.3128571428572"
      ]
     },
     "execution_count": 63,
     "metadata": {},
     "output_type": "execute_result"
    }
   ],
   "source": [
    "google.loc[\"2016-12\"].Open.mean()"
   ]
  },
  {
   "cell_type": "code",
   "execution_count": 64,
   "id": "69ad7574-391a-4ac3-866f-19f8ffc50201",
   "metadata": {},
   "outputs": [
    {
     "data": {
      "text/html": [
       "<div>\n",
       "<style scoped>\n",
       "    .dataframe tbody tr th:only-of-type {\n",
       "        vertical-align: middle;\n",
       "    }\n",
       "\n",
       "    .dataframe tbody tr th {\n",
       "        vertical-align: top;\n",
       "    }\n",
       "\n",
       "    .dataframe thead th {\n",
       "        text-align: right;\n",
       "    }\n",
       "</style>\n",
       "<table border=\"1\" class=\"dataframe\">\n",
       "  <thead>\n",
       "    <tr style=\"text-align: right;\">\n",
       "      <th></th>\n",
       "      <th>Open</th>\n",
       "      <th>High</th>\n",
       "      <th>Low</th>\n",
       "      <th>Close</th>\n",
       "      <th>Volume</th>\n",
       "    </tr>\n",
       "    <tr>\n",
       "      <th>Date</th>\n",
       "      <th></th>\n",
       "      <th></th>\n",
       "      <th></th>\n",
       "      <th></th>\n",
       "      <th></th>\n",
       "    </tr>\n",
       "  </thead>\n",
       "  <tbody>\n",
       "    <tr>\n",
       "      <th>2016-12-02</th>\n",
       "      <td>744.59</td>\n",
       "      <td>754.00</td>\n",
       "      <td>743.10</td>\n",
       "      <td>750.5</td>\n",
       "      <td>1,452,500</td>\n",
       "    </tr>\n",
       "    <tr>\n",
       "      <th>2016-12-05</th>\n",
       "      <td>757.71</td>\n",
       "      <td>763.90</td>\n",
       "      <td>752.90</td>\n",
       "      <td>762.52</td>\n",
       "      <td>1,394,200</td>\n",
       "    </tr>\n",
       "    <tr>\n",
       "      <th>2016-12-06</th>\n",
       "      <td>764.73</td>\n",
       "      <td>768.83</td>\n",
       "      <td>757.34</td>\n",
       "      <td>759.11</td>\n",
       "      <td>1,690,700</td>\n",
       "    </tr>\n",
       "    <tr>\n",
       "      <th>2016-12-07</th>\n",
       "      <td>761.00</td>\n",
       "      <td>771.36</td>\n",
       "      <td>755.80</td>\n",
       "      <td>771.19</td>\n",
       "      <td>1,761,000</td>\n",
       "    </tr>\n",
       "    <tr>\n",
       "      <th>2016-12-08</th>\n",
       "      <td>772.48</td>\n",
       "      <td>778.18</td>\n",
       "      <td>767.23</td>\n",
       "      <td>776.42</td>\n",
       "      <td>1,488,100</td>\n",
       "    </tr>\n",
       "    <tr>\n",
       "      <th>2016-12-09</th>\n",
       "      <td>780.00</td>\n",
       "      <td>789.43</td>\n",
       "      <td>779.02</td>\n",
       "      <td>789.29</td>\n",
       "      <td>1,821,900</td>\n",
       "    </tr>\n",
       "    <tr>\n",
       "      <th>2016-12-12</th>\n",
       "      <td>785.04</td>\n",
       "      <td>791.25</td>\n",
       "      <td>784.35</td>\n",
       "      <td>789.27</td>\n",
       "      <td>2,104,100</td>\n",
       "    </tr>\n",
       "    <tr>\n",
       "      <th>2016-12-13</th>\n",
       "      <td>793.90</td>\n",
       "      <td>804.38</td>\n",
       "      <td>793.34</td>\n",
       "      <td>796.1</td>\n",
       "      <td>2,145,200</td>\n",
       "    </tr>\n",
       "    <tr>\n",
       "      <th>2016-12-14</th>\n",
       "      <td>797.40</td>\n",
       "      <td>804.00</td>\n",
       "      <td>794.01</td>\n",
       "      <td>797.07</td>\n",
       "      <td>1,704,200</td>\n",
       "    </tr>\n",
       "    <tr>\n",
       "      <th>2016-12-15</th>\n",
       "      <td>797.34</td>\n",
       "      <td>803.00</td>\n",
       "      <td>792.92</td>\n",
       "      <td>797.85</td>\n",
       "      <td>1,626,500</td>\n",
       "    </tr>\n",
       "    <tr>\n",
       "      <th>2016-12-16</th>\n",
       "      <td>800.40</td>\n",
       "      <td>800.86</td>\n",
       "      <td>790.29</td>\n",
       "      <td>790.8</td>\n",
       "      <td>2,443,800</td>\n",
       "    </tr>\n",
       "    <tr>\n",
       "      <th>2016-12-19</th>\n",
       "      <td>790.22</td>\n",
       "      <td>797.66</td>\n",
       "      <td>786.27</td>\n",
       "      <td>794.2</td>\n",
       "      <td>1,232,100</td>\n",
       "    </tr>\n",
       "  </tbody>\n",
       "</table>\n",
       "</div>"
      ],
      "text/plain": [
       "              Open    High     Low   Close     Volume\n",
       "Date                                                 \n",
       "2016-12-02  744.59  754.00  743.10   750.5  1,452,500\n",
       "2016-12-05  757.71  763.90  752.90  762.52  1,394,200\n",
       "2016-12-06  764.73  768.83  757.34  759.11  1,690,700\n",
       "2016-12-07  761.00  771.36  755.80  771.19  1,761,000\n",
       "2016-12-08  772.48  778.18  767.23  776.42  1,488,100\n",
       "2016-12-09  780.00  789.43  779.02  789.29  1,821,900\n",
       "2016-12-12  785.04  791.25  784.35  789.27  2,104,100\n",
       "2016-12-13  793.90  804.38  793.34   796.1  2,145,200\n",
       "2016-12-14  797.40  804.00  794.01  797.07  1,704,200\n",
       "2016-12-15  797.34  803.00  792.92  797.85  1,626,500\n",
       "2016-12-16  800.40  800.86  790.29   790.8  2,443,800\n",
       "2016-12-19  790.22  797.66  786.27   794.2  1,232,100"
      ]
     },
     "execution_count": 64,
     "metadata": {},
     "output_type": "execute_result"
    }
   ],
   "source": [
    "google[\"2016-12-02\":\"2016-12-19\"]"
   ]
  },
  {
   "cell_type": "code",
   "execution_count": 65,
   "id": "e57e5786-f631-49a2-afda-3e4550f247db",
   "metadata": {},
   "outputs": [
    {
     "data": {
      "text/html": [
       "<div>\n",
       "<style scoped>\n",
       "    .dataframe tbody tr th:only-of-type {\n",
       "        vertical-align: middle;\n",
       "    }\n",
       "\n",
       "    .dataframe tbody tr th {\n",
       "        vertical-align: top;\n",
       "    }\n",
       "\n",
       "    .dataframe thead th {\n",
       "        text-align: right;\n",
       "    }\n",
       "</style>\n",
       "<table border=\"1\" class=\"dataframe\">\n",
       "  <thead>\n",
       "    <tr style=\"text-align: right;\">\n",
       "      <th></th>\n",
       "      <th>Open</th>\n",
       "      <th>High</th>\n",
       "      <th>Low</th>\n",
       "      <th>Close</th>\n",
       "      <th>Volume</th>\n",
       "    </tr>\n",
       "    <tr>\n",
       "      <th>Date</th>\n",
       "      <th></th>\n",
       "      <th></th>\n",
       "      <th></th>\n",
       "      <th></th>\n",
       "      <th></th>\n",
       "    </tr>\n",
       "  </thead>\n",
       "  <tbody>\n",
       "    <tr>\n",
       "      <th>2012-01-03</th>\n",
       "      <td>325.25</td>\n",
       "      <td>332.83</td>\n",
       "      <td>324.97</td>\n",
       "      <td>663.59</td>\n",
       "      <td>7,380,500</td>\n",
       "    </tr>\n",
       "    <tr>\n",
       "      <th>2012-01-04</th>\n",
       "      <td>331.27</td>\n",
       "      <td>333.87</td>\n",
       "      <td>329.08</td>\n",
       "      <td>666.45</td>\n",
       "      <td>5,749,400</td>\n",
       "    </tr>\n",
       "    <tr>\n",
       "      <th>2012-01-05</th>\n",
       "      <td>329.83</td>\n",
       "      <td>330.75</td>\n",
       "      <td>326.89</td>\n",
       "      <td>657.21</td>\n",
       "      <td>6,590,300</td>\n",
       "    </tr>\n",
       "    <tr>\n",
       "      <th>2012-01-06</th>\n",
       "      <td>328.34</td>\n",
       "      <td>328.77</td>\n",
       "      <td>323.68</td>\n",
       "      <td>648.24</td>\n",
       "      <td>5,405,900</td>\n",
       "    </tr>\n",
       "    <tr>\n",
       "      <th>2012-01-09</th>\n",
       "      <td>322.04</td>\n",
       "      <td>322.29</td>\n",
       "      <td>309.46</td>\n",
       "      <td>620.76</td>\n",
       "      <td>11,688,800</td>\n",
       "    </tr>\n",
       "    <tr>\n",
       "      <th>...</th>\n",
       "      <td>...</td>\n",
       "      <td>...</td>\n",
       "      <td>...</td>\n",
       "      <td>...</td>\n",
       "      <td>...</td>\n",
       "    </tr>\n",
       "    <tr>\n",
       "      <th>2016-12-23</th>\n",
       "      <td>790.90</td>\n",
       "      <td>792.74</td>\n",
       "      <td>787.28</td>\n",
       "      <td>789.91</td>\n",
       "      <td>623,400</td>\n",
       "    </tr>\n",
       "    <tr>\n",
       "      <th>2016-12-27</th>\n",
       "      <td>790.68</td>\n",
       "      <td>797.86</td>\n",
       "      <td>787.66</td>\n",
       "      <td>791.55</td>\n",
       "      <td>789,100</td>\n",
       "    </tr>\n",
       "    <tr>\n",
       "      <th>2016-12-28</th>\n",
       "      <td>793.70</td>\n",
       "      <td>794.23</td>\n",
       "      <td>783.20</td>\n",
       "      <td>785.05</td>\n",
       "      <td>1,153,800</td>\n",
       "    </tr>\n",
       "    <tr>\n",
       "      <th>2016-12-29</th>\n",
       "      <td>783.33</td>\n",
       "      <td>785.93</td>\n",
       "      <td>778.92</td>\n",
       "      <td>782.79</td>\n",
       "      <td>744,300</td>\n",
       "    </tr>\n",
       "    <tr>\n",
       "      <th>2016-12-30</th>\n",
       "      <td>782.75</td>\n",
       "      <td>782.78</td>\n",
       "      <td>770.41</td>\n",
       "      <td>771.82</td>\n",
       "      <td>1,770,000</td>\n",
       "    </tr>\n",
       "  </tbody>\n",
       "</table>\n",
       "<p>1258 rows × 5 columns</p>\n",
       "</div>"
      ],
      "text/plain": [
       "              Open    High     Low   Close      Volume\n",
       "Date                                                  \n",
       "2012-01-03  325.25  332.83  324.97  663.59   7,380,500\n",
       "2012-01-04  331.27  333.87  329.08  666.45   5,749,400\n",
       "2012-01-05  329.83  330.75  326.89  657.21   6,590,300\n",
       "2012-01-06  328.34  328.77  323.68  648.24   5,405,900\n",
       "2012-01-09  322.04  322.29  309.46  620.76  11,688,800\n",
       "...            ...     ...     ...     ...         ...\n",
       "2016-12-23  790.90  792.74  787.28  789.91     623,400\n",
       "2016-12-27  790.68  797.86  787.66  791.55     789,100\n",
       "2016-12-28  793.70  794.23  783.20  785.05   1,153,800\n",
       "2016-12-29  783.33  785.93  778.92  782.79     744,300\n",
       "2016-12-30  782.75  782.78  770.41  771.82   1,770,000\n",
       "\n",
       "[1258 rows x 5 columns]"
      ]
     },
     "execution_count": 65,
     "metadata": {},
     "output_type": "execute_result"
    }
   ],
   "source": [
    "google"
   ]
  },
  {
   "cell_type": "code",
   "execution_count": 66,
   "id": "c0b29582-e883-4bc3-adc0-ef61ac50184f",
   "metadata": {},
   "outputs": [
    {
     "data": {
      "text/plain": [
       "array([ True,  True,  True, ..., False, False, False])"
      ]
     },
     "execution_count": 66,
     "metadata": {},
     "output_type": "execute_result"
    }
   ],
   "source": [
    "google.index < pd.to_datetime(\"2015-12-23\")"
   ]
  },
  {
   "cell_type": "code",
   "execution_count": 67,
   "id": "bfeb75db-810c-48d7-bad7-0db98b9fbda4",
   "metadata": {},
   "outputs": [
    {
     "data": {
      "text/html": [
       "<div>\n",
       "<style scoped>\n",
       "    .dataframe tbody tr th:only-of-type {\n",
       "        vertical-align: middle;\n",
       "    }\n",
       "\n",
       "    .dataframe tbody tr th {\n",
       "        vertical-align: top;\n",
       "    }\n",
       "\n",
       "    .dataframe thead th {\n",
       "        text-align: right;\n",
       "    }\n",
       "</style>\n",
       "<table border=\"1\" class=\"dataframe\">\n",
       "  <thead>\n",
       "    <tr style=\"text-align: right;\">\n",
       "      <th></th>\n",
       "      <th>Open</th>\n",
       "      <th>High</th>\n",
       "      <th>Low</th>\n",
       "      <th>Close</th>\n",
       "      <th>Volume</th>\n",
       "    </tr>\n",
       "    <tr>\n",
       "      <th>Date</th>\n",
       "      <th></th>\n",
       "      <th></th>\n",
       "      <th></th>\n",
       "      <th></th>\n",
       "      <th></th>\n",
       "    </tr>\n",
       "  </thead>\n",
       "  <tbody>\n",
       "    <tr>\n",
       "      <th>2012-01-03</th>\n",
       "      <td>325.25</td>\n",
       "      <td>332.83</td>\n",
       "      <td>324.97</td>\n",
       "      <td>663.59</td>\n",
       "      <td>7,380,500</td>\n",
       "    </tr>\n",
       "    <tr>\n",
       "      <th>2012-01-04</th>\n",
       "      <td>331.27</td>\n",
       "      <td>333.87</td>\n",
       "      <td>329.08</td>\n",
       "      <td>666.45</td>\n",
       "      <td>5,749,400</td>\n",
       "    </tr>\n",
       "    <tr>\n",
       "      <th>2012-01-05</th>\n",
       "      <td>329.83</td>\n",
       "      <td>330.75</td>\n",
       "      <td>326.89</td>\n",
       "      <td>657.21</td>\n",
       "      <td>6,590,300</td>\n",
       "    </tr>\n",
       "    <tr>\n",
       "      <th>2012-01-06</th>\n",
       "      <td>328.34</td>\n",
       "      <td>328.77</td>\n",
       "      <td>323.68</td>\n",
       "      <td>648.24</td>\n",
       "      <td>5,405,900</td>\n",
       "    </tr>\n",
       "    <tr>\n",
       "      <th>2012-01-09</th>\n",
       "      <td>322.04</td>\n",
       "      <td>322.29</td>\n",
       "      <td>309.46</td>\n",
       "      <td>620.76</td>\n",
       "      <td>11,688,800</td>\n",
       "    </tr>\n",
       "    <tr>\n",
       "      <th>...</th>\n",
       "      <td>...</td>\n",
       "      <td>...</td>\n",
       "      <td>...</td>\n",
       "      <td>...</td>\n",
       "      <td>...</td>\n",
       "    </tr>\n",
       "    <tr>\n",
       "      <th>2015-12-16</th>\n",
       "      <td>750.00</td>\n",
       "      <td>760.59</td>\n",
       "      <td>739.43</td>\n",
       "      <td>758.09</td>\n",
       "      <td>1,993,300</td>\n",
       "    </tr>\n",
       "    <tr>\n",
       "      <th>2015-12-17</th>\n",
       "      <td>762.42</td>\n",
       "      <td>762.68</td>\n",
       "      <td>749.00</td>\n",
       "      <td>749.43</td>\n",
       "      <td>1,553,400</td>\n",
       "    </tr>\n",
       "    <tr>\n",
       "      <th>2015-12-18</th>\n",
       "      <td>746.51</td>\n",
       "      <td>754.13</td>\n",
       "      <td>738.15</td>\n",
       "      <td>739.31</td>\n",
       "      <td>3,148,700</td>\n",
       "    </tr>\n",
       "    <tr>\n",
       "      <th>2015-12-21</th>\n",
       "      <td>746.13</td>\n",
       "      <td>750.00</td>\n",
       "      <td>740.00</td>\n",
       "      <td>747.77</td>\n",
       "      <td>1,525,700</td>\n",
       "    </tr>\n",
       "    <tr>\n",
       "      <th>2015-12-22</th>\n",
       "      <td>751.65</td>\n",
       "      <td>754.85</td>\n",
       "      <td>745.53</td>\n",
       "      <td>750</td>\n",
       "      <td>1,365,400</td>\n",
       "    </tr>\n",
       "  </tbody>\n",
       "</table>\n",
       "<p>1000 rows × 5 columns</p>\n",
       "</div>"
      ],
      "text/plain": [
       "              Open    High     Low   Close      Volume\n",
       "Date                                                  \n",
       "2012-01-03  325.25  332.83  324.97  663.59   7,380,500\n",
       "2012-01-04  331.27  333.87  329.08  666.45   5,749,400\n",
       "2012-01-05  329.83  330.75  326.89  657.21   6,590,300\n",
       "2012-01-06  328.34  328.77  323.68  648.24   5,405,900\n",
       "2012-01-09  322.04  322.29  309.46  620.76  11,688,800\n",
       "...            ...     ...     ...     ...         ...\n",
       "2015-12-16  750.00  760.59  739.43  758.09   1,993,300\n",
       "2015-12-17  762.42  762.68  749.00  749.43   1,553,400\n",
       "2015-12-18  746.51  754.13  738.15  739.31   3,148,700\n",
       "2015-12-21  746.13  750.00  740.00  747.77   1,525,700\n",
       "2015-12-22  751.65  754.85  745.53     750   1,365,400\n",
       "\n",
       "[1000 rows x 5 columns]"
      ]
     },
     "execution_count": 67,
     "metadata": {},
     "output_type": "execute_result"
    }
   ],
   "source": [
    "google[google.index < pd.to_datetime(\"2015-12-23\")]"
   ]
  },
  {
   "cell_type": "code",
   "execution_count": 68,
   "id": "d2eb3a78-8272-4279-becb-31ad131f01f3",
   "metadata": {},
   "outputs": [
    {
     "data": {
      "text/html": [
       "<div>\n",
       "<style scoped>\n",
       "    .dataframe tbody tr th:only-of-type {\n",
       "        vertical-align: middle;\n",
       "    }\n",
       "\n",
       "    .dataframe tbody tr th {\n",
       "        vertical-align: top;\n",
       "    }\n",
       "\n",
       "    .dataframe thead th {\n",
       "        text-align: right;\n",
       "    }\n",
       "</style>\n",
       "<table border=\"1\" class=\"dataframe\">\n",
       "  <thead>\n",
       "    <tr style=\"text-align: right;\">\n",
       "      <th></th>\n",
       "      <th>Open</th>\n",
       "      <th>High</th>\n",
       "      <th>Low</th>\n",
       "    </tr>\n",
       "    <tr>\n",
       "      <th>Date</th>\n",
       "      <th></th>\n",
       "      <th></th>\n",
       "      <th></th>\n",
       "    </tr>\n",
       "  </thead>\n",
       "  <tbody>\n",
       "    <tr>\n",
       "      <th>2012-01-31</th>\n",
       "      <td>307.354000</td>\n",
       "      <td>308.948000</td>\n",
       "      <td>303.780000</td>\n",
       "    </tr>\n",
       "    <tr>\n",
       "      <th>2012-02-29</th>\n",
       "      <td>301.353000</td>\n",
       "      <td>303.621000</td>\n",
       "      <td>299.525000</td>\n",
       "    </tr>\n",
       "    <tr>\n",
       "      <th>2012-03-31</th>\n",
       "      <td>312.104545</td>\n",
       "      <td>314.782273</td>\n",
       "      <td>309.808182</td>\n",
       "    </tr>\n",
       "    <tr>\n",
       "      <th>2012-04-30</th>\n",
       "      <td>309.498500</td>\n",
       "      <td>311.969000</td>\n",
       "      <td>306.244000</td>\n",
       "    </tr>\n",
       "    <tr>\n",
       "      <th>2012-05-31</th>\n",
       "      <td>301.883182</td>\n",
       "      <td>305.098636</td>\n",
       "      <td>298.618182</td>\n",
       "    </tr>\n",
       "    <tr>\n",
       "      <th>2012-06-30</th>\n",
       "      <td>284.581429</td>\n",
       "      <td>286.526667</td>\n",
       "      <td>281.693810</td>\n",
       "    </tr>\n",
       "    <tr>\n",
       "      <th>2012-07-31</th>\n",
       "      <td>296.090476</td>\n",
       "      <td>299.129524</td>\n",
       "      <td>293.545714</td>\n",
       "    </tr>\n",
       "    <tr>\n",
       "      <th>2012-08-31</th>\n",
       "      <td>328.430000</td>\n",
       "      <td>331.832174</td>\n",
       "      <td>326.998261</td>\n",
       "    </tr>\n",
       "    <tr>\n",
       "      <th>2012-09-30</th>\n",
       "      <td>356.254737</td>\n",
       "      <td>360.196316</td>\n",
       "      <td>354.043158</td>\n",
       "    </tr>\n",
       "    <tr>\n",
       "      <th>2012-10-31</th>\n",
       "      <td>363.969524</td>\n",
       "      <td>366.323333</td>\n",
       "      <td>358.290000</td>\n",
       "    </tr>\n",
       "    <tr>\n",
       "      <th>2012-11-30</th>\n",
       "      <td>333.640476</td>\n",
       "      <td>336.766190</td>\n",
       "      <td>330.474286</td>\n",
       "    </tr>\n",
       "    <tr>\n",
       "      <th>2012-12-31</th>\n",
       "      <td>350.513500</td>\n",
       "      <td>353.217500</td>\n",
       "      <td>347.692000</td>\n",
       "    </tr>\n",
       "    <tr>\n",
       "      <th>2013-01-31</th>\n",
       "      <td>365.391429</td>\n",
       "      <td>368.537143</td>\n",
       "      <td>362.889524</td>\n",
       "    </tr>\n",
       "    <tr>\n",
       "      <th>2013-02-28</th>\n",
       "      <td>390.512632</td>\n",
       "      <td>394.145789</td>\n",
       "      <td>388.451053</td>\n",
       "    </tr>\n",
       "    <tr>\n",
       "      <th>2013-03-31</th>\n",
       "      <td>407.798000</td>\n",
       "      <td>410.025500</td>\n",
       "      <td>405.226000</td>\n",
       "    </tr>\n",
       "    <tr>\n",
       "      <th>2013-04-30</th>\n",
       "      <td>396.128636</td>\n",
       "      <td>399.636818</td>\n",
       "      <td>392.278182</td>\n",
       "    </tr>\n",
       "    <tr>\n",
       "      <th>2013-05-31</th>\n",
       "      <td>435.655909</td>\n",
       "      <td>439.790455</td>\n",
       "      <td>433.010000</td>\n",
       "    </tr>\n",
       "    <tr>\n",
       "      <th>2013-06-30</th>\n",
       "      <td>437.531000</td>\n",
       "      <td>440.384000</td>\n",
       "      <td>433.806000</td>\n",
       "    </tr>\n",
       "    <tr>\n",
       "      <th>2013-07-31</th>\n",
       "      <td>449.122727</td>\n",
       "      <td>451.882273</td>\n",
       "      <td>445.738182</td>\n",
       "    </tr>\n",
       "    <tr>\n",
       "      <th>2013-08-31</th>\n",
       "      <td>436.983636</td>\n",
       "      <td>438.944545</td>\n",
       "      <td>434.236364</td>\n",
       "    </tr>\n",
       "    <tr>\n",
       "      <th>2013-09-30</th>\n",
       "      <td>440.612500</td>\n",
       "      <td>443.201500</td>\n",
       "      <td>437.825000</td>\n",
       "    </tr>\n",
       "    <tr>\n",
       "      <th>2013-10-31</th>\n",
       "      <td>466.113043</td>\n",
       "      <td>470.880000</td>\n",
       "      <td>462.944783</td>\n",
       "    </tr>\n",
       "    <tr>\n",
       "      <th>2013-11-30</th>\n",
       "      <td>513.105000</td>\n",
       "      <td>516.917500</td>\n",
       "      <td>510.623500</td>\n",
       "    </tr>\n",
       "    <tr>\n",
       "      <th>2013-12-31</th>\n",
       "      <td>539.631429</td>\n",
       "      <td>543.059524</td>\n",
       "      <td>536.401905</td>\n",
       "    </tr>\n",
       "    <tr>\n",
       "      <th>2014-01-31</th>\n",
       "      <td>567.653810</td>\n",
       "      <td>570.628571</td>\n",
       "      <td>561.246190</td>\n",
       "    </tr>\n",
       "    <tr>\n",
       "      <th>2014-02-28</th>\n",
       "      <td>592.472105</td>\n",
       "      <td>596.577368</td>\n",
       "      <td>588.668421</td>\n",
       "    </tr>\n",
       "    <tr>\n",
       "      <th>2014-03-31</th>\n",
       "      <td>593.049048</td>\n",
       "      <td>595.711429</td>\n",
       "      <td>585.746190</td>\n",
       "    </tr>\n",
       "    <tr>\n",
       "      <th>2014-04-30</th>\n",
       "      <td>542.480952</td>\n",
       "      <td>548.086667</td>\n",
       "      <td>531.583333</td>\n",
       "    </tr>\n",
       "    <tr>\n",
       "      <th>2014-05-31</th>\n",
       "      <td>531.676667</td>\n",
       "      <td>536.100000</td>\n",
       "      <td>526.968571</td>\n",
       "    </tr>\n",
       "    <tr>\n",
       "      <th>2014-06-30</th>\n",
       "      <td>556.316190</td>\n",
       "      <td>559.991429</td>\n",
       "      <td>551.249524</td>\n",
       "    </tr>\n",
       "    <tr>\n",
       "      <th>2014-07-31</th>\n",
       "      <td>582.547273</td>\n",
       "      <td>586.154091</td>\n",
       "      <td>577.790455</td>\n",
       "    </tr>\n",
       "    <tr>\n",
       "      <th>2014-08-31</th>\n",
       "      <td>572.581905</td>\n",
       "      <td>575.641429</td>\n",
       "      <td>568.403333</td>\n",
       "    </tr>\n",
       "    <tr>\n",
       "      <th>2014-09-30</th>\n",
       "      <td>579.969048</td>\n",
       "      <td>583.483333</td>\n",
       "      <td>576.194762</td>\n",
       "    </tr>\n",
       "    <tr>\n",
       "      <th>2014-10-31</th>\n",
       "      <td>546.835217</td>\n",
       "      <td>551.693478</td>\n",
       "      <td>540.310000</td>\n",
       "    </tr>\n",
       "    <tr>\n",
       "      <th>2014-11-30</th>\n",
       "      <td>542.769474</td>\n",
       "      <td>544.988947</td>\n",
       "      <td>538.425789</td>\n",
       "    </tr>\n",
       "    <tr>\n",
       "      <th>2014-12-31</th>\n",
       "      <td>523.532273</td>\n",
       "      <td>528.008636</td>\n",
       "      <td>519.017273</td>\n",
       "    </tr>\n",
       "    <tr>\n",
       "      <th>2015-01-31</th>\n",
       "      <td>511.819500</td>\n",
       "      <td>516.453000</td>\n",
       "      <td>505.306500</td>\n",
       "    </tr>\n",
       "    <tr>\n",
       "      <th>2015-02-28</th>\n",
       "      <td>534.447368</td>\n",
       "      <td>540.111053</td>\n",
       "      <td>530.943684</td>\n",
       "    </tr>\n",
       "    <tr>\n",
       "      <th>2015-03-31</th>\n",
       "      <td>558.825909</td>\n",
       "      <td>562.626818</td>\n",
       "      <td>554.056364</td>\n",
       "    </tr>\n",
       "    <tr>\n",
       "      <th>2015-04-30</th>\n",
       "      <td>539.967619</td>\n",
       "      <td>543.839524</td>\n",
       "      <td>535.114762</td>\n",
       "    </tr>\n",
       "    <tr>\n",
       "      <th>2015-05-31</th>\n",
       "      <td>535.470500</td>\n",
       "      <td>539.167000</td>\n",
       "      <td>530.857000</td>\n",
       "    </tr>\n",
       "    <tr>\n",
       "      <th>2015-06-30</th>\n",
       "      <td>533.834545</td>\n",
       "      <td>536.315455</td>\n",
       "      <td>530.060909</td>\n",
       "    </tr>\n",
       "    <tr>\n",
       "      <th>2015-07-31</th>\n",
       "      <td>588.200455</td>\n",
       "      <td>596.199091</td>\n",
       "      <td>582.965455</td>\n",
       "    </tr>\n",
       "    <tr>\n",
       "      <th>2015-08-31</th>\n",
       "      <td>639.427143</td>\n",
       "      <td>646.269524</td>\n",
       "      <td>629.205714</td>\n",
       "    </tr>\n",
       "    <tr>\n",
       "      <th>2015-09-30</th>\n",
       "      <td>618.796190</td>\n",
       "      <td>624.522857</td>\n",
       "      <td>611.291429</td>\n",
       "    </tr>\n",
       "    <tr>\n",
       "      <th>2015-10-31</th>\n",
       "      <td>662.285909</td>\n",
       "      <td>669.261818</td>\n",
       "      <td>655.553636</td>\n",
       "    </tr>\n",
       "    <tr>\n",
       "      <th>2015-11-30</th>\n",
       "      <td>733.636000</td>\n",
       "      <td>740.525000</td>\n",
       "      <td>728.927500</td>\n",
       "    </tr>\n",
       "    <tr>\n",
       "      <th>2015-12-31</th>\n",
       "      <td>756.099545</td>\n",
       "      <td>762.109091</td>\n",
       "      <td>747.239091</td>\n",
       "    </tr>\n",
       "    <tr>\n",
       "      <th>2016-01-31</th>\n",
       "      <td>719.503158</td>\n",
       "      <td>728.157368</td>\n",
       "      <td>708.215789</td>\n",
       "    </tr>\n",
       "    <tr>\n",
       "      <th>2016-02-29</th>\n",
       "      <td>706.349000</td>\n",
       "      <td>714.834000</td>\n",
       "      <td>695.218500</td>\n",
       "    </tr>\n",
       "    <tr>\n",
       "      <th>2016-03-31</th>\n",
       "      <td>725.265455</td>\n",
       "      <td>731.451818</td>\n",
       "      <td>720.085000</td>\n",
       "    </tr>\n",
       "    <tr>\n",
       "      <th>2016-04-30</th>\n",
       "      <td>738.445714</td>\n",
       "      <td>743.298571</td>\n",
       "      <td>730.868571</td>\n",
       "    </tr>\n",
       "    <tr>\n",
       "      <th>2016-05-31</th>\n",
       "      <td>709.893333</td>\n",
       "      <td>716.626190</td>\n",
       "      <td>706.505714</td>\n",
       "    </tr>\n",
       "    <tr>\n",
       "      <th>2016-06-30</th>\n",
       "      <td>707.735909</td>\n",
       "      <td>711.673182</td>\n",
       "      <td>702.038182</td>\n",
       "    </tr>\n",
       "    <tr>\n",
       "      <th>2016-07-31</th>\n",
       "      <td>724.190500</td>\n",
       "      <td>728.536000</td>\n",
       "      <td>720.317500</td>\n",
       "    </tr>\n",
       "    <tr>\n",
       "      <th>2016-08-31</th>\n",
       "      <td>774.482609</td>\n",
       "      <td>779.102609</td>\n",
       "      <td>771.985652</td>\n",
       "    </tr>\n",
       "    <tr>\n",
       "      <th>2016-09-30</th>\n",
       "      <td>772.894762</td>\n",
       "      <td>777.692857</td>\n",
       "      <td>768.629048</td>\n",
       "    </tr>\n",
       "    <tr>\n",
       "      <th>2016-10-31</th>\n",
       "      <td>790.294286</td>\n",
       "      <td>794.388571</td>\n",
       "      <td>784.682857</td>\n",
       "    </tr>\n",
       "    <tr>\n",
       "      <th>2016-11-30</th>\n",
       "      <td>768.068571</td>\n",
       "      <td>775.368571</td>\n",
       "      <td>759.573333</td>\n",
       "    </tr>\n",
       "    <tr>\n",
       "      <th>2016-12-31</th>\n",
       "      <td>782.312857</td>\n",
       "      <td>787.090000</td>\n",
       "      <td>776.667619</td>\n",
       "    </tr>\n",
       "  </tbody>\n",
       "</table>\n",
       "</div>"
      ],
      "text/plain": [
       "                  Open        High         Low\n",
       "Date                                          \n",
       "2012-01-31  307.354000  308.948000  303.780000\n",
       "2012-02-29  301.353000  303.621000  299.525000\n",
       "2012-03-31  312.104545  314.782273  309.808182\n",
       "2012-04-30  309.498500  311.969000  306.244000\n",
       "2012-05-31  301.883182  305.098636  298.618182\n",
       "2012-06-30  284.581429  286.526667  281.693810\n",
       "2012-07-31  296.090476  299.129524  293.545714\n",
       "2012-08-31  328.430000  331.832174  326.998261\n",
       "2012-09-30  356.254737  360.196316  354.043158\n",
       "2012-10-31  363.969524  366.323333  358.290000\n",
       "2012-11-30  333.640476  336.766190  330.474286\n",
       "2012-12-31  350.513500  353.217500  347.692000\n",
       "2013-01-31  365.391429  368.537143  362.889524\n",
       "2013-02-28  390.512632  394.145789  388.451053\n",
       "2013-03-31  407.798000  410.025500  405.226000\n",
       "2013-04-30  396.128636  399.636818  392.278182\n",
       "2013-05-31  435.655909  439.790455  433.010000\n",
       "2013-06-30  437.531000  440.384000  433.806000\n",
       "2013-07-31  449.122727  451.882273  445.738182\n",
       "2013-08-31  436.983636  438.944545  434.236364\n",
       "2013-09-30  440.612500  443.201500  437.825000\n",
       "2013-10-31  466.113043  470.880000  462.944783\n",
       "2013-11-30  513.105000  516.917500  510.623500\n",
       "2013-12-31  539.631429  543.059524  536.401905\n",
       "2014-01-31  567.653810  570.628571  561.246190\n",
       "2014-02-28  592.472105  596.577368  588.668421\n",
       "2014-03-31  593.049048  595.711429  585.746190\n",
       "2014-04-30  542.480952  548.086667  531.583333\n",
       "2014-05-31  531.676667  536.100000  526.968571\n",
       "2014-06-30  556.316190  559.991429  551.249524\n",
       "2014-07-31  582.547273  586.154091  577.790455\n",
       "2014-08-31  572.581905  575.641429  568.403333\n",
       "2014-09-30  579.969048  583.483333  576.194762\n",
       "2014-10-31  546.835217  551.693478  540.310000\n",
       "2014-11-30  542.769474  544.988947  538.425789\n",
       "2014-12-31  523.532273  528.008636  519.017273\n",
       "2015-01-31  511.819500  516.453000  505.306500\n",
       "2015-02-28  534.447368  540.111053  530.943684\n",
       "2015-03-31  558.825909  562.626818  554.056364\n",
       "2015-04-30  539.967619  543.839524  535.114762\n",
       "2015-05-31  535.470500  539.167000  530.857000\n",
       "2015-06-30  533.834545  536.315455  530.060909\n",
       "2015-07-31  588.200455  596.199091  582.965455\n",
       "2015-08-31  639.427143  646.269524  629.205714\n",
       "2015-09-30  618.796190  624.522857  611.291429\n",
       "2015-10-31  662.285909  669.261818  655.553636\n",
       "2015-11-30  733.636000  740.525000  728.927500\n",
       "2015-12-31  756.099545  762.109091  747.239091\n",
       "2016-01-31  719.503158  728.157368  708.215789\n",
       "2016-02-29  706.349000  714.834000  695.218500\n",
       "2016-03-31  725.265455  731.451818  720.085000\n",
       "2016-04-30  738.445714  743.298571  730.868571\n",
       "2016-05-31  709.893333  716.626190  706.505714\n",
       "2016-06-30  707.735909  711.673182  702.038182\n",
       "2016-07-31  724.190500  728.536000  720.317500\n",
       "2016-08-31  774.482609  779.102609  771.985652\n",
       "2016-09-30  772.894762  777.692857  768.629048\n",
       "2016-10-31  790.294286  794.388571  784.682857\n",
       "2016-11-30  768.068571  775.368571  759.573333\n",
       "2016-12-31  782.312857  787.090000  776.667619"
      ]
     },
     "execution_count": 68,
     "metadata": {},
     "output_type": "execute_result"
    }
   ],
   "source": [
    "#Aylık ortalamaları aldık\n",
    "google.resample(\"M\").mean()"
   ]
  },
  {
   "cell_type": "code",
   "execution_count": 69,
   "id": "e817ea65-8919-45d6-a662-ce5d16cc1767",
   "metadata": {},
   "outputs": [
    {
     "data": {
      "text/html": [
       "<div>\n",
       "<style scoped>\n",
       "    .dataframe tbody tr th:only-of-type {\n",
       "        vertical-align: middle;\n",
       "    }\n",
       "\n",
       "    .dataframe tbody tr th {\n",
       "        vertical-align: top;\n",
       "    }\n",
       "\n",
       "    .dataframe thead th {\n",
       "        text-align: right;\n",
       "    }\n",
       "</style>\n",
       "<table border=\"1\" class=\"dataframe\">\n",
       "  <thead>\n",
       "    <tr style=\"text-align: right;\">\n",
       "      <th></th>\n",
       "      <th>Open</th>\n",
       "      <th>High</th>\n",
       "      <th>Low</th>\n",
       "    </tr>\n",
       "    <tr>\n",
       "      <th>Date</th>\n",
       "      <th></th>\n",
       "      <th></th>\n",
       "      <th></th>\n",
       "    </tr>\n",
       "  </thead>\n",
       "  <tbody>\n",
       "    <tr>\n",
       "      <th>2012-01-31</th>\n",
       "      <td>6147.08</td>\n",
       "      <td>6178.96</td>\n",
       "      <td>6075.60</td>\n",
       "    </tr>\n",
       "    <tr>\n",
       "      <th>2012-02-29</th>\n",
       "      <td>6027.06</td>\n",
       "      <td>6072.42</td>\n",
       "      <td>5990.50</td>\n",
       "    </tr>\n",
       "    <tr>\n",
       "      <th>2012-03-31</th>\n",
       "      <td>6866.30</td>\n",
       "      <td>6925.21</td>\n",
       "      <td>6815.78</td>\n",
       "    </tr>\n",
       "    <tr>\n",
       "      <th>2012-04-30</th>\n",
       "      <td>6189.97</td>\n",
       "      <td>6239.38</td>\n",
       "      <td>6124.88</td>\n",
       "    </tr>\n",
       "    <tr>\n",
       "      <th>2012-05-31</th>\n",
       "      <td>6641.43</td>\n",
       "      <td>6712.17</td>\n",
       "      <td>6569.60</td>\n",
       "    </tr>\n",
       "    <tr>\n",
       "      <th>2012-06-30</th>\n",
       "      <td>5976.21</td>\n",
       "      <td>6017.06</td>\n",
       "      <td>5915.57</td>\n",
       "    </tr>\n",
       "    <tr>\n",
       "      <th>2012-07-31</th>\n",
       "      <td>6217.90</td>\n",
       "      <td>6281.72</td>\n",
       "      <td>6164.46</td>\n",
       "    </tr>\n",
       "    <tr>\n",
       "      <th>2012-08-31</th>\n",
       "      <td>7553.89</td>\n",
       "      <td>7632.14</td>\n",
       "      <td>7520.96</td>\n",
       "    </tr>\n",
       "    <tr>\n",
       "      <th>2012-09-30</th>\n",
       "      <td>6768.84</td>\n",
       "      <td>6843.73</td>\n",
       "      <td>6726.82</td>\n",
       "    </tr>\n",
       "    <tr>\n",
       "      <th>2012-10-31</th>\n",
       "      <td>7643.36</td>\n",
       "      <td>7692.79</td>\n",
       "      <td>7524.09</td>\n",
       "    </tr>\n",
       "    <tr>\n",
       "      <th>2012-11-30</th>\n",
       "      <td>7006.45</td>\n",
       "      <td>7072.09</td>\n",
       "      <td>6939.96</td>\n",
       "    </tr>\n",
       "    <tr>\n",
       "      <th>2012-12-31</th>\n",
       "      <td>7010.27</td>\n",
       "      <td>7064.35</td>\n",
       "      <td>6953.84</td>\n",
       "    </tr>\n",
       "    <tr>\n",
       "      <th>2013-01-31</th>\n",
       "      <td>7673.22</td>\n",
       "      <td>7739.28</td>\n",
       "      <td>7620.68</td>\n",
       "    </tr>\n",
       "    <tr>\n",
       "      <th>2013-02-28</th>\n",
       "      <td>7419.74</td>\n",
       "      <td>7488.77</td>\n",
       "      <td>7380.57</td>\n",
       "    </tr>\n",
       "    <tr>\n",
       "      <th>2013-03-31</th>\n",
       "      <td>8155.96</td>\n",
       "      <td>8200.51</td>\n",
       "      <td>8104.52</td>\n",
       "    </tr>\n",
       "    <tr>\n",
       "      <th>2013-04-30</th>\n",
       "      <td>8714.83</td>\n",
       "      <td>8792.01</td>\n",
       "      <td>8630.12</td>\n",
       "    </tr>\n",
       "    <tr>\n",
       "      <th>2013-05-31</th>\n",
       "      <td>9584.43</td>\n",
       "      <td>9675.39</td>\n",
       "      <td>9526.22</td>\n",
       "    </tr>\n",
       "    <tr>\n",
       "      <th>2013-06-30</th>\n",
       "      <td>8750.62</td>\n",
       "      <td>8807.68</td>\n",
       "      <td>8676.12</td>\n",
       "    </tr>\n",
       "    <tr>\n",
       "      <th>2013-07-31</th>\n",
       "      <td>9880.70</td>\n",
       "      <td>9941.41</td>\n",
       "      <td>9806.24</td>\n",
       "    </tr>\n",
       "    <tr>\n",
       "      <th>2013-08-31</th>\n",
       "      <td>9613.64</td>\n",
       "      <td>9656.78</td>\n",
       "      <td>9553.20</td>\n",
       "    </tr>\n",
       "    <tr>\n",
       "      <th>2013-09-30</th>\n",
       "      <td>8812.25</td>\n",
       "      <td>8864.03</td>\n",
       "      <td>8756.50</td>\n",
       "    </tr>\n",
       "    <tr>\n",
       "      <th>2013-10-31</th>\n",
       "      <td>10720.60</td>\n",
       "      <td>10830.24</td>\n",
       "      <td>10647.73</td>\n",
       "    </tr>\n",
       "    <tr>\n",
       "      <th>2013-11-30</th>\n",
       "      <td>10262.10</td>\n",
       "      <td>10338.35</td>\n",
       "      <td>10212.47</td>\n",
       "    </tr>\n",
       "    <tr>\n",
       "      <th>2013-12-31</th>\n",
       "      <td>11332.26</td>\n",
       "      <td>11404.25</td>\n",
       "      <td>11264.44</td>\n",
       "    </tr>\n",
       "    <tr>\n",
       "      <th>2014-01-31</th>\n",
       "      <td>11920.73</td>\n",
       "      <td>11983.20</td>\n",
       "      <td>11786.17</td>\n",
       "    </tr>\n",
       "    <tr>\n",
       "      <th>2014-02-28</th>\n",
       "      <td>11256.97</td>\n",
       "      <td>11334.97</td>\n",
       "      <td>11184.70</td>\n",
       "    </tr>\n",
       "    <tr>\n",
       "      <th>2014-03-31</th>\n",
       "      <td>12454.03</td>\n",
       "      <td>12509.94</td>\n",
       "      <td>12300.67</td>\n",
       "    </tr>\n",
       "    <tr>\n",
       "      <th>2014-04-30</th>\n",
       "      <td>11392.10</td>\n",
       "      <td>11509.82</td>\n",
       "      <td>11163.25</td>\n",
       "    </tr>\n",
       "    <tr>\n",
       "      <th>2014-05-31</th>\n",
       "      <td>11165.21</td>\n",
       "      <td>11258.10</td>\n",
       "      <td>11066.34</td>\n",
       "    </tr>\n",
       "    <tr>\n",
       "      <th>2014-06-30</th>\n",
       "      <td>11682.64</td>\n",
       "      <td>11759.82</td>\n",
       "      <td>11576.24</td>\n",
       "    </tr>\n",
       "    <tr>\n",
       "      <th>2014-07-31</th>\n",
       "      <td>12816.04</td>\n",
       "      <td>12895.39</td>\n",
       "      <td>12711.39</td>\n",
       "    </tr>\n",
       "    <tr>\n",
       "      <th>2014-08-31</th>\n",
       "      <td>12024.22</td>\n",
       "      <td>12088.47</td>\n",
       "      <td>11936.47</td>\n",
       "    </tr>\n",
       "    <tr>\n",
       "      <th>2014-09-30</th>\n",
       "      <td>12179.35</td>\n",
       "      <td>12253.15</td>\n",
       "      <td>12100.09</td>\n",
       "    </tr>\n",
       "    <tr>\n",
       "      <th>2014-10-31</th>\n",
       "      <td>12577.21</td>\n",
       "      <td>12688.95</td>\n",
       "      <td>12427.13</td>\n",
       "    </tr>\n",
       "    <tr>\n",
       "      <th>2014-11-30</th>\n",
       "      <td>10312.62</td>\n",
       "      <td>10354.79</td>\n",
       "      <td>10230.09</td>\n",
       "    </tr>\n",
       "    <tr>\n",
       "      <th>2014-12-31</th>\n",
       "      <td>11517.71</td>\n",
       "      <td>11616.19</td>\n",
       "      <td>11418.38</td>\n",
       "    </tr>\n",
       "    <tr>\n",
       "      <th>2015-01-31</th>\n",
       "      <td>10236.39</td>\n",
       "      <td>10329.06</td>\n",
       "      <td>10106.13</td>\n",
       "    </tr>\n",
       "    <tr>\n",
       "      <th>2015-02-28</th>\n",
       "      <td>10154.50</td>\n",
       "      <td>10262.11</td>\n",
       "      <td>10087.93</td>\n",
       "    </tr>\n",
       "    <tr>\n",
       "      <th>2015-03-31</th>\n",
       "      <td>12294.17</td>\n",
       "      <td>12377.79</td>\n",
       "      <td>12189.24</td>\n",
       "    </tr>\n",
       "    <tr>\n",
       "      <th>2015-04-30</th>\n",
       "      <td>11339.32</td>\n",
       "      <td>11420.63</td>\n",
       "      <td>11237.41</td>\n",
       "    </tr>\n",
       "    <tr>\n",
       "      <th>2015-05-31</th>\n",
       "      <td>10709.41</td>\n",
       "      <td>10783.34</td>\n",
       "      <td>10617.14</td>\n",
       "    </tr>\n",
       "    <tr>\n",
       "      <th>2015-06-30</th>\n",
       "      <td>11744.36</td>\n",
       "      <td>11798.94</td>\n",
       "      <td>11661.34</td>\n",
       "    </tr>\n",
       "    <tr>\n",
       "      <th>2015-07-31</th>\n",
       "      <td>12940.41</td>\n",
       "      <td>13116.38</td>\n",
       "      <td>12825.24</td>\n",
       "    </tr>\n",
       "    <tr>\n",
       "      <th>2015-08-31</th>\n",
       "      <td>13427.97</td>\n",
       "      <td>13571.66</td>\n",
       "      <td>13213.32</td>\n",
       "    </tr>\n",
       "    <tr>\n",
       "      <th>2015-09-30</th>\n",
       "      <td>12994.72</td>\n",
       "      <td>13114.98</td>\n",
       "      <td>12837.12</td>\n",
       "    </tr>\n",
       "    <tr>\n",
       "      <th>2015-10-31</th>\n",
       "      <td>14570.29</td>\n",
       "      <td>14723.76</td>\n",
       "      <td>14422.18</td>\n",
       "    </tr>\n",
       "    <tr>\n",
       "      <th>2015-11-30</th>\n",
       "      <td>14672.72</td>\n",
       "      <td>14810.50</td>\n",
       "      <td>14578.55</td>\n",
       "    </tr>\n",
       "    <tr>\n",
       "      <th>2015-12-31</th>\n",
       "      <td>16634.19</td>\n",
       "      <td>16766.40</td>\n",
       "      <td>16439.26</td>\n",
       "    </tr>\n",
       "    <tr>\n",
       "      <th>2016-01-31</th>\n",
       "      <td>13670.56</td>\n",
       "      <td>13834.99</td>\n",
       "      <td>13456.10</td>\n",
       "    </tr>\n",
       "    <tr>\n",
       "      <th>2016-02-29</th>\n",
       "      <td>14126.98</td>\n",
       "      <td>14296.68</td>\n",
       "      <td>13904.37</td>\n",
       "    </tr>\n",
       "    <tr>\n",
       "      <th>2016-03-31</th>\n",
       "      <td>15955.84</td>\n",
       "      <td>16091.94</td>\n",
       "      <td>15841.87</td>\n",
       "    </tr>\n",
       "    <tr>\n",
       "      <th>2016-04-30</th>\n",
       "      <td>15507.36</td>\n",
       "      <td>15609.27</td>\n",
       "      <td>15348.24</td>\n",
       "    </tr>\n",
       "    <tr>\n",
       "      <th>2016-05-31</th>\n",
       "      <td>14907.76</td>\n",
       "      <td>15049.15</td>\n",
       "      <td>14836.62</td>\n",
       "    </tr>\n",
       "    <tr>\n",
       "      <th>2016-06-30</th>\n",
       "      <td>15570.19</td>\n",
       "      <td>15656.81</td>\n",
       "      <td>15444.84</td>\n",
       "    </tr>\n",
       "    <tr>\n",
       "      <th>2016-07-31</th>\n",
       "      <td>14483.81</td>\n",
       "      <td>14570.72</td>\n",
       "      <td>14406.35</td>\n",
       "    </tr>\n",
       "    <tr>\n",
       "      <th>2016-08-31</th>\n",
       "      <td>17813.10</td>\n",
       "      <td>17919.36</td>\n",
       "      <td>17755.67</td>\n",
       "    </tr>\n",
       "    <tr>\n",
       "      <th>2016-09-30</th>\n",
       "      <td>16230.79</td>\n",
       "      <td>16331.55</td>\n",
       "      <td>16141.21</td>\n",
       "    </tr>\n",
       "    <tr>\n",
       "      <th>2016-10-31</th>\n",
       "      <td>16596.18</td>\n",
       "      <td>16682.16</td>\n",
       "      <td>16478.34</td>\n",
       "    </tr>\n",
       "    <tr>\n",
       "      <th>2016-11-30</th>\n",
       "      <td>16129.44</td>\n",
       "      <td>16282.74</td>\n",
       "      <td>15951.04</td>\n",
       "    </tr>\n",
       "    <tr>\n",
       "      <th>2016-12-31</th>\n",
       "      <td>16428.57</td>\n",
       "      <td>16528.89</td>\n",
       "      <td>16310.02</td>\n",
       "    </tr>\n",
       "  </tbody>\n",
       "</table>\n",
       "</div>"
      ],
      "text/plain": [
       "                Open      High       Low\n",
       "Date                                    \n",
       "2012-01-31   6147.08   6178.96   6075.60\n",
       "2012-02-29   6027.06   6072.42   5990.50\n",
       "2012-03-31   6866.30   6925.21   6815.78\n",
       "2012-04-30   6189.97   6239.38   6124.88\n",
       "2012-05-31   6641.43   6712.17   6569.60\n",
       "2012-06-30   5976.21   6017.06   5915.57\n",
       "2012-07-31   6217.90   6281.72   6164.46\n",
       "2012-08-31   7553.89   7632.14   7520.96\n",
       "2012-09-30   6768.84   6843.73   6726.82\n",
       "2012-10-31   7643.36   7692.79   7524.09\n",
       "2012-11-30   7006.45   7072.09   6939.96\n",
       "2012-12-31   7010.27   7064.35   6953.84\n",
       "2013-01-31   7673.22   7739.28   7620.68\n",
       "2013-02-28   7419.74   7488.77   7380.57\n",
       "2013-03-31   8155.96   8200.51   8104.52\n",
       "2013-04-30   8714.83   8792.01   8630.12\n",
       "2013-05-31   9584.43   9675.39   9526.22\n",
       "2013-06-30   8750.62   8807.68   8676.12\n",
       "2013-07-31   9880.70   9941.41   9806.24\n",
       "2013-08-31   9613.64   9656.78   9553.20\n",
       "2013-09-30   8812.25   8864.03   8756.50\n",
       "2013-10-31  10720.60  10830.24  10647.73\n",
       "2013-11-30  10262.10  10338.35  10212.47\n",
       "2013-12-31  11332.26  11404.25  11264.44\n",
       "2014-01-31  11920.73  11983.20  11786.17\n",
       "2014-02-28  11256.97  11334.97  11184.70\n",
       "2014-03-31  12454.03  12509.94  12300.67\n",
       "2014-04-30  11392.10  11509.82  11163.25\n",
       "2014-05-31  11165.21  11258.10  11066.34\n",
       "2014-06-30  11682.64  11759.82  11576.24\n",
       "2014-07-31  12816.04  12895.39  12711.39\n",
       "2014-08-31  12024.22  12088.47  11936.47\n",
       "2014-09-30  12179.35  12253.15  12100.09\n",
       "2014-10-31  12577.21  12688.95  12427.13\n",
       "2014-11-30  10312.62  10354.79  10230.09\n",
       "2014-12-31  11517.71  11616.19  11418.38\n",
       "2015-01-31  10236.39  10329.06  10106.13\n",
       "2015-02-28  10154.50  10262.11  10087.93\n",
       "2015-03-31  12294.17  12377.79  12189.24\n",
       "2015-04-30  11339.32  11420.63  11237.41\n",
       "2015-05-31  10709.41  10783.34  10617.14\n",
       "2015-06-30  11744.36  11798.94  11661.34\n",
       "2015-07-31  12940.41  13116.38  12825.24\n",
       "2015-08-31  13427.97  13571.66  13213.32\n",
       "2015-09-30  12994.72  13114.98  12837.12\n",
       "2015-10-31  14570.29  14723.76  14422.18\n",
       "2015-11-30  14672.72  14810.50  14578.55\n",
       "2015-12-31  16634.19  16766.40  16439.26\n",
       "2016-01-31  13670.56  13834.99  13456.10\n",
       "2016-02-29  14126.98  14296.68  13904.37\n",
       "2016-03-31  15955.84  16091.94  15841.87\n",
       "2016-04-30  15507.36  15609.27  15348.24\n",
       "2016-05-31  14907.76  15049.15  14836.62\n",
       "2016-06-30  15570.19  15656.81  15444.84\n",
       "2016-07-31  14483.81  14570.72  14406.35\n",
       "2016-08-31  17813.10  17919.36  17755.67\n",
       "2016-09-30  16230.79  16331.55  16141.21\n",
       "2016-10-31  16596.18  16682.16  16478.34\n",
       "2016-11-30  16129.44  16282.74  15951.04\n",
       "2016-12-31  16428.57  16528.89  16310.02"
      ]
     },
     "execution_count": 69,
     "metadata": {},
     "output_type": "execute_result"
    }
   ],
   "source": [
    "#Aylık toplamları aldık\n",
    "google.resample(\"M\").sum()"
   ]
  },
  {
   "cell_type": "code",
   "execution_count": 70,
   "id": "7b8affe6-fb84-49e4-8cb6-3ee8da7f65e5",
   "metadata": {},
   "outputs": [
    {
     "data": {
      "text/plain": [
       "Date\n",
       "2012-01-31    307.354000\n",
       "2012-02-29    301.353000\n",
       "2012-03-31    312.104545\n",
       "2012-04-30    309.498500\n",
       "2012-05-31    301.883182\n",
       "2012-06-30    284.581429\n",
       "2012-07-31    296.090476\n",
       "2012-08-31    328.430000\n",
       "2012-09-30    356.254737\n",
       "2012-10-31    363.969524\n",
       "2012-11-30    333.640476\n",
       "2012-12-31    350.513500\n",
       "2013-01-31    365.391429\n",
       "2013-02-28    390.512632\n",
       "2013-03-31    407.798000\n",
       "2013-04-30    396.128636\n",
       "2013-05-31    435.655909\n",
       "2013-06-30    437.531000\n",
       "2013-07-31    449.122727\n",
       "2013-08-31    436.983636\n",
       "2013-09-30    440.612500\n",
       "2013-10-31    466.113043\n",
       "2013-11-30    513.105000\n",
       "2013-12-31    539.631429\n",
       "2014-01-31    567.653810\n",
       "2014-02-28    592.472105\n",
       "2014-03-31    593.049048\n",
       "2014-04-30    542.480952\n",
       "2014-05-31    531.676667\n",
       "2014-06-30    556.316190\n",
       "2014-07-31    582.547273\n",
       "2014-08-31    572.581905\n",
       "2014-09-30    579.969048\n",
       "2014-10-31    546.835217\n",
       "2014-11-30    542.769474\n",
       "2014-12-31    523.532273\n",
       "2015-01-31    511.819500\n",
       "2015-02-28    534.447368\n",
       "2015-03-31    558.825909\n",
       "2015-04-30    539.967619\n",
       "2015-05-31    535.470500\n",
       "2015-06-30    533.834545\n",
       "2015-07-31    588.200455\n",
       "2015-08-31    639.427143\n",
       "2015-09-30    618.796190\n",
       "2015-10-31    662.285909\n",
       "2015-11-30    733.636000\n",
       "2015-12-31    756.099545\n",
       "2016-01-31    719.503158\n",
       "2016-02-29    706.349000\n",
       "2016-03-31    725.265455\n",
       "2016-04-30    738.445714\n",
       "2016-05-31    709.893333\n",
       "2016-06-30    707.735909\n",
       "2016-07-31    724.190500\n",
       "2016-08-31    774.482609\n",
       "2016-09-30    772.894762\n",
       "2016-10-31    790.294286\n",
       "2016-11-30    768.068571\n",
       "2016-12-31    782.312857\n",
       "Freq: M, Name: Open, dtype: float64"
      ]
     },
     "execution_count": 70,
     "metadata": {},
     "output_type": "execute_result"
    }
   ],
   "source": [
    "google[\"Open\"].resample(\"M\").mean()"
   ]
  },
  {
   "cell_type": "code",
   "execution_count": 71,
   "id": "19557882-7b47-4143-b404-78e17e1c9600",
   "metadata": {},
   "outputs": [
    {
     "data": {
      "text/plain": [
       "<AxesSubplot:xlabel='Date'>"
      ]
     },
     "execution_count": 71,
     "metadata": {},
     "output_type": "execute_result"
    },
    {
     "data": {
      "image/png": "[encoded data removed]",
      "text/plain": [
       "<Figure size 432x288 with 1 Axes>"
      ]
     },
     "metadata": {
      "needs_background": "light"
     },
     "output_type": "display_data"
    }
   ],
   "source": [
    "google[\"Open\"].resample(\"M\").mean().plot()"
   ]
  },
  {
   "cell_type": "code",
   "execution_count": 72,
   "id": "0fcb6ded-8bbf-4121-b729-6ef14a34e160",
   "metadata": {},
   "outputs": [],
   "source": [
    "sns.set()"
   ]
  },
  {
   "cell_type": "code",
   "execution_count": 73,
   "id": "d391aaa8-08e9-4e9d-8ced-ca98274ae13a",
   "metadata": {},
   "outputs": [
    {
     "data": {
      "text/plain": [
       "<AxesSubplot:xlabel='Date'>"
      ]
     },
     "execution_count": 73,
     "metadata": {},
     "output_type": "execute_result"
    },
    {
     "data": {
      "image/png": "[encoded data removed]",
      "text/plain": [
       "<Figure size 432x288 with 1 Axes>"
      ]
     },
     "metadata": {},
     "output_type": "display_data"
    }
   ],
   "source": [
    "google[\"Open\"].resample(\"M\").mean().plot()"
   ]
  },
  {
   "cell_type": "code",
   "execution_count": 74,
   "id": "89d9dcdd-0240-4f08-88fa-1ebce7407689",
   "metadata": {},
   "outputs": [
    {
     "data": {
      "text/plain": [
       "<AxesSubplot:xlabel='Date'>"
      ]
     },
     "execution_count": 74,
     "metadata": {},
     "output_type": "execute_result"
    },
    {
     "data": {
      "image/png": "[encoded data removed]",
      "text/plain": [
       "<Figure size 432x288 with 1 Axes>"
      ]
     },
     "metadata": {},
     "output_type": "display_data"
    }
   ],
   "source": [
    "google[\"Open\"].resample(\"Y\").mean().plot()"
   ]
  },
  {
   "cell_type": "code",
   "execution_count": 75,
   "id": "4cada984-2725-4557-8ada-eeb7a8d85119",
   "metadata": {},
   "outputs": [
    {
     "data": {
      "text/plain": [
       "<AxesSubplot:xlabel='Date'>"
      ]
     },
     "execution_count": 75,
     "metadata": {},
     "output_type": "execute_result"
    },
    {
     "data": {
      "image/png": "[encoded data removed]",
      "text/plain": [
       "<Figure size 432x288 with 1 Axes>"
      ]
     },
     "metadata": {},
     "output_type": "display_data"
    }
   ],
   "source": [
    "google[\"Open\"].resample(\"D\").mean().plot()"
   ]
  },
  {
   "cell_type": "code",
   "execution_count": 76,
   "id": "3a29054d-9602-447e-a710-3c46729bc022",
   "metadata": {},
   "outputs": [
    {
     "data": {
      "text/plain": [
       "Timestamp('1970-01-01 00:00:06')"
      ]
     },
     "execution_count": 76,
     "metadata": {},
     "output_type": "execute_result"
    }
   ],
   "source": [
    "#Standart olarak başlangıç tarihi 1 Ocak 1970 olarak alınır\n",
    "x = 6\n",
    "pd.to_datetime(x, unit=\"s\") #Saniye"
   ]
  },
  {
   "cell_type": "code",
   "execution_count": 77,
   "id": "ce4bbc5f-af86-47ff-bdd3-a6fb310a6692",
   "metadata": {},
   "outputs": [
    {
     "data": {
      "text/plain": [
       "Timestamp('1970-01-08 17:11:06')"
      ]
     },
     "execution_count": 77,
     "metadata": {},
     "output_type": "execute_result"
    }
   ],
   "source": [
    "x = 666666\n",
    "pd.to_datetime(x, unit=\"s\")"
   ]
  },
  {
   "cell_type": "code",
   "execution_count": 78,
   "id": "672cb5c0-ac75-4636-88d4-10845899898b",
   "metadata": {},
   "outputs": [
    {
     "data": {
      "text/plain": [
       "Timestamp('1971-04-08 23:06:00')"
      ]
     },
     "execution_count": 78,
     "metadata": {},
     "output_type": "execute_result"
    }
   ],
   "source": [
    "x = 666666\n",
    "pd.to_datetime(x, unit=\"m\") #Dakika"
   ]
  },
  {
   "cell_type": "code",
   "execution_count": 79,
   "id": "9b93be98-e13b-4f6d-949f-863c13438174",
   "metadata": {},
   "outputs": [
    {
     "data": {
      "text/plain": [
       "Timestamp('2046-01-19 18:00:00')"
      ]
     },
     "execution_count": 79,
     "metadata": {},
     "output_type": "execute_result"
    }
   ],
   "source": [
    "x = 666666\n",
    "pd.to_datetime(x, unit=\"h\") #Saat"
   ]
  },
  {
   "cell_type": "code",
   "execution_count": 80,
   "id": "b6c4a13d-1d64-4381-9382-63ab74802926",
   "metadata": {},
   "outputs": [
    {
     "data": {
      "text/plain": [
       "Timestamp('2152-07-11 00:00:00')"
      ]
     },
     "execution_count": 80,
     "metadata": {},
     "output_type": "execute_result"
    }
   ],
   "source": [
    "x = 66666\n",
    "pd.to_datetime(x, unit=\"D\")"
   ]
  },
  {
   "cell_type": "code",
   "execution_count": 81,
   "id": "65fa34da-f16c-42ba-852c-1304812c0084",
   "metadata": {},
   "outputs": [
    {
     "data": {
      "text/plain": [
       "Timestamp('2025-07-01 23:00:36')"
      ]
     },
     "execution_count": 81,
     "metadata": {},
     "output_type": "execute_result"
    }
   ],
   "source": [
    "x = 666\n",
    "pd.to_datetime(x, unit=\"M\")"
   ]
  },
  {
   "cell_type": "code",
   "execution_count": 82,
   "id": "9436aa8b-f55b-43e0-aef7-1713ead4864b",
   "metadata": {},
   "outputs": [
    {
     "data": {
      "text/plain": [
       "Timestamp('2036-01-01 00:07:12')"
      ]
     },
     "execution_count": 82,
     "metadata": {},
     "output_type": "execute_result"
    }
   ],
   "source": [
    "x = 66\n",
    "pd.to_datetime(x, unit=\"Y\")"
   ]
  },
  {
   "cell_type": "code",
   "execution_count": 83,
   "id": "13d97b34-4101-4b7c-9d77-e0a7b54a0d0c",
   "metadata": {},
   "outputs": [],
   "source": [
    "x = pd.Period(1900)"
   ]
  },
  {
   "cell_type": "code",
   "execution_count": 84,
   "id": "8706d8b4-4946-4cc7-bb7a-037a675967ba",
   "metadata": {},
   "outputs": [
    {
     "data": {
      "text/plain": [
       "Period('1900', 'A-DEC')"
      ]
     },
     "execution_count": 84,
     "metadata": {},
     "output_type": "execute_result"
    }
   ],
   "source": [
    "x"
   ]
  },
  {
   "cell_type": "code",
   "execution_count": 85,
   "id": "6dc8dc11-e8be-4cc8-b554-d9f308f47901",
   "metadata": {},
   "outputs": [
    {
     "data": {
      "text/plain": [
       "Timestamp('1900-01-01 00:00:00')"
      ]
     },
     "execution_count": 85,
     "metadata": {},
     "output_type": "execute_result"
    }
   ],
   "source": [
    "x.start_time"
   ]
  },
  {
   "cell_type": "code",
   "execution_count": 86,
   "id": "a08cc2af-2fe2-42f9-8d43-53dc5c002c55",
   "metadata": {},
   "outputs": [
    {
     "data": {
      "text/plain": [
       "Timestamp('1900-12-31 23:59:59.999999999')"
      ]
     },
     "execution_count": 86,
     "metadata": {},
     "output_type": "execute_result"
    }
   ],
   "source": [
    "x.end_time"
   ]
  },
  {
   "cell_type": "code",
   "execution_count": 87,
   "id": "ccfbb2f3-305b-4e5a-9fef-b7620a5aa78c",
   "metadata": {},
   "outputs": [],
   "source": [
    "x = pd.Period(\"1900-01\",freq=\"M\")"
   ]
  },
  {
   "cell_type": "code",
   "execution_count": 88,
   "id": "31661bee-c56f-4b3b-b17c-a3c71be1ec06",
   "metadata": {},
   "outputs": [
    {
     "data": {
      "text/plain": [
       "Timestamp('1900-01-01 00:00:00')"
      ]
     },
     "execution_count": 88,
     "metadata": {},
     "output_type": "execute_result"
    }
   ],
   "source": [
    "x.start_time"
   ]
  },
  {
   "cell_type": "code",
   "execution_count": 89,
   "id": "c575afba-1e82-4301-9ea5-a23b9fe02bef",
   "metadata": {},
   "outputs": [
    {
     "data": {
      "text/plain": [
       "Timestamp('1900-01-31 23:59:59.999999999')"
      ]
     },
     "execution_count": 89,
     "metadata": {},
     "output_type": "execute_result"
    }
   ],
   "source": [
    "x.end_time"
   ]
  },
  {
   "cell_type": "code",
   "execution_count": 91,
   "id": "5357af33-bee0-45b8-8018-3da109264bd5",
   "metadata": {},
   "outputs": [
    {
     "data": {
      "text/plain": [
       "Period('1901-04', 'M')"
      ]
     },
     "execution_count": 91,
     "metadata": {},
     "output_type": "execute_result"
    }
   ],
   "source": [
    "x+15"
   ]
  },
  {
   "cell_type": "code",
   "execution_count": 90,
   "id": "71f77ddf-4caa-48da-8989-f1a92def1fbf",
   "metadata": {},
   "outputs": [
    {
     "data": {
      "text/plain": [
       "Period('1900-01', 'M')"
      ]
     },
     "execution_count": 90,
     "metadata": {},
     "output_type": "execute_result"
    }
   ],
   "source": [
    "x"
   ]
  },
  {
   "cell_type": "code",
   "execution_count": 92,
   "id": "be62d06e-1a9f-443f-90bc-7eb389c6eb15",
   "metadata": {},
   "outputs": [
    {
     "data": {
      "text/plain": [
       "<33 * MonthEnds>"
      ]
     },
     "execution_count": 92,
     "metadata": {},
     "output_type": "execute_result"
    }
   ],
   "source": [
    "x - pd.Period(\"1897-4\")"
   ]
  },
  {
   "cell_type": "code",
   "execution_count": 93,
   "id": "8f4fdc72-d443-4615-8e6c-e5af938cf1e0",
   "metadata": {},
   "outputs": [
    {
     "data": {
      "text/plain": [
       "Period('1900-01', 'M')"
      ]
     },
     "execution_count": 93,
     "metadata": {},
     "output_type": "execute_result"
    }
   ],
   "source": [
    "x"
   ]
  },
  {
   "cell_type": "code",
   "execution_count": 94,
   "id": "094e47b8-8486-4608-8cb9-8de3cf9c05dc",
   "metadata": {},
   "outputs": [
    {
     "data": {
      "text/plain": [
       "Period('1900', 'A-DEC')"
      ]
     },
     "execution_count": 94,
     "metadata": {},
     "output_type": "execute_result"
    }
   ],
   "source": [
    "x.asfreq(\"Y\")"
   ]
  },
  {
   "cell_type": "code",
   "execution_count": null,
   "id": "a8354750-b1bd-4120-961f-43abe61d5965",
   "metadata": {},
   "outputs": [],
   "source": []
  }
 ],
 "metadata": {
  "kernelspec": {
   "display_name": "Python 3 (ipykernel)",
   "language": "python",
   "name": "python3"
  },
  "language_info": {
   "codemirror_mode": {
    "name": "ipython",
    "version": 3
   },
   "file_extension": ".py",
   "mimetype": "text/x-python",
   "name": "python",
   "nbconvert_exporter": "python",
   "pygments_lexer": "ipython3",
   "version": "3.9.7"
  }
 },
 "nbformat": 4,
 "nbformat_minor": 5
}
