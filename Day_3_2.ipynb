{
 "cells": [
  {
   "cell_type": "code",
   "execution_count": null,
   "id": "c1bf71ae-a495-4727-8d3b-ceb5822752ad",
   "metadata": {},
   "outputs": [],
   "source": [
    "#https://pandas.pydata.org/docs/reference/api/pandas.date_range.html\n",
    "#https://docs.python.org/3/library/datetime.html"
   ]
  },
  {
   "cell_type": "code",
   "execution_count": null,
   "id": "1579745d-48d4-4a37-b866-f0f2dcf31e8c",
   "metadata": {},
   "outputs": [],
   "source": [
    "import pandas as pd\n",
    "import numpy as np\n",
    "import matplotlib.pyplot as plt\n",
    "from datetime import datetime\n",
    "import seaborn as sns"
   ]
  },
  {
   "cell_type": "code",
   "execution_count": null,
   "id": "68b4329a-8565-49b9-91ed-3635a922cff2",
   "metadata": {},
   "outputs": [],
   "source": [
    "#Zaman serisi oluşturuyoruz\n",
    "date=[datetime(2022,8,5),datetime(2022,8,10),datetime(2022,8,15),datetime(2022,8,20),datetime(2022,8,25)] "
   ]
  },
  {
   "cell_type": "code",
   "execution_count": null,
   "id": "976296c7-31ef-4c01-88b1-1cf6b34a630f",
   "metadata": {},
   "outputs": [],
   "source": [
    "date"
   ]
  },
  {
   "cell_type": "code",
   "execution_count": null,
   "id": "c7c659d7-c0b8-4a98-899d-7b63b98dffac",
   "metadata": {},
   "outputs": [],
   "source": [
    "#Rastgele zaman serilerimizi oluşturuyoruz\n",
    "timeseries=pd.Series(np.random.randn(5),index=date)\n",
    "timeseries"
   ]
  },
  {
   "cell_type": "code",
   "execution_count": null,
   "id": "0bd80e39-0692-4f7c-97df-a7753a0f15ab",
   "metadata": {},
   "outputs": [],
   "source": [
    "#Zaman serilerimizin indexi\n",
    "timeseries.index"
   ]
  },
  {
   "cell_type": "code",
   "execution_count": null,
   "id": "453f8164-df74-40be-a559-12d9b2dd7407",
   "metadata": {},
   "outputs": [],
   "source": [
    "#Değerimizi zaman serisine çeviriyoruz\n",
    "pd.to_datetime(\"24 sep 1900\")"
   ]
  },
  {
   "cell_type": "code",
   "execution_count": null,
   "id": "2ad3a639-ae36-4427-84ee-00e504bde972",
   "metadata": {},
   "outputs": [],
   "source": [
    "pd.to_datetime(\"sep 24 1900\")"
   ]
  },
  {
   "cell_type": "code",
   "execution_count": null,
   "id": "aa838b5a-5557-4367-9d83-7532931ad86f",
   "metadata": {},
   "outputs": [],
   "source": [
    "pd.to_datetime(\"24.09.1900\")"
   ]
  },
  {
   "cell_type": "code",
   "execution_count": null,
   "id": "8873a0c2-f742-417d-ac11-876f23e550be",
   "metadata": {},
   "outputs": [],
   "source": [
    "pd.to_datetime(\"24 september 1900\")"
   ]
  },
  {
   "cell_type": "code",
   "execution_count": null,
   "id": "5689474e-85e4-4f89-99f6-1476757b5c8b",
   "metadata": {},
   "outputs": [],
   "source": [
    "x = pd.to_datetime(\"24 sep 1900\")\n",
    "y = pd.to_datetime(\"sep 24 1900\")\n",
    "z = pd.to_datetime(\"24.09.1900\")"
   ]
  },
  {
   "cell_type": "code",
   "execution_count": null,
   "id": "a3e3d7a5-c4a5-475a-9b7a-6abbe26805dc",
   "metadata": {},
   "outputs": [],
   "source": [
    "x == y and y ==z"
   ]
  },
  {
   "cell_type": "code",
   "execution_count": null,
   "id": "9886e0a4-241d-48e7-bcf2-f7852c0f26ff",
   "metadata": {},
   "outputs": [],
   "source": [
    "#Periyodunu gün olarak belirliyoruz\n",
    "x.to_period(\"D\")"
   ]
  },
  {
   "cell_type": "code",
   "execution_count": null,
   "id": "e34d3de0-808d-4df8-bc44-89c8e6a9d875",
   "metadata": {},
   "outputs": [],
   "source": [
    "#Periyodunun ay olarak belirliyoruz\n",
    "y.to_period(\"M\")"
   ]
  },
  {
   "cell_type": "code",
   "execution_count": null,
   "id": "9ba64673-c7d0-42e6-a609-92b1307708b6",
   "metadata": {},
   "outputs": [],
   "source": [
    "timeseries"
   ]
  },
  {
   "cell_type": "code",
   "execution_count": null,
   "id": "70764bce-1e63-4793-aaa0-1991edc4d57e",
   "metadata": {},
   "outputs": [],
   "source": [
    "#Zaman serileri üzerinde işlemler yapabiliyoruz\n",
    "timeseries - timeseries[2]"
   ]
  },
  {
   "cell_type": "code",
   "execution_count": null,
   "id": "36b7145e-a9d7-4992-861f-57f25949620c",
   "metadata": {},
   "outputs": [],
   "source": [
    "timeseries - timeseries"
   ]
  },
  {
   "cell_type": "code",
   "execution_count": null,
   "id": "277d115e-4393-4dde-9675-32e1c56f8685",
   "metadata": {},
   "outputs": [],
   "source": [
    "#date_range yardımıyla tarihlerimizi oluşturuyoruz\n",
    "pd.date_range(\"24.9.2021\",\"1.1.2022\")"
   ]
  },
  {
   "cell_type": "code",
   "execution_count": null,
   "id": "0a5573a5-36e6-49d4-a39f-778941dfc6ae",
   "metadata": {},
   "outputs": [],
   "source": [
    "#10ar gün atlayarak tarihlerimizi oluşturuyoruz\n",
    "pd.date_range(\"24.9.2021\",\"1.1.2022\", periods=10)"
   ]
  },
  {
   "cell_type": "code",
   "execution_count": null,
   "id": "ddafd5c7-f53f-476e-b687-cf71442a56f8",
   "metadata": {},
   "outputs": [],
   "source": [
    "pd.date_range(\"24.9.2021\", periods=3, freq=\"H\") #Saat"
   ]
  },
  {
   "cell_type": "code",
   "execution_count": null,
   "id": "7791d843-74dd-4c95-a012-72e35c3cc459",
   "metadata": {},
   "outputs": [],
   "source": [
    "pd.date_range(\"24.9.2021\", periods=3, freq=\"D\") #Gün"
   ]
  },
  {
   "cell_type": "code",
   "execution_count": null,
   "id": "68dba3c7-3ffe-4ac5-8b46-6f9b1eaa2faf",
   "metadata": {},
   "outputs": [],
   "source": [
    "pd.date_range(\"24.9.2021\", periods=3, freq=\"M\") #Ay"
   ]
  },
  {
   "cell_type": "code",
   "execution_count": null,
   "id": "9c8e8d92-637f-4566-ae3d-4413545681f1",
   "metadata": {},
   "outputs": [],
   "source": [
    "pd.date_range(\"24.9.2021\", periods=3, freq=\"A-DEC\") #Yıl"
   ]
  },
  {
   "cell_type": "code",
   "execution_count": null,
   "id": "07a72d1d-a4f1-4272-8e3b-39959e2b7fc7",
   "metadata": {},
   "outputs": [],
   "source": [
    "pd.date_range(\"24.9.2021\", periods=7, freq=\"B\") #İş günleri"
   ]
  },
  {
   "cell_type": "code",
   "execution_count": null,
   "id": "a2267da0-e005-4f88-808c-1cd2b4c83155",
   "metadata": {},
   "outputs": [],
   "source": [
    "pd.period_range(\"24.9.2021\", periods=3, freq=\"H\")"
   ]
  },
  {
   "cell_type": "code",
   "execution_count": null,
   "id": "544e546a-8c6a-48d5-a432-86ec66237e20",
   "metadata": {},
   "outputs": [],
   "source": [
    "pd.period_range(\"24.9.2021\", periods=3, freq=\"D\")"
   ]
  },
  {
   "cell_type": "code",
   "execution_count": null,
   "id": "7f454660-b173-4699-b849-b471eb7ecd18",
   "metadata": {},
   "outputs": [],
   "source": [
    "pd.period_range(\"24.9.2021\", periods=3, freq=\"M\")"
   ]
  },
  {
   "cell_type": "code",
   "execution_count": null,
   "id": "46c77191-8b95-411a-b518-5bb29d235b6f",
   "metadata": {},
   "outputs": [],
   "source": [
    "pd.period_range(\"24.9.2021\", periods=3, freq=\"Y\")"
   ]
  },
  {
   "cell_type": "code",
   "execution_count": null,
   "id": "1572dd7d-8b90-4e1e-89b9-97e14e4aa8bb",
   "metadata": {},
   "outputs": [],
   "source": [
    "pd.timedelta_range(0,periods=3, freq=\"H\")"
   ]
  },
  {
   "cell_type": "code",
   "execution_count": null,
   "id": "a3f8988f-d662-4574-9418-5678fbcb2c85",
   "metadata": {},
   "outputs": [],
   "source": [
    "pd.timedelta_range(0,periods=3, freq=\"D\")"
   ]
  },
  {
   "cell_type": "code",
   "execution_count": null,
   "id": "46636e99-bb9f-4b4a-8e18-52425ee87900",
   "metadata": {},
   "outputs": [],
   "source": [
    "pd.timedelta_range(0,periods=3, freq=\"M\") #Aylar sabit değildir hata alırız"
   ]
  },
  {
   "cell_type": "code",
   "execution_count": null,
   "id": "b4fb4130-19d8-47d9-8fea-f1b607ab669f",
   "metadata": {},
   "outputs": [],
   "source": [
    "pd.timedelta_range(0,periods=3, freq=\"Y\") #Yıllar sabit değildir hata alırız"
   ]
  },
  {
   "cell_type": "code",
   "execution_count": null,
   "id": "a674b9f9-ab22-4754-b92d-224913dd1194",
   "metadata": {},
   "outputs": [],
   "source": [
    "timeseries"
   ]
  },
  {
   "cell_type": "code",
   "execution_count": null,
   "id": "6cd8ebde-7575-40aa-949e-eef48e7b3866",
   "metadata": {},
   "outputs": [],
   "source": [
    "x = timeseries.index[0]"
   ]
  },
  {
   "cell_type": "code",
   "execution_count": null,
   "id": "48f2a848-b1e4-4f2b-a1ee-e81e32bead10",
   "metadata": {},
   "outputs": [],
   "source": [
    "x"
   ]
  },
  {
   "cell_type": "code",
   "execution_count": null,
   "id": "8384f834-5c14-40f2-b809-12e332c3ad6e",
   "metadata": {},
   "outputs": [],
   "source": [
    "timeseries[x]"
   ]
  },
  {
   "cell_type": "code",
   "execution_count": null,
   "id": "8da8bef3-8f84-41a0-9417-75f87f8092e2",
   "metadata": {},
   "outputs": [],
   "source": [
    "timeseries[\"2022-08-05\"]"
   ]
  },
  {
   "cell_type": "code",
   "execution_count": null,
   "id": "7f0261f5-8863-4b7c-9f0b-2b8213978f63",
   "metadata": {},
   "outputs": [],
   "source": [
    "new_ts=pd.Series(np.random.randn(1000),index=pd.date_range(\"24/9/1900\",periods=1000))"
   ]
  },
  {
   "cell_type": "code",
   "execution_count": null,
   "id": "9646c843-1893-4a1a-b11a-0c7877db560a",
   "metadata": {},
   "outputs": [],
   "source": [
    "new_ts"
   ]
  },
  {
   "cell_type": "code",
   "execution_count": null,
   "id": "96c50bec-90f8-4673-8f80-a0b96c37642a",
   "metadata": {},
   "outputs": [],
   "source": [
    "new_ts[\"1901\"]"
   ]
  },
  {
   "cell_type": "code",
   "execution_count": null,
   "id": "5175280f-1cbb-4c69-ba9a-99802e521fd3",
   "metadata": {},
   "outputs": [],
   "source": [
    "new_ts[\"1901-09\"]"
   ]
  },
  {
   "cell_type": "code",
   "execution_count": null,
   "id": "df8c9752-67fa-45f4-a9a0-ee6ef1790fc4",
   "metadata": {},
   "outputs": [],
   "source": [
    "new_ts[datetime(1902,9,30):]"
   ]
  },
  {
   "cell_type": "code",
   "execution_count": null,
   "id": "b74eedd4-a706-4787-a1da-ce507fb6cc30",
   "metadata": {},
   "outputs": [],
   "source": [
    "new_ts[datetime(1902,9,30):datetime(1903,1,30)]"
   ]
  },
  {
   "cell_type": "code",
   "execution_count": null,
   "id": "a21647f2-99a7-487a-8acc-7a7db369bbc3",
   "metadata": {},
   "outputs": [],
   "source": [
    "#Öncesini ve sonrasını filtrelemek için kullanabiliriz\n",
    "new_ts.truncate(after=\"1902-09-30\")"
   ]
  },
  {
   "cell_type": "code",
   "execution_count": null,
   "id": "e09a14c5-0e20-4939-b311-03715a6797ff",
   "metadata": {},
   "outputs": [],
   "source": [
    "date=pd.date_range(\"1/1/2020\",periods=100,freq=\"W-MON\") #Pazartesi günlerini alır"
   ]
  },
  {
   "cell_type": "code",
   "execution_count": null,
   "id": "4cf635c8-604c-4109-8117-ae25608c9558",
   "metadata": {},
   "outputs": [],
   "source": [
    "date"
   ]
  },
  {
   "cell_type": "code",
   "execution_count": null,
   "id": "d7552db3-d843-41a4-92d1-ab43581e9805",
   "metadata": {},
   "outputs": [],
   "source": [
    "date=pd.date_range(start=\"2018\",end=\"2019\", freq=\"BM\") #ayın son günlerini alır"
   ]
  },
  {
   "cell_type": "code",
   "execution_count": null,
   "id": "9420452b-3ce7-4619-8fd3-6ad60e416419",
   "metadata": {},
   "outputs": [],
   "source": [
    "date"
   ]
  },
  {
   "cell_type": "code",
   "execution_count": null,
   "id": "6ead69db-eeda-4e3e-b18a-1da7678966e6",
   "metadata": {},
   "outputs": [],
   "source": [
    "#https://www.kaggle.com/datasets/vaibhavsxn/google-stock-prices-training-and-test-data\n",
    "google = pd.read_csv(\"Google_Stock_Price_Train.csv\")"
   ]
  },
  {
   "cell_type": "code",
   "execution_count": null,
   "id": "22265509-cd1f-458f-927b-acc2b20c7af5",
   "metadata": {},
   "outputs": [],
   "source": [
    "google"
   ]
  },
  {
   "cell_type": "code",
   "execution_count": null,
   "id": "a5be6481-fe50-45e8-b04a-9f37ecfd3e8c",
   "metadata": {},
   "outputs": [],
   "source": [
    "google.dtypes"
   ]
  },
  {
   "cell_type": "code",
   "execution_count": null,
   "id": "015511fc-c360-43d7-8bf1-14dbcb391cc1",
   "metadata": {},
   "outputs": [],
   "source": [
    "google = pd.read_csv(\"Google_Stock_Price_Train.csv\",parse_dates = [\"Date\"], index_col = [\"Date\"])"
   ]
  },
  {
   "cell_type": "code",
   "execution_count": null,
   "id": "ab16fbfe-2c66-4acd-9dc9-3ae9312788f3",
   "metadata": {},
   "outputs": [],
   "source": [
    "google"
   ]
  },
  {
   "cell_type": "code",
   "execution_count": null,
   "id": "5f3a88f2-7400-49d7-8791-201fa88f35a4",
   "metadata": {},
   "outputs": [],
   "source": [
    "google.dtypes"
   ]
  },
  {
   "cell_type": "code",
   "execution_count": null,
   "id": "3c09a413-2bbb-4ddc-92c6-ce1c56a42016",
   "metadata": {},
   "outputs": [],
   "source": [
    "google.loc[\"2016\"]"
   ]
  },
  {
   "cell_type": "code",
   "execution_count": null,
   "id": "dce5abaf-0d13-4617-83aa-7a4242bca5d3",
   "metadata": {},
   "outputs": [],
   "source": [
    "google.loc[\"2016-12\"]"
   ]
  },
  {
   "cell_type": "code",
   "execution_count": null,
   "id": "3eb7817a-3860-48ca-b1e4-4a4795472c7d",
   "metadata": {},
   "outputs": [],
   "source": [
    "google.loc[\"2016-12\"].Open.mean()"
   ]
  },
  {
   "cell_type": "code",
   "execution_count": null,
   "id": "69ad7574-391a-4ac3-866f-19f8ffc50201",
   "metadata": {},
   "outputs": [],
   "source": [
    "google[\"2016-12-02\":\"2016-12-19\"]"
   ]
  },
  {
   "cell_type": "code",
   "execution_count": null,
   "id": "e57e5786-f631-49a2-afda-3e4550f247db",
   "metadata": {},
   "outputs": [],
   "source": [
    "google"
   ]
  },
  {
   "cell_type": "code",
   "execution_count": null,
   "id": "c0b29582-e883-4bc3-adc0-ef61ac50184f",
   "metadata": {},
   "outputs": [],
   "source": [
    "google.index < pd.to_datetime(\"2015-12-23\")"
   ]
  },
  {
   "cell_type": "code",
   "execution_count": null,
   "id": "bfeb75db-810c-48d7-bad7-0db98b9fbda4",
   "metadata": {},
   "outputs": [],
   "source": [
    "google[google.index < pd.to_datetime(\"2015-12-23\")]"
   ]
  },
  {
   "cell_type": "code",
   "execution_count": null,
   "id": "d2eb3a78-8272-4279-becb-31ad131f01f3",
   "metadata": {},
   "outputs": [],
   "source": [
    "#Aylık ortalamaları aldık\n",
    "google.resample(\"M\").mean()"
   ]
  },
  {
   "cell_type": "code",
   "execution_count": null,
   "id": "e817ea65-8919-45d6-a662-ce5d16cc1767",
   "metadata": {},
   "outputs": [],
   "source": [
    "#Aylık toplamları aldık\n",
    "google.resample(\"M\").sum()"
   ]
  },
  {
   "cell_type": "code",
   "execution_count": null,
   "id": "7b8affe6-fb84-49e4-8cb6-3ee8da7f65e5",
   "metadata": {},
   "outputs": [],
   "source": [
    "google[\"Open\"].resample(\"M\").mean()"
   ]
  },
  {
   "cell_type": "code",
   "execution_count": null,
   "id": "19557882-7b47-4143-b404-78e17e1c9600",
   "metadata": {},
   "outputs": [],
   "source": [
    "google[\"Open\"].resample(\"M\").mean().plot()"
   ]
  },
  {
   "cell_type": "code",
   "execution_count": null,
   "id": "0fcb6ded-8bbf-4121-b729-6ef14a34e160",
   "metadata": {},
   "outputs": [],
   "source": [
    "sns.set()"
   ]
  },
  {
   "cell_type": "code",
   "execution_count": null,
   "id": "d391aaa8-08e9-4e9d-8ced-ca98274ae13a",
   "metadata": {},
   "outputs": [],
   "source": [
    "google[\"Open\"].resample(\"M\").mean().plot()"
   ]
  },
  {
   "cell_type": "code",
   "execution_count": null,
   "id": "89d9dcdd-0240-4f08-88fa-1ebce7407689",
   "metadata": {},
   "outputs": [],
   "source": [
    "google[\"Open\"].resample(\"Y\").mean().plot()"
   ]
  },
  {
   "cell_type": "code",
   "execution_count": null,
   "id": "4cada984-2725-4557-8ada-eeb7a8d85119",
   "metadata": {},
   "outputs": [],
   "source": [
    "google[\"Open\"].resample(\"D\").mean().plot()"
   ]
  },
  {
   "cell_type": "code",
   "execution_count": null,
   "id": "3a29054d-9602-447e-a710-3c46729bc022",
   "metadata": {},
   "outputs": [],
   "source": [
    "#Standart olarak başlangıç tarihi 1 Ocak 1970 olarak alınır\n",
    "x = 6\n",
    "pd.to_datetime(x, unit=\"s\") #Saniye"
   ]
  },
  {
   "cell_type": "code",
   "execution_count": null,
   "id": "ce4bbc5f-af86-47ff-bdd3-a6fb310a6692",
   "metadata": {},
   "outputs": [],
   "source": [
    "x = 666666\n",
    "pd.to_datetime(x, unit=\"s\")"
   ]
  },
  {
   "cell_type": "code",
   "execution_count": null,
   "id": "672cb5c0-ac75-4636-88d4-10845899898b",
   "metadata": {},
   "outputs": [],
   "source": [
    "x = 666666\n",
    "pd.to_datetime(x, unit=\"m\") #Dakika"
   ]
  },
  {
   "cell_type": "code",
   "execution_count": null,
   "id": "9b93be98-e13b-4f6d-949f-863c13438174",
   "metadata": {},
   "outputs": [],
   "source": [
    "x = 666666\n",
    "pd.to_datetime(x, unit=\"h\") #Saat"
   ]
  },
  {
   "cell_type": "code",
   "execution_count": null,
   "id": "b6c4a13d-1d64-4381-9382-63ab74802926",
   "metadata": {},
   "outputs": [],
   "source": [
    "x = 66666\n",
    "pd.to_datetime(x, unit=\"D\")"
   ]
  },
  {
   "cell_type": "code",
   "execution_count": null,
   "id": "65fa34da-f16c-42ba-852c-1304812c0084",
   "metadata": {},
   "outputs": [],
   "source": [
    "x = 666\n",
    "pd.to_datetime(x, unit=\"M\")"
   ]
  },
  {
   "cell_type": "code",
   "execution_count": null,
   "id": "9436aa8b-f55b-43e0-aef7-1713ead4864b",
   "metadata": {},
   "outputs": [],
   "source": [
    "x = 66\n",
    "pd.to_datetime(x, unit=\"Y\")"
   ]
  },
  {
   "cell_type": "code",
   "execution_count": null,
   "id": "13d97b34-4101-4b7c-9d77-e0a7b54a0d0c",
   "metadata": {},
   "outputs": [],
   "source": [
    "x = pd.Period(1900)"
   ]
  },
  {
   "cell_type": "code",
   "execution_count": null,
   "id": "8706d8b4-4946-4cc7-bb7a-037a675967ba",
   "metadata": {},
   "outputs": [],
   "source": [
    "x"
   ]
  },
  {
   "cell_type": "code",
   "execution_count": null,
   "id": "6dc8dc11-e8be-4cc8-b554-d9f308f47901",
   "metadata": {},
   "outputs": [],
   "source": [
    "x.start_time"
   ]
  },
  {
   "cell_type": "code",
   "execution_count": null,
   "id": "a08cc2af-2fe2-42f9-8d43-53dc5c002c55",
   "metadata": {},
   "outputs": [],
   "source": [
    "x.end_time"
   ]
  },
  {
   "cell_type": "code",
   "execution_count": null,
   "id": "ccfbb2f3-305b-4e5a-9fef-b7620a5aa78c",
   "metadata": {},
   "outputs": [],
   "source": [
    "x = pd.Period(\"1900-01\",freq=\"M\")"
   ]
  },
  {
   "cell_type": "code",
   "execution_count": null,
   "id": "31661bee-c56f-4b3b-b17c-a3c71be1ec06",
   "metadata": {},
   "outputs": [],
   "source": [
    "x.start_time"
   ]
  },
  {
   "cell_type": "code",
   "execution_count": null,
   "id": "c575afba-1e82-4301-9ea5-a23b9fe02bef",
   "metadata": {},
   "outputs": [],
   "source": [
    "x.end_time"
   ]
  },
  {
   "cell_type": "code",
   "execution_count": null,
   "id": "5357af33-bee0-45b8-8018-3da109264bd5",
   "metadata": {},
   "outputs": [],
   "source": [
    "x+15"
   ]
  },
  {
   "cell_type": "code",
   "execution_count": null,
   "id": "71f77ddf-4caa-48da-8989-f1a92def1fbf",
   "metadata": {},
   "outputs": [],
   "source": [
    "x"
   ]
  },
  {
   "cell_type": "code",
   "execution_count": null,
   "id": "be62d06e-1a9f-443f-90bc-7eb389c6eb15",
   "metadata": {},
   "outputs": [],
   "source": [
    "x - pd.Period(\"1897-4\")"
   ]
  },
  {
   "cell_type": "code",
   "execution_count": null,
   "id": "8f4fdc72-d443-4615-8e6c-e5af938cf1e0",
   "metadata": {},
   "outputs": [],
   "source": [
    "x"
   ]
  },
  {
   "cell_type": "code",
   "execution_count": null,
   "id": "094e47b8-8486-4608-8cb9-8de3cf9c05dc",
   "metadata": {},
   "outputs": [],
   "source": [
    "x.asfreq(\"Y\")"
   ]
  },
  {
   "cell_type": "code",
   "execution_count": null,
   "id": "a8354750-b1bd-4120-961f-43abe61d5965",
   "metadata": {},
   "outputs": [],
   "source": []
  }
 ],
 "metadata": {
  "kernelspec": {
   "display_name": "Python 3 (ipykernel)",
   "language": "python",
   "name": "python3"
  },
  "language_info": {
   "codemirror_mode": {
    "name": "ipython",
    "version": 3
   },
   "file_extension": ".py",
   "mimetype": "text/x-python",
   "name": "python",
   "nbconvert_exporter": "python",
   "pygments_lexer": "ipython3",
   "version": "3.9.7"
  }
 },
 "nbformat": 4,
 "nbformat_minor": 5
}
